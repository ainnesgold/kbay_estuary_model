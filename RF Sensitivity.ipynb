{
 "cells": [
  {
   "cell_type": "markdown",
   "metadata": {},
   "source": [
    "# RF Sensitivity Analysis - Supermodel"
   ]
  },
  {
   "cell_type": "code",
   "execution_count": 2,
   "metadata": {},
   "outputs": [],
   "source": [
    "import numpy as np\n",
    "import matplotlib.pyplot as plt\n",
    "from matplotlib import rc\n",
    "import seaborn as sns\n",
    "import pandas as pd\n",
    "pd.set_option('display.max_columns', None)\n",
    "from scipy import stats\n",
    "from scipy.optimize import curve_fit\n",
    "from scipy.integrate import odeint\n",
    "from scipy.integrate import solve_ivp\n",
    "import sklearn\n",
    "from sklearn.ensemble import RandomForestRegressor\n",
    "from sklearn.metrics import mean_squared_error, r2_score"
   ]
  },
  {
   "cell_type": "code",
   "execution_count": 3,
   "metadata": {},
   "outputs": [],
   "source": [
    "def dNdt(H, P, PH, N, parameters_dict):\n",
    "    # Unpacking parameters\n",
    "    r_H = parameters_dict['r_H']\n",
    "    K_H = parameters_dict['K_H']\n",
    "    theta_H = parameters_dict['theta_H']\n",
    "    c = parameters_dict['c']\n",
    "    d = parameters_dict['d']\n",
    "    q_H = parameters_dict['q_H']\n",
    "    E_H = parameters_dict['E_H']\n",
    "    m_H = parameters_dict['m_H']\n",
    "    r_P = parameters_dict['r_P']\n",
    "    K_P = parameters_dict['K_P']\n",
    "    b = parameters_dict['b']\n",
    "    theta_P = parameters_dict['theta_P']\n",
    "    q_P = parameters_dict['q_P']\n",
    "    E_P = parameters_dict['E_P']\n",
    "    m_P = parameters_dict['m_P']\n",
    "    v_m = parameters_dict['v_m']\n",
    "    k_s = parameters_dict['k_s']\n",
    "    m_ph = parameters_dict['m_ph']\n",
    "    y = parameters_dict['y']\n",
    "    r_m = parameters_dict['r_m']\n",
    "    kg = parameters_dict['kg']\n",
    "    N_pulse = parameters_dict['N_pulse']\n",
    "\n",
    "\n",
    "    # Calculate derivatives\n",
    "    dH = r_H * H * (1 - H / K_H) + ((1 - y) * r_m * (kg ** -1 * PH * (1 - np.exp(-kg ** -1 * PH))) * H) * (1 - H / K_H) - (\n",
    "                c * H * P) / (d + H) + theta_H - (q_H * E_H * H) - (m_H * H)\n",
    "    dP = r_P * P * (1 - P / K_P) + (b * H * P) / (d + H) + theta_P - q_P * E_P * P - m_P * P\n",
    "    dPH = ((v_m * N * PH) / (k_s + N)) - (m_ph * PH) - ((r_m * (kg ** -1 * PH * (1 - np.exp(-kg ** -1 * PH)))) * H)\n",
    "    dN = -(PH * (v_m * N) / (k_s + N)) + (0.5 * m_ph * PH) + (0.5 * m_H * H) + (1 * y * (r_m * (kg ** -1 * PH * (1 - np.exp(-kg ** -1 * PH)))) * H) + (\n",
    "                0.5 * m_P * P)\n",
    "\n",
    "    return dH, dP, dPH, dN"
   ]
  },
  {
   "cell_type": "code",
   "execution_count": 4,
   "metadata": {},
   "outputs": [],
   "source": [
    "# Function: numerical solver, 2nd order RK \n",
    "\n",
    "def RK2(H, P, PH, N, parameters_dict):\n",
    "    H_init = H\n",
    "    P_init = P\n",
    "    PH_init = PH \n",
    "    N_init = N \n",
    "    \n",
    "    dH1, dP1, dPH1, dN1 = dNdt(H, P, PH, N, parameters_dict)\n",
    "    \n",
    "    H1 = H + 0.5 * dH1 #* dt\n",
    "    P1 = P + 0.5 * dP1 #* dt\n",
    "    PH1 = PH + 0.5 * dPH1 #* dt\n",
    "    N1 = N + 0.5 * dN1 #* dt\n",
    "    \n",
    "    dH2, dP2, dPH2, dN2 = dNdt(H1, P1, PH1, N1, parameters_dict)\n",
    "    \n",
    "    dH_ave = (dH1+dH2)/2 \n",
    "    dP_ave = (dP1+dP2)/2\n",
    "    dPH_ave = (dPH1+dPH2)/2\n",
    "    dN_ave = (dN1+dN2)/2\n",
    "    \n",
    "    H = (H_init + dH_ave) #* dt #(include as another param)\n",
    "    P = (P_init + dP_ave) #* dt\n",
    "    PH = (PH_init + dPH_ave) #* dt \n",
    "    N = (N_init + dN_ave) #* dt\n",
    "    \n",
    "    if H < 0:\n",
    "        H = 0 \n",
    "        \n",
    "    if P < 0:\n",
    "        P = 0 \n",
    "    \n",
    "    if PH < 0:\n",
    "        PH = 0 \n",
    "        \n",
    "    if N < 0:\n",
    "        N = 0\n",
    "        \n",
    "    \n",
    "    #Calculate harvest \n",
    "    q_H = parameters_dict['q_H'] #proportionality constant for herbivore harvest \n",
    "    E_H = parameters_dict['E_H'] #Effort for herbivore harvest\n",
    "    \n",
    "    q_P = parameters_dict['q_P'] #proportionality constant for herbivore harvest \n",
    "    E_P = parameters_dict['E_P'] #Effort for herbivore harvest\n",
    "    \n",
    "    herbivore_harvest = q_H*E_H*H\n",
    "    predator_harvest = q_P*E_P*P\n",
    "    \n",
    "    #Calculate grazing \n",
    "    r_m = parameters_dict['r_m'] # grazing of fish on phytoplankton\n",
    "    kg = parameters_dict['kg']\n",
    "    \n",
    "    grazing = r_m * (kg**-1 * PH * (1 - np.exp(-kg**-1 * PH))) * H\n",
    "    \n",
    "    return H, P, PH, N, herbivore_harvest, predator_harvest, grazing"
   ]
  },
  {
   "cell_type": "code",
   "execution_count": 5,
   "metadata": {},
   "outputs": [],
   "source": [
    "\n",
    "def run_model(INIT_H, INIT_P, INIT_PH, INIT_N, parameters_dict):\n",
    "    \n",
    "    numyears = parameters_dict['numyears']\n",
    "    \n",
    "    \n",
    "    H_array = np.zeros(numyears+1)\n",
    "    P_array = np.zeros(numyears+1)\n",
    "    PH_array = np.zeros(numyears+1)\n",
    "    N_array = np.zeros(numyears+1)\n",
    "    H_harvest_array = np.zeros(numyears+1)\n",
    "    P_harvest_array = np.zeros(numyears+1)\n",
    "    grazing_array = np.zeros(numyears+1)\n",
    "    \n",
    "    H_array[0] = INIT_H #Starting biomass of herbivore\n",
    "    P_array[0] = INIT_P #Starting biomass of predator \n",
    "    PH_array[0] = INIT_PH #Starting biomass of phytoplankton\n",
    "    N_array[0] = INIT_N #Starting biomass of nutrients\n",
    "    H_harvest_array[0] = 0\n",
    "    P_harvest_array[0] = 0\n",
    "    grazing_array[0] = 0\n",
    "  \n",
    "    \n",
    "    for i in np.arange(0,numyears):\n",
    "        H_array[i+1], P_array[i+1], PH_array[i+1], N_array[i+1], H_harvest_array[i+1], P_harvest_array[i+1], grazing_array[i+1], \\\n",
    "            = RK2(H_array[i], P_array[i], PH_array[i], N_array[i], parameters_dict)\n",
    "        \n",
    "        # Check if it's time to add a pulse of nutrients\n",
    "        if (i + 1) % 30 == 0:\n",
    "            N_pulse = parameters_dict['N_pulse']  # Define the magnitude of the nutrient pulse\n",
    "            N_array[i + 1] += N_pulse  # Add the nutrient pulse\n",
    "        \n",
    "    \n",
    "    return H_array, P_array, PH_array, N_array, H_harvest_array, P_harvest_array, grazing_array"
   ]
  },
  {
   "cell_type": "code",
   "execution_count": 6,
   "metadata": {},
   "outputs": [],
   "source": [
    "numyears = 36500 # number of years to run simulation\n",
    "\n",
    "#Herbivore parameters:\n",
    "r_H = (0.4/365) # prey growth rate\n",
    "K_H = 50 # carrying capacity of herbivores\n",
    "theta_H = 0 # immigration of herbivores\n",
    "c = (0.4/365) # addition to predator from prey\n",
    "d = 50 # value of H when predation half its max value\n",
    "q_H = 1.0 # proportionality constant for herbivore harvest\n",
    "E_H = (0.15/365) # Effort for herbivore harvest\n",
    "m_H = (0.1/365) # Herbivore mortality \n",
    "\n",
    "#Predator parameters:\n",
    "r_P = (0.1/365) # growth rate of predator \n",
    "K_P = 10 # carrying capactiy of predators \n",
    "b = (0.4/365) # mortality to prey from predator\n",
    "theta_P = 0 # immigration of predators  \n",
    "q_P = 1.0 # proportionality constant for predators harvest\n",
    "E_P = (0.15/365) # Effort for predator harvest\n",
    "m_P = (0.01/365) # Predator mortality\n",
    "\n",
    "#Phytoplankton parameters: \n",
    "v_m = (2.0) # max growth rate of phytoplankton ## daily rate ?\n",
    "k_s = 1 # half saturation constant\n",
    "m_ph = 0.03 # phytoplankton mortality ## daily rate ?\n",
    "y = 0.1 # unassimilated phytoplankton \n",
    "\n",
    "#Grazing parameters: \n",
    "r_m = 1.1 #1.1 # grazing of fish on phytoplankton ## daily ??\n",
    "kg = 12\n",
    "N_pulse = 1.0\n",
    "# Timesteps\n",
    "dt = 0.1\n",
    "\n",
    "parameters_dict = {'numyears': numyears,\n",
    "                  'r_H': r_H,\n",
    "                  'K_H': K_H, \n",
    "                  'theta_H': theta_H,\n",
    "                  'c': c, \n",
    "                  'd': d, \n",
    "                  'E_H': E_H,\n",
    "                  'q_H': q_H,\n",
    "                  'm_H': m_H,\n",
    "                  'r_P': r_P,\n",
    "                  'K_P': K_P,\n",
    "                  'theta_P': theta_P, \n",
    "                  'b': b,\n",
    "                  'q_P': q_P, \n",
    "                  'E_P': E_P,\n",
    "                  'm_P': m_P, \n",
    "                  'v_m': v_m,\n",
    "                  'k_s': k_s, \n",
    "                  'm_ph': m_ph, \n",
    "                  'y': y, \n",
    "                  'r_m': r_m, \n",
    "                  'kg': kg,\n",
    "                  'dt': dt,\n",
    "                  'N_pulse': N_pulse\n",
    "                  }"
   ]
  },
  {
   "cell_type": "code",
   "execution_count": 7,
   "metadata": {},
   "outputs": [],
   "source": [
    "numyears = 36500 # number of years to run simulation \n",
    "\n",
    "H0 = 20\n",
    "P0 = 5\n",
    "PH0 = 1\n",
    "N0 = 1\n",
    "\n",
    "H_array, P_array, PH_array, N_array, H_harvest_array, P_harvest_array, grazing_array = run_model(H0, P0, PH0, N0, parameters_dict)"
   ]
  },
  {
   "cell_type": "code",
   "execution_count": 8,
   "metadata": {},
   "outputs": [
    {
     "data": {
      "text/plain": [
       "Text(0, 0.5, 'Nutrients Biomass')"
      ]
     },
     "execution_count": 8,
     "metadata": {},
     "output_type": "execute_result"
    },
    {
     "data": {
      "image/png": "[encoded data removed]",
      "text/plain": [
       "<Figure size 432x288 with 1 Axes>"
      ]
     },
     "metadata": {
      "needs_background": "light"
     },
     "output_type": "display_data"
    }
   ],
   "source": [
    "# Calculate the number of years in the simulation\n",
    "numyears = parameters_dict['numyears']\n",
    "years = numyears / 365\n",
    "\n",
    "# Generate x-values representing years\n",
    "time_years = np.linspace(0, years, len(H_array))\n",
    "\n",
    "plt.plot(time_years, N_array)\n",
    "plt.xlabel('Number of Years')\n",
    "plt.ylabel('Nutrients Biomass')"
   ]
  },
  {
   "cell_type": "code",
   "execution_count": 9,
   "metadata": {},
   "outputs": [
    {
     "data": {
      "image/png": "[encoded data removed]",
      "text/plain": [
       "<Figure size 432x288 with 1 Axes>"
      ]
     },
     "metadata": {
      "needs_background": "light"
     },
     "output_type": "display_data"
    }
   ],
   "source": [
    "plt.plot(time_years, H_array, label=\"Prey\")\n",
    "plt.plot(time_years, P_array, label = \"Predator\")\n",
    "plt.plot(time_years, PH_array, label= \"Phytoplankton\")\n",
    "plt.plot(time_years, N_array, label= \"Nutrients\")\n",
    "plt.legend()\n",
    "plt.xlabel('Number of Years')\n",
    "plt.ylabel('Biomass')\n",
    "plt.title('Community Dynamics with Nutrient Pulses')\n",
    "\n",
    "plt.show()"
   ]
  },
  {
   "cell_type": "markdown",
   "metadata": {},
   "source": [
    "# Running through params"
   ]
  },
  {
   "cell_type": "markdown",
   "metadata": {},
   "source": [
    "### Interested in $r_H, K_H, d, E_H, m_H, r_P, K_P, E_P, m_P, v_m, k_s, m_ph, y, r_m, kg$ "
   ]
  },
  {
   "cell_type": "code",
   "execution_count": 69,
   "metadata": {},
   "outputs": [],
   "source": [
    "numyears = 36500 # number of years to run simulation\n",
    "\n",
    "#Herbivore parameters:\n",
    "r_H = (0.4/365) # prey growth rate\n",
    "K_H = 50 # carrying capacity of herbivores\n",
    "theta_H = 0 # immigration of herbivores\n",
    "c = (0.4/365) # addition to predator from prey\n",
    "d = 50 # value of H when predation half its max value\n",
    "q_H = 1.0 # proportionality constant for herbivore harvest\n",
    "E_H = (0.15/365) # Effort for herbivore harvest\n",
    "m_H = (0.1/365) # Herbivore mortality \n",
    "\n",
    "#Predator parameters:\n",
    "r_P = (0.1/365) # growth rate of predator \n",
    "K_P = 10 # carrying capactiy of predators \n",
    "b = (0.4/365) # mortality to prey from predator\n",
    "theta_P = 0 # immigration of predators  \n",
    "q_P = 1.0 # proportionality constant for predators harvest\n",
    "E_P = (0.15/365) # Effort for predator harvest\n",
    "m_P = (0.01/365) # Predator mortality\n",
    "\n",
    "#Phytoplankton parameters: \n",
    "v_m = (2.0) # max growth rate of phytoplankton ## daily rate ?\n",
    "k_s = 1 # half saturation constant\n",
    "m_ph = 0.03 # phytoplankton mortality ## daily rate ?\n",
    "y = 0.1 # unassimilated phytoplankton \n",
    "\n",
    "#Grazing parameters: \n",
    "r_m = 1.1 #1.1 # grazing of fish on phytoplankton ## daily ??\n",
    "kg = 12\n",
    "N_pulse = 1.0\n",
    "# Timesteps\n",
    "dt = 0.1\n",
    "\n",
    "parameters_dict = {'numyears': numyears,\n",
    "                  'r_H': r_H,\n",
    "                  'K_H': K_H, \n",
    "                  'theta_H': theta_H,\n",
    "                  'c': c, \n",
    "                  'd': d, \n",
    "                  'E_H': E_H,\n",
    "                  'q_H': q_H,\n",
    "                  'm_H': m_H,\n",
    "                  'r_P': r_P,\n",
    "                  'K_P': K_P,\n",
    "                  'theta_P': theta_P, \n",
    "                  'b': b,\n",
    "                  'q_P': q_P, \n",
    "                  'E_P': E_P,\n",
    "                  'm_P': m_P, \n",
    "                  'v_m': v_m,\n",
    "                  'k_s': k_s, \n",
    "                  'm_ph': m_ph, \n",
    "                  'y': y, \n",
    "                  'r_m': r_m, \n",
    "                  'kg': kg,\n",
    "                  'dt': dt,\n",
    "                  'N_pulse': N_pulse\n",
    "                  }"
   ]
  },
  {
   "cell_type": "markdown",
   "metadata": {},
   "source": [
    "### Function to run through params of interest at +/- 10%"
   ]
  },
  {
   "cell_type": "code",
   "execution_count": 88,
   "metadata": {},
   "outputs": [],
   "source": [
    "# Function to vary parameters and document all parameter values\n",
    "def run_model_with_varying_params(parameters_dict, params_to_vary, variation_range, H0, P0, PH0, N0):\n",
    "    # Initialize an empty list to store all results\n",
    "    all_results = []\n",
    "    \n",
    "    # Loop through each parameter to vary\n",
    "    for param in params_to_vary:\n",
    "        # Store the original value of the parameter\n",
    "        original_value = parameters_dict[param]\n",
    "        \n",
    "        # Generate values to vary the parameter within the specified range\n",
    "        varied_values = np.linspace(\n",
    "            original_value * (1 - variation_range),  # Lower bound\n",
    "            original_value * (1 + variation_range),  # Upper bound\n",
    "            5  # Number of variations (adjustable)\n",
    "        )\n",
    "        \n",
    "        # Loop through each varied value for the current parameter\n",
    "        for value in varied_values:\n",
    "            # Update the parameter in the dictionary\n",
    "            parameters_dict[param] = value\n",
    "            \n",
    "            # Run the model with the updated parameters\n",
    "            H_array, P_array, PH_array, N_array, H_harvest_array, P_harvest_array, grazing_array = run_model(\n",
    "                H0, P0, PH0, N0, parameters_dict\n",
    "            )\n",
    "            \n",
    "            # Create a dictionary to store the results for this run\n",
    "            result = {\n",
    "                'H_final': H_array[-1],\n",
    "                'P_final': P_array[-1],\n",
    "                'PH_final': PH_array[-1],\n",
    "                'N_final': N_array[-1]\n",
    "            }\n",
    "            \n",
    "            # Add all parameter values to the result\n",
    "            result.update(parameters_dict)\n",
    "            \n",
    "            # Append the result to the list\n",
    "            all_results.append(result)\n",
    "        \n",
    "        # Reset the parameter to its original value\n",
    "        parameters_dict[param] = original_value\n",
    "    \n",
    "    # Convert the results list to a DataFrame\n",
    "    results_df = pd.DataFrame(all_results)\n",
    "    return results_df"
   ]
  },
  {
   "cell_type": "markdown",
   "metadata": {},
   "source": [
    "### Testing Function to make sure works"
   ]
  },
  {
   "cell_type": "code",
   "execution_count": 90,
   "metadata": {},
   "outputs": [
    {
     "name": "stdout",
     "output_type": "stream",
     "text": [
      "      H_final   P_final  PH_final   N_final  numyears       r_H   K_H  \\\n",
      "0   30.336286  9.101376  0.213160  0.019701     36500  0.000986  50.0   \n",
      "1   30.724033  9.221097  0.211590  0.019905     36500  0.001041  50.0   \n",
      "2   31.101636  9.336582  0.210096  0.020104     36500  0.001096  50.0   \n",
      "3   31.469150  9.447950  0.208673  0.020299     36500  0.001151  50.0   \n",
      "4   31.826666  9.555326  0.207318  0.020490     36500  0.001205  50.0   \n",
      "..        ...       ...       ...       ...       ...       ...   ...   \n",
      "70  31.219732  9.372682  0.180693  0.021808     36500  0.001096  50.0   \n",
      "71  31.160904  9.354709  0.195265  0.020906     36500  0.001096  50.0   \n",
      "72  31.101636  9.336582  0.210096  0.020104     36500  0.001096  50.0   \n",
      "73  31.041994  9.318323  0.225148  0.019386     36500  0.001096  50.0   \n",
      "74  30.982031  9.299947  0.240391  0.018741     36500  0.001096  50.0   \n",
      "\n",
      "    theta_H         c     d       E_H  q_H       m_H       r_P   K_P  theta_P  \\\n",
      "0         0  0.001096  50.0  0.000411  1.0  0.000274  0.000274  10.0        0   \n",
      "1         0  0.001096  50.0  0.000411  1.0  0.000274  0.000274  10.0        0   \n",
      "2         0  0.001096  50.0  0.000411  1.0  0.000274  0.000274  10.0        0   \n",
      "3         0  0.001096  50.0  0.000411  1.0  0.000274  0.000274  10.0        0   \n",
      "4         0  0.001096  50.0  0.000411  1.0  0.000274  0.000274  10.0        0   \n",
      "..      ...       ...   ...       ...  ...       ...       ...   ...      ...   \n",
      "70        0  0.001096  50.0  0.000411  1.0  0.000274  0.000274  10.0        0   \n",
      "71        0  0.001096  50.0  0.000411  1.0  0.000274  0.000274  10.0        0   \n",
      "72        0  0.001096  50.0  0.000411  1.0  0.000274  0.000274  10.0        0   \n",
      "73        0  0.001096  50.0  0.000411  1.0  0.000274  0.000274  10.0        0   \n",
      "74        0  0.001096  50.0  0.000411  1.0  0.000274  0.000274  10.0        0   \n",
      "\n",
      "           b  q_P       E_P       m_P  v_m  k_s  m_ph    y  r_m    kg   dt  \\\n",
      "0   0.001096  1.0  0.000411  0.000027  2.0  1.0  0.03  0.1  1.1  12.0  0.1   \n",
      "1   0.001096  1.0  0.000411  0.000027  2.0  1.0  0.03  0.1  1.1  12.0  0.1   \n",
      "2   0.001096  1.0  0.000411  0.000027  2.0  1.0  0.03  0.1  1.1  12.0  0.1   \n",
      "3   0.001096  1.0  0.000411  0.000027  2.0  1.0  0.03  0.1  1.1  12.0  0.1   \n",
      "4   0.001096  1.0  0.000411  0.000027  2.0  1.0  0.03  0.1  1.1  12.0  0.1   \n",
      "..       ...  ...       ...       ...  ...  ...   ...  ...  ...   ...  ...   \n",
      "70  0.001096  1.0  0.000411  0.000027  2.0  1.0  0.03  0.1  1.1  10.8  0.1   \n",
      "71  0.001096  1.0  0.000411  0.000027  2.0  1.0  0.03  0.1  1.1  11.4  0.1   \n",
      "72  0.001096  1.0  0.000411  0.000027  2.0  1.0  0.03  0.1  1.1  12.0  0.1   \n",
      "73  0.001096  1.0  0.000411  0.000027  2.0  1.0  0.03  0.1  1.1  12.6  0.1   \n",
      "74  0.001096  1.0  0.000411  0.000027  2.0  1.0  0.03  0.1  1.1  13.2  0.1   \n",
      "\n",
      "    N_pulse  \n",
      "0       1.0  \n",
      "1       1.0  \n",
      "2       1.0  \n",
      "3       1.0  \n",
      "4       1.0  \n",
      "..      ...  \n",
      "70      1.0  \n",
      "71      1.0  \n",
      "72      1.0  \n",
      "73      1.0  \n",
      "74      1.0  \n",
      "\n",
      "[75 rows x 28 columns]\n"
     ]
    }
   ],
   "source": [
    "# Specify parameters to vary and their variation range\n",
    "params_to_vary = ['r_H', 'K_H', 'd', 'E_H', 'm_H','r_P','K_P', 'E_P', 'm_P', 'v_m', 'k_s', 'm_ph', 'r_m','y', 'kg']  # Parameters to vary\n",
    "variation_range = 0.1  # ±10% variation\n",
    "H0 = 20\n",
    "P0 = 5\n",
    "PH0 = 1\n",
    "N0 = 1\n",
    "\n",
    "# Run the function to vary parameters and collect results\n",
    "results_df = run_model_with_varying_params(parameters_dict, params_to_vary, variation_range, H0, P0, PH0, N0)\n",
    "\n",
    "# Display all columns in the DataFrame\n",
    "pd.set_option('display.max_columns', None)\n",
    "print(results_df)"
   ]
  },
  {
   "cell_type": "markdown",
   "metadata": {},
   "source": [
    "## Simulation runs - Generalist Current Nutrients"
   ]
  },
  {
   "cell_type": "code",
   "execution_count": 9,
   "metadata": {},
   "outputs": [],
   "source": [
    "def generalist_current_params():\n",
    "    numyears = 36500 # number of years to run simulation\n",
    "\n",
    "    #Herbivore parameters:\n",
    "    r_H = (0.4/365) # prey growth rate\n",
    "    K_H = 50 # carrying capacity of herbivores\n",
    "    theta_H = 0 # immigration of herbivores\n",
    "    c = (0.2/365) # addition to predator from prey\n",
    "    d = 50 # value of H when predation half its max value\n",
    "    q_H = 1.0 # proportionality constant for herbivore harvest\n",
    "    E_H = (0.15/365) # Effort for herbivore harvest\n",
    "    m_H = (0.1/365) # Herbivore mortality \n",
    "\n",
    "    #Predator parameters:\n",
    "    r_P = (0.1/365) # growth rate of predator \n",
    "    K_P = 10 # carrying capactiy of predators \n",
    "    b = (0.2/365) # mortality to prey from predator\n",
    "    theta_P = 0 # immigration of predators  \n",
    "    q_P = 1.0 # proportionality constant for predators harvest\n",
    "    E_P = (0.15/365) # Effort for predator harvest\n",
    "    m_P = (0.01/365) # Predator mortality\n",
    "\n",
    "    #Phytoplankton parameters: \n",
    "    v_m = (2.0) # max growth rate of phytoplankton ## daily rate ?\n",
    "    k_s = 1 # half saturation constant\n",
    "    m_ph = 0.03 # phytoplankton mortality ## daily rate ?\n",
    "    y = 0.1 # unassimilated phytoplankton \n",
    "\n",
    "    #Grazing parameters: \n",
    "    r_m = 1.1 #1.1 # grazing of fish on phytoplankton ## daily ??\n",
    "    kg = 12\n",
    "    N_pulse = 0.026\n",
    "    # Timesteps\n",
    "    dt = 0.1\n",
    "\n",
    "    parameters_dict = {'numyears': numyears,\n",
    "                  'r_H': r_H,\n",
    "                  'K_H': K_H, \n",
    "                  'theta_H': theta_H,\n",
    "                  'c': c, \n",
    "                  'd': d, \n",
    "                  'E_H': E_H,\n",
    "                  'q_H': q_H,\n",
    "                  'm_H': m_H,\n",
    "                  'r_P': r_P,\n",
    "                  'K_P': K_P,\n",
    "                  'theta_P': theta_P, \n",
    "                  'b': b,\n",
    "                  'q_P': q_P, \n",
    "                  'E_P': E_P,\n",
    "                  'm_P': m_P, \n",
    "                  'v_m': v_m,\n",
    "                  'k_s': k_s, \n",
    "                  'm_ph': m_ph, \n",
    "                  'y': y, \n",
    "                  'r_m': r_m, \n",
    "                  'kg': kg,\n",
    "                  'dt': dt,\n",
    "                  'N_pulse': N_pulse\n",
    "                  }\n",
    "    \n",
    "    return parameters_dict"
   ]
  },
  {
   "cell_type": "code",
   "execution_count": 105,
   "metadata": {},
   "outputs": [
    {
     "name": "stdout",
     "output_type": "stream",
     "text": [
      "      H_final   P_final  PH_final   N_final  numyears       r_H   K_H  \\\n",
      "0   17.964658  0.522330  0.112800  0.019529     36500  0.000986  50.0   \n",
      "1   19.551343  0.646759  0.114353  0.020422     36500  0.001041  50.0   \n",
      "2   20.973520  0.771343  0.115593  0.021224     36500  0.001096  50.0   \n",
      "3   22.258998  0.893630  0.116608  0.021951     36500  0.001151  50.0   \n",
      "4   23.428788  1.012017  0.117456  0.022615     36500  0.001205  50.0   \n",
      "..        ...       ...       ...       ...       ...       ...   ...   \n",
      "70  21.120910  0.785056  0.107405  0.022503     36500  0.001096  50.0   \n",
      "71  21.046248  0.778094  0.111577  0.021825     36500  0.001096  50.0   \n",
      "72  20.973520  0.771343  0.115593  0.021224     36500  0.001096  50.0   \n",
      "73  20.902718  0.764799  0.119457  0.020687     36500  0.001096  50.0   \n",
      "74  20.833832  0.758461  0.123173  0.020206     36500  0.001096  50.0   \n",
      "\n",
      "    theta_H         c     d       E_H  q_H       m_H       r_P   K_P  theta_P  \\\n",
      "0         0  0.000548  50.0  0.000411  1.0  0.000274  0.000274  10.0        0   \n",
      "1         0  0.000548  50.0  0.000411  1.0  0.000274  0.000274  10.0        0   \n",
      "2         0  0.000548  50.0  0.000411  1.0  0.000274  0.000274  10.0        0   \n",
      "3         0  0.000548  50.0  0.000411  1.0  0.000274  0.000274  10.0        0   \n",
      "4         0  0.000548  50.0  0.000411  1.0  0.000274  0.000274  10.0        0   \n",
      "..      ...       ...   ...       ...  ...       ...       ...   ...      ...   \n",
      "70        0  0.000548  50.0  0.000411  1.0  0.000274  0.000274  10.0        0   \n",
      "71        0  0.000548  50.0  0.000411  1.0  0.000274  0.000274  10.0        0   \n",
      "72        0  0.000548  50.0  0.000411  1.0  0.000274  0.000274  10.0        0   \n",
      "73        0  0.000548  50.0  0.000411  1.0  0.000274  0.000274  10.0        0   \n",
      "74        0  0.000548  50.0  0.000411  1.0  0.000274  0.000274  10.0        0   \n",
      "\n",
      "           b  q_P       E_P       m_P  v_m  k_s  m_ph    y  r_m    kg   dt  \\\n",
      "0   0.000548  1.0  0.000411  0.000027  2.0  1.0  0.03  0.1  1.1  12.0  0.1   \n",
      "1   0.000548  1.0  0.000411  0.000027  2.0  1.0  0.03  0.1  1.1  12.0  0.1   \n",
      "2   0.000548  1.0  0.000411  0.000027  2.0  1.0  0.03  0.1  1.1  12.0  0.1   \n",
      "3   0.000548  1.0  0.000411  0.000027  2.0  1.0  0.03  0.1  1.1  12.0  0.1   \n",
      "4   0.000548  1.0  0.000411  0.000027  2.0  1.0  0.03  0.1  1.1  12.0  0.1   \n",
      "..       ...  ...       ...       ...  ...  ...   ...  ...  ...   ...  ...   \n",
      "70  0.000548  1.0  0.000411  0.000027  2.0  1.0  0.03  0.1  1.1  10.8  0.1   \n",
      "71  0.000548  1.0  0.000411  0.000027  2.0  1.0  0.03  0.1  1.1  11.4  0.1   \n",
      "72  0.000548  1.0  0.000411  0.000027  2.0  1.0  0.03  0.1  1.1  12.0  0.1   \n",
      "73  0.000548  1.0  0.000411  0.000027  2.0  1.0  0.03  0.1  1.1  12.6  0.1   \n",
      "74  0.000548  1.0  0.000411  0.000027  2.0  1.0  0.03  0.1  1.1  13.2  0.1   \n",
      "\n",
      "    N_pulse  \n",
      "0     0.026  \n",
      "1     0.026  \n",
      "2     0.026  \n",
      "3     0.026  \n",
      "4     0.026  \n",
      "..      ...  \n",
      "70    0.026  \n",
      "71    0.026  \n",
      "72    0.026  \n",
      "73    0.026  \n",
      "74    0.026  \n",
      "\n",
      "[75 rows x 28 columns]\n"
     ]
    }
   ],
   "source": [
    "parameters_dict = generalist_current_params()\n",
    "params_to_vary = ['r_H', 'K_H', 'd', 'E_H', 'm_H','r_P','K_P', 'E_P', 'm_P', 'v_m', 'k_s', 'm_ph', 'r_m','y', 'kg']  # Parameters to vary\n",
    "variation_range = 0.1  # ±10% variation\n",
    "H0 = 20\n",
    "P0 = 5\n",
    "PH0 = 1\n",
    "N0 = 1\n",
    "\n",
    "# Run the function to vary parameters and collect results\n",
    "results_df = run_model_with_varying_params(parameters_dict, params_to_vary, variation_range, H0, P0, PH0, N0)\n",
    "\n",
    "# Display all columns in the DataFrame\n",
    "pd.set_option('display.max_columns', None)\n",
    "print(results_df)\n",
    "\n",
    "# Optionally save to a CSV\n",
    "results_df.to_csv('generalist_current_RF_data.csv', index=False)"
   ]
  },
  {
   "cell_type": "markdown",
   "metadata": {},
   "source": [
    "### Run RF analysis "
   ]
  },
  {
   "cell_type": "code",
   "execution_count": 10,
   "metadata": {},
   "outputs": [
    {
     "name": "stdout",
     "output_type": "stream",
     "text": [
      "Mean Squared Error: 0.009427267683858476\n",
      "R-squared: 0.9343540117400548\n"
     ]
    }
   ],
   "source": [
    "data = pd.read_csv(\"./generalist_current_RF_data.csv\")\n",
    "\n",
    "X1 = data.iloc[:, 4:29]  # Columns 4-28 are explanatory\n",
    "Y1 = data.iloc[:, 0:4]   # Columns 0-4 are response variables\n",
    "\n",
    "regressor = RandomForestRegressor(n_estimators=100, random_state=42)\n",
    "\n",
    "regressor.fit(X1, Y1)\n",
    "\n",
    "# Predict using the model\n",
    "predictions = regressor.predict(X1)\n",
    "\n",
    "# Calculate Mean Squared Error\n",
    "mse = mean_squared_error(Y1, predictions)\n",
    "print(f'Mean Squared Error: {mse}')\n",
    "\n",
    "# Calculate R-squared\n",
    "r2 = r2_score(Y1, predictions)\n",
    "print(f'R-squared: {r2}')"
   ]
  },
  {
   "cell_type": "code",
   "execution_count": 11,
   "metadata": {},
   "outputs": [
    {
     "name": "stdout",
     "output_type": "stream",
     "text": [
      "Feature Importances:\n",
      "[0.00000000e+00 4.29372013e-01 2.58933379e-01 0.00000000e+00\n",
      " 0.00000000e+00 2.85375412e-03 2.03653297e-01 0.00000000e+00\n",
      " 5.46250477e-02 1.00249042e-02 2.31975289e-04 0.00000000e+00\n",
      " 0.00000000e+00 0.00000000e+00 3.71791003e-02 1.47021523e-04\n",
      " 3.38630389e-07 3.21565414e-07 1.31758374e-03 4.02758815e-06\n",
      " 3.55130052e-04 1.30210626e-03 0.00000000e+00 0.00000000e+00]\n"
     ]
    },
    {
     "data": {
      "image/png": "[encoded data removed]",
      "text/plain": [
       "<Figure size 720x432 with 1 Axes>"
      ]
     },
     "metadata": {
      "needs_background": "light"
     },
     "output_type": "display_data"
    }
   ],
   "source": [
    "importances1 = regressor.feature_importances_\n",
    "\n",
    "# Print importances\n",
    "print(\"Feature Importances:\")\n",
    "print(importances1)\n",
    "\n",
    "# Set up labels for the features (adjust based on your column names)\n",
    "plotLabs1 = X1.columns  # Using column names directly for labeling\n",
    "\n",
    "# Bar plot of importances\n",
    "plt.figure(figsize=(10, 6))\n",
    "plt.bar(plotLabs1, importances1, align=\"center\")\n",
    "plt.xticks(rotation=90) \n",
    "plt.xlabel(\"Parameters\")\n",
    "plt.ylabel(\"Importance\")\n",
    "plt.title(\"Parameter Importance\")\n",
    "plt.tight_layout()\n",
    "plt.show()"
   ]
  },
  {
   "cell_type": "markdown",
   "metadata": {},
   "source": [
    "## Simulation runs - Specialist Current Nutrients"
   ]
  },
  {
   "cell_type": "code",
   "execution_count": 15,
   "metadata": {},
   "outputs": [],
   "source": [
    "def specialist_current_params():\n",
    "    numyears = 36500 # number of years to run simulation\n",
    "\n",
    "    #Herbivore parameters:\n",
    "    r_H = (0.4/365) # prey growth rate\n",
    "    K_H = 50 # carrying capacity of herbivores\n",
    "    theta_H = 0 # immigration of herbivores\n",
    "    c = (0.8/365) # addition to predator from prey\n",
    "    d = 50 # value of H when predation half its max value\n",
    "    q_H = 1.0 # proportionality constant for herbivore harvest\n",
    "    E_H = (0.15/365) # Effort for herbivore harvest\n",
    "    m_H = (0.1/365) # Herbivore mortality \n",
    "\n",
    "    #Predator parameters:\n",
    "    r_P = (0.1/365) # growth rate of predator \n",
    "    K_P = 10 # carrying capactiy of predators \n",
    "    b = (0.8/365) # mortality to prey from predator\n",
    "    theta_P = 0 # immigration of predators  \n",
    "    q_P = 1.0 # proportionality constant for predators harvest\n",
    "    E_P = (0.15/365) # Effort for predator harvest\n",
    "    m_P = (0.01/365) # Predator mortality\n",
    "\n",
    "    #Phytoplankton parameters: \n",
    "    v_m = (2.0) # max growth rate of phytoplankton ## daily rate ?\n",
    "    k_s = 1 # half saturation constant\n",
    "    m_ph = 0.03 # phytoplankton mortality ## daily rate ?\n",
    "    y = 0.1 # unassimilated phytoplankton \n",
    "\n",
    "    #Grazing parameters: \n",
    "    r_m = 1.1 #1.1 # grazing of fish on phytoplankton ## daily ??\n",
    "    kg = 12\n",
    "    N_pulse = 0.026\n",
    "    # Timesteps\n",
    "    dt = 0.1\n",
    "\n",
    "    parameters_dict = {'numyears': numyears,\n",
    "                  'r_H': r_H,\n",
    "                  'K_H': K_H, \n",
    "                  'theta_H': theta_H,\n",
    "                  'c': c, \n",
    "                  'd': d, \n",
    "                  'E_H': E_H,\n",
    "                  'q_H': q_H,\n",
    "                  'm_H': m_H,\n",
    "                  'r_P': r_P,\n",
    "                  'K_P': K_P,\n",
    "                  'theta_P': theta_P, \n",
    "                  'b': b,\n",
    "                  'q_P': q_P, \n",
    "                  'E_P': E_P,\n",
    "                  'm_P': m_P, \n",
    "                  'v_m': v_m,\n",
    "                  'k_s': k_s, \n",
    "                  'm_ph': m_ph, \n",
    "                  'y': y, \n",
    "                  'r_m': r_m, \n",
    "                  'kg': kg,\n",
    "                  'dt': dt,\n",
    "                  'N_pulse': N_pulse\n",
    "                  }\n",
    "    \n",
    "    return parameters_dict"
   ]
  },
  {
   "cell_type": "code",
   "execution_count": 109,
   "metadata": {},
   "outputs": [
    {
     "name": "stdout",
     "output_type": "stream",
     "text": [
      "      H_final   P_final  PH_final   N_final  numyears       r_H   K_H  \\\n",
      "0    8.142379  5.268480  0.098874  0.014250     36500  0.000986  50.0   \n",
      "1    8.932654  6.152939  0.101197  0.014708     36500  0.001041  50.0   \n",
      "2    9.720953  7.027740  0.103308  0.015166     36500  0.001096  50.0   \n",
      "3   10.495948  7.879028  0.105204  0.015617     36500  0.001151  50.0   \n",
      "4   11.258332  8.700939  0.106912  0.016061     36500  0.001205  50.0   \n",
      "..        ...       ...       ...       ...       ...       ...   ...   \n",
      "70   9.839054  7.158096  0.098302  0.015766     36500  0.001096  50.0   \n",
      "71   9.778166  7.090916  0.100901  0.015446     36500  0.001096  50.0   \n",
      "72   9.720953  7.027740  0.103308  0.015166     36500  0.001096  50.0   \n",
      "73   9.667236  6.968377  0.105539  0.014919     36500  0.001096  50.0   \n",
      "74   9.616831  6.912630  0.107605  0.014701     36500  0.001096  50.0   \n",
      "\n",
      "    theta_H         c     d       E_H  q_H       m_H       r_P   K_P  theta_P  \\\n",
      "0         0  0.002192  50.0  0.000411  1.0  0.000274  0.000274  10.0        0   \n",
      "1         0  0.002192  50.0  0.000411  1.0  0.000274  0.000274  10.0        0   \n",
      "2         0  0.002192  50.0  0.000411  1.0  0.000274  0.000274  10.0        0   \n",
      "3         0  0.002192  50.0  0.000411  1.0  0.000274  0.000274  10.0        0   \n",
      "4         0  0.002192  50.0  0.000411  1.0  0.000274  0.000274  10.0        0   \n",
      "..      ...       ...   ...       ...  ...       ...       ...   ...      ...   \n",
      "70        0  0.002192  50.0  0.000411  1.0  0.000274  0.000274  10.0        0   \n",
      "71        0  0.002192  50.0  0.000411  1.0  0.000274  0.000274  10.0        0   \n",
      "72        0  0.002192  50.0  0.000411  1.0  0.000274  0.000274  10.0        0   \n",
      "73        0  0.002192  50.0  0.000411  1.0  0.000274  0.000274  10.0        0   \n",
      "74        0  0.002192  50.0  0.000411  1.0  0.000274  0.000274  10.0        0   \n",
      "\n",
      "           b  q_P       E_P       m_P  v_m  k_s  m_ph    y  r_m    kg   dt  \\\n",
      "0   0.002192  1.0  0.000411  0.000027  2.0  1.0  0.03  0.1  1.1  12.0  0.1   \n",
      "1   0.002192  1.0  0.000411  0.000027  2.0  1.0  0.03  0.1  1.1  12.0  0.1   \n",
      "2   0.002192  1.0  0.000411  0.000027  2.0  1.0  0.03  0.1  1.1  12.0  0.1   \n",
      "3   0.002192  1.0  0.000411  0.000027  2.0  1.0  0.03  0.1  1.1  12.0  0.1   \n",
      "4   0.002192  1.0  0.000411  0.000027  2.0  1.0  0.03  0.1  1.1  12.0  0.1   \n",
      "..       ...  ...       ...       ...  ...  ...   ...  ...  ...   ...  ...   \n",
      "70  0.002192  1.0  0.000411  0.000027  2.0  1.0  0.03  0.1  1.1  10.8  0.1   \n",
      "71  0.002192  1.0  0.000411  0.000027  2.0  1.0  0.03  0.1  1.1  11.4  0.1   \n",
      "72  0.002192  1.0  0.000411  0.000027  2.0  1.0  0.03  0.1  1.1  12.0  0.1   \n",
      "73  0.002192  1.0  0.000411  0.000027  2.0  1.0  0.03  0.1  1.1  12.6  0.1   \n",
      "74  0.002192  1.0  0.000411  0.000027  2.0  1.0  0.03  0.1  1.1  13.2  0.1   \n",
      "\n",
      "    N_pulse  \n",
      "0     0.026  \n",
      "1     0.026  \n",
      "2     0.026  \n",
      "3     0.026  \n",
      "4     0.026  \n",
      "..      ...  \n",
      "70    0.026  \n",
      "71    0.026  \n",
      "72    0.026  \n",
      "73    0.026  \n",
      "74    0.026  \n",
      "\n",
      "[75 rows x 28 columns]\n"
     ]
    }
   ],
   "source": [
    "parameters_dict = specialist_current_params()\n",
    "params_to_vary = ['r_H', 'K_H', 'd', 'E_H', 'm_H','r_P','K_P', 'E_P', 'm_P', 'v_m', 'k_s', 'm_ph', 'r_m','y', 'kg']  # Parameters to vary\n",
    "variation_range = 0.1  # ±10% variation\n",
    "H0 = 20\n",
    "P0 = 5\n",
    "PH0 = 1\n",
    "N0 = 1\n",
    "\n",
    "# Run the function to vary parameters and collect results\n",
    "results_df = run_model_with_varying_params(parameters_dict, params_to_vary, variation_range, H0, P0, PH0, N0)\n",
    "\n",
    "# Display all columns in the DataFrame\n",
    "pd.set_option('display.max_columns', None)\n",
    "print(results_df)\n",
    "\n",
    "# Optionally save to a CSV\n",
    "results_df.to_csv('specialist_current_RF_data.csv', index=False)"
   ]
  },
  {
   "cell_type": "markdown",
   "metadata": {},
   "source": [
    "### Run RF Analysis "
   ]
  },
  {
   "cell_type": "code",
   "execution_count": 12,
   "metadata": {},
   "outputs": [
    {
     "name": "stdout",
     "output_type": "stream",
     "text": [
      "Mean Squared Error: 0.005485219883683213\n",
      "R-squared: 0.934806689417097\n"
     ]
    }
   ],
   "source": [
    "data = pd.read_csv(\"./specialist_current_RF_data.csv\")\n",
    "\n",
    "X2 = data.iloc[:, 4:29]  # Columns 4-28 are explanatory\n",
    "Y2 = data.iloc[:, 0:4]   # Columns 0-4 are response variables\n",
    "\n",
    "regressor = RandomForestRegressor(n_estimators=100, random_state=42)\n",
    "\n",
    "regressor.fit(X2, Y2)\n",
    "\n",
    "# Predict using the model\n",
    "predictions = regressor.predict(X2)\n",
    "\n",
    "# Calculate Mean Squared Error\n",
    "mse = mean_squared_error(Y2, predictions)\n",
    "print(f'Mean Squared Error: {mse}')\n",
    "\n",
    "# Calculate R-squared\n",
    "r2 = r2_score(Y2, predictions)\n",
    "print(f'R-squared: {r2}')"
   ]
  },
  {
   "cell_type": "code",
   "execution_count": 13,
   "metadata": {},
   "outputs": [
    {
     "name": "stdout",
     "output_type": "stream",
     "text": [
      "Feature Importances:\n",
      "[0.00000000e+00 5.12589625e-01 3.68653982e-02 0.00000000e+00\n",
      " 0.00000000e+00 1.26005595e-01 1.33807103e-01 0.00000000e+00\n",
      " 3.51213858e-02 4.17035270e-03 2.21658338e-02 0.00000000e+00\n",
      " 0.00000000e+00 0.00000000e+00 1.22096980e-01 5.75806999e-04\n",
      " 3.24354954e-07 3.03734857e-07 2.93715162e-03 8.93581060e-06\n",
      " 7.70241396e-04 2.88496234e-03 0.00000000e+00 0.00000000e+00]\n"
     ]
    },
    {
     "data": {
      "image/png": "[encoded data removed]",
      "text/plain": [
       "<Figure size 720x432 with 1 Axes>"
      ]
     },
     "metadata": {
      "needs_background": "light"
     },
     "output_type": "display_data"
    }
   ],
   "source": [
    "importances2 = regressor.feature_importances_\n",
    "\n",
    "# Print importances\n",
    "print(\"Feature Importances:\")\n",
    "print(importances2)\n",
    "\n",
    "# Set up labels for the features (adjust based on your column names)\n",
    "plotLabs2 = X2.columns  # Using column names directly for labeling\n",
    "\n",
    "# Bar plot of importances\n",
    "plt.figure(figsize=(10, 6))\n",
    "plt.bar(plotLabs2, importances2, align=\"center\")\n",
    "plt.xticks(rotation=90) \n",
    "plt.xlabel(\"Parameters\")\n",
    "plt.ylabel(\"Importance\")\n",
    "plt.title(\"Parameter Importance\")\n",
    "plt.tight_layout()\n",
    "plt.show()"
   ]
  },
  {
   "cell_type": "code",
   "execution_count": null,
   "metadata": {},
   "outputs": [],
   "source": []
  },
  {
   "cell_type": "code",
   "execution_count": null,
   "metadata": {},
   "outputs": [],
   "source": []
  },
  {
   "cell_type": "markdown",
   "metadata": {},
   "source": [
    "## Simulation runs - Generalist Restored Nutrients"
   ]
  },
  {
   "cell_type": "code",
   "execution_count": 18,
   "metadata": {},
   "outputs": [],
   "source": [
    "def generalist_restored_params():\n",
    "    numyears = 36500 # number of years to run simulation\n",
    "\n",
    "    #Herbivore parameters:\n",
    "    r_H = (0.4/365) # prey growth rate\n",
    "    K_H = 50 # carrying capacity of herbivores\n",
    "    theta_H = 0 # immigration of herbivores\n",
    "    c = (0.2/365) # addition to predator from prey\n",
    "    d = 50 # value of H when predation half its max value\n",
    "    q_H = 1.0 # proportionality constant for herbivore harvest\n",
    "    E_H = (0.15/365) # Effort for herbivore harvest\n",
    "    m_H = (0.1/365) # Herbivore mortality \n",
    "\n",
    "    #Predator parameters:\n",
    "    r_P = (0.1/365) # growth rate of predator \n",
    "    K_P = 10 # carrying capactiy of predators \n",
    "    b = (0.2/365) # mortality to prey from predator\n",
    "    theta_P = 0 # immigration of predators  \n",
    "    q_P = 1.0 # proportionality constant for predators harvest\n",
    "    E_P = (0.15/365) # Effort for predator harvest\n",
    "    m_P = (0.01/365) # Predator mortality\n",
    "\n",
    "    #Phytoplankton parameters: \n",
    "    v_m = (2.0) # max growth rate of phytoplankton ## daily rate ?\n",
    "    k_s = 1 # half saturation constant\n",
    "    m_ph = 0.03 # phytoplankton mortality ## daily rate ?\n",
    "    y = 0.1 # unassimilated phytoplankton \n",
    "\n",
    "    #Grazing parameters: \n",
    "    r_m = 1.1 #1.1 # grazing of fish on phytoplankton ## daily ??\n",
    "    kg = 12\n",
    "    N_pulse = 0.234\n",
    "    # Timesteps\n",
    "    dt = 0.1\n",
    "\n",
    "    parameters_dict = {'numyears': numyears,\n",
    "                  'r_H': r_H,\n",
    "                  'K_H': K_H, \n",
    "                  'theta_H': theta_H,\n",
    "                  'c': c, \n",
    "                  'd': d, \n",
    "                  'E_H': E_H,\n",
    "                  'q_H': q_H,\n",
    "                  'm_H': m_H,\n",
    "                  'r_P': r_P,\n",
    "                  'K_P': K_P,\n",
    "                  'theta_P': theta_P, \n",
    "                  'b': b,\n",
    "                  'q_P': q_P, \n",
    "                  'E_P': E_P,\n",
    "                  'm_P': m_P, \n",
    "                  'v_m': v_m,\n",
    "                  'k_s': k_s, \n",
    "                  'm_ph': m_ph, \n",
    "                  'y': y, \n",
    "                  'r_m': r_m, \n",
    "                  'kg': kg,\n",
    "                  'dt': dt,\n",
    "                  'N_pulse': N_pulse\n",
    "                  }\n",
    "    \n",
    "    return parameters_dict"
   ]
  },
  {
   "cell_type": "code",
   "execution_count": 115,
   "metadata": {},
   "outputs": [
    {
     "name": "stdout",
     "output_type": "stream",
     "text": [
      "      H_final   P_final  PH_final   N_final  numyears       r_H   K_H  \\\n",
      "0   23.708639  1.043883  0.180256  0.017947     36500  0.000986  50.0   \n",
      "1   24.626479  1.141638  0.178200  0.018431     36500  0.001041  50.0   \n",
      "2   25.493437  1.236787  0.176358  0.018892     36500  0.001096  50.0   \n",
      "3   26.311977  1.328803  0.174702  0.019331     36500  0.001151  50.0   \n",
      "4   27.084779  1.417345  0.173207  0.019748     36500  0.001205  50.0   \n",
      "..        ...       ...       ...       ...       ...       ...   ...   \n",
      "70  25.659292  1.255403  0.158309  0.020169     36500  0.001096  50.0   \n",
      "71  25.576170  1.246064  0.167382  0.019495     36500  0.001096  50.0   \n",
      "72  25.493437  1.236787  0.176358  0.018892     36500  0.001096  50.0   \n",
      "73  25.411123  1.227576  0.185228  0.018348     36500  0.001096  50.0   \n",
      "74  25.329256  1.218434  0.193983  0.017854     36500  0.001096  50.0   \n",
      "\n",
      "    theta_H         c     d       E_H  q_H       m_H       r_P   K_P  theta_P  \\\n",
      "0         0  0.000548  50.0  0.000411  1.0  0.000274  0.000274  10.0        0   \n",
      "1         0  0.000548  50.0  0.000411  1.0  0.000274  0.000274  10.0        0   \n",
      "2         0  0.000548  50.0  0.000411  1.0  0.000274  0.000274  10.0        0   \n",
      "3         0  0.000548  50.0  0.000411  1.0  0.000274  0.000274  10.0        0   \n",
      "4         0  0.000548  50.0  0.000411  1.0  0.000274  0.000274  10.0        0   \n",
      "..      ...       ...   ...       ...  ...       ...       ...   ...      ...   \n",
      "70        0  0.000548  50.0  0.000411  1.0  0.000274  0.000274  10.0        0   \n",
      "71        0  0.000548  50.0  0.000411  1.0  0.000274  0.000274  10.0        0   \n",
      "72        0  0.000548  50.0  0.000411  1.0  0.000274  0.000274  10.0        0   \n",
      "73        0  0.000548  50.0  0.000411  1.0  0.000274  0.000274  10.0        0   \n",
      "74        0  0.000548  50.0  0.000411  1.0  0.000274  0.000274  10.0        0   \n",
      "\n",
      "           b  q_P       E_P       m_P  v_m  k_s  m_ph    y  r_m    kg   dt  \\\n",
      "0   0.000548  1.0  0.000411  0.000027  2.0  1.0  0.03  0.1  1.1  12.0  0.1   \n",
      "1   0.000548  1.0  0.000411  0.000027  2.0  1.0  0.03  0.1  1.1  12.0  0.1   \n",
      "2   0.000548  1.0  0.000411  0.000027  2.0  1.0  0.03  0.1  1.1  12.0  0.1   \n",
      "3   0.000548  1.0  0.000411  0.000027  2.0  1.0  0.03  0.1  1.1  12.0  0.1   \n",
      "4   0.000548  1.0  0.000411  0.000027  2.0  1.0  0.03  0.1  1.1  12.0  0.1   \n",
      "..       ...  ...       ...       ...  ...  ...   ...  ...  ...   ...  ...   \n",
      "70  0.000548  1.0  0.000411  0.000027  2.0  1.0  0.03  0.1  1.1  10.8  0.1   \n",
      "71  0.000548  1.0  0.000411  0.000027  2.0  1.0  0.03  0.1  1.1  11.4  0.1   \n",
      "72  0.000548  1.0  0.000411  0.000027  2.0  1.0  0.03  0.1  1.1  12.0  0.1   \n",
      "73  0.000548  1.0  0.000411  0.000027  2.0  1.0  0.03  0.1  1.1  12.6  0.1   \n",
      "74  0.000548  1.0  0.000411  0.000027  2.0  1.0  0.03  0.1  1.1  13.2  0.1   \n",
      "\n",
      "    N_pulse  \n",
      "0     0.234  \n",
      "1     0.234  \n",
      "2     0.234  \n",
      "3     0.234  \n",
      "4     0.234  \n",
      "..      ...  \n",
      "70    0.234  \n",
      "71    0.234  \n",
      "72    0.234  \n",
      "73    0.234  \n",
      "74    0.234  \n",
      "\n",
      "[75 rows x 28 columns]\n"
     ]
    }
   ],
   "source": [
    "parameters_dict = generalist_restored_params()\n",
    "params_to_vary = ['r_H', 'K_H', 'd', 'E_H', 'm_H','r_P','K_P', 'E_P', 'm_P', 'v_m', 'k_s', 'm_ph', 'r_m','y', 'kg']  # Parameters to vary\n",
    "variation_range = 0.1  # ±10% variation\n",
    "H0 = 20\n",
    "P0 = 5\n",
    "PH0 = 1\n",
    "N0 = 1\n",
    "\n",
    "# Run the function to vary parameters and collect results\n",
    "results_df = run_model_with_varying_params(parameters_dict, params_to_vary, variation_range, H0, P0, PH0, N0)\n",
    "\n",
    "# Display all columns in the DataFrame\n",
    "pd.set_option('display.max_columns', None)\n",
    "print(results_df)\n",
    "\n",
    "# Optionally save to a CSV\n",
    "results_df.to_csv('generalist_restored_RF_data.csv', index=False)"
   ]
  },
  {
   "cell_type": "markdown",
   "metadata": {},
   "source": [
    "### Run RF Analysis"
   ]
  },
  {
   "cell_type": "code",
   "execution_count": 14,
   "metadata": {},
   "outputs": [
    {
     "name": "stdout",
     "output_type": "stream",
     "text": [
      "Mean Squared Error: 0.0066066489950751765\n",
      "R-squared: 0.9354984156893357\n"
     ]
    }
   ],
   "source": [
    "data = pd.read_csv(\"./generalist_restored_RF_data.csv\")\n",
    "\n",
    "X3 = data.iloc[:, 4:29]  # Columns 4-28 are explanatory\n",
    "Y3 = data.iloc[:, 0:4]   # Columns 0-4 are response variables\n",
    "\n",
    "regressor = RandomForestRegressor(n_estimators=100, random_state=42)\n",
    "\n",
    "regressor.fit(X3, Y3)\n",
    "\n",
    "# Predict using the model\n",
    "predictions = regressor.predict(X3)\n",
    "\n",
    "# Calculate Mean Squared Error\n",
    "mse = mean_squared_error(Y3, predictions)\n",
    "print(f'Mean Squared Error: {mse}')\n",
    "\n",
    "# Calculate R-squared\n",
    "r2 = r2_score(Y3, predictions)\n",
    "print(f'R-squared: {r2}')"
   ]
  },
  {
   "cell_type": "code",
   "execution_count": 15,
   "metadata": {},
   "outputs": [
    {
     "name": "stdout",
     "output_type": "stream",
     "text": [
      "Feature Importances:\n",
      "[0.00000000e+00 2.54382788e-01 4.10754386e-01 0.00000000e+00\n",
      " 0.00000000e+00 8.06775686e-03 1.65458580e-01 0.00000000e+00\n",
      " 4.33496538e-02 2.34157214e-02 9.51609841e-04 0.00000000e+00\n",
      " 0.00000000e+00 0.00000000e+00 8.76534690e-02 3.76712761e-04\n",
      " 1.04631548e-06 8.32979778e-07 2.32592485e-03 8.08236048e-06\n",
      " 7.03988879e-04 2.54944760e-03 0.00000000e+00 0.00000000e+00]\n"
     ]
    },
    {
     "data": {
      "image/png": "[encoded data removed]",
      "text/plain": [
       "<Figure size 720x432 with 1 Axes>"
      ]
     },
     "metadata": {
      "needs_background": "light"
     },
     "output_type": "display_data"
    }
   ],
   "source": [
    "importances3 = regressor.feature_importances_\n",
    "\n",
    "# Print importances\n",
    "print(\"Feature Importances:\")\n",
    "print(importances3)\n",
    "\n",
    "# Set up labels for the features (adjust based on your column names)\n",
    "plotLabs3 = X3.columns  # Using column names directly for labeling\n",
    "\n",
    "# Bar plot of importances\n",
    "plt.figure(figsize=(10, 6))\n",
    "plt.bar(plotLabs3, importances3, align=\"center\")\n",
    "plt.xticks(rotation=90) \n",
    "plt.xlabel(\"Parameters\")\n",
    "plt.ylabel(\"Importance\")\n",
    "plt.title(\"Parameter Importance\")\n",
    "plt.tight_layout()\n",
    "plt.show()"
   ]
  },
  {
   "cell_type": "markdown",
   "metadata": {},
   "source": [
    "## Simulation runs - Specialist Restored Nutrients"
   ]
  },
  {
   "cell_type": "code",
   "execution_count": 21,
   "metadata": {},
   "outputs": [],
   "source": [
    "def specialist_restored_params():\n",
    "    numyears = 36500 # number of years to run simulation\n",
    "\n",
    "    #Herbivore parameters:\n",
    "    r_H = (0.4/365) # prey growth rate\n",
    "    K_H = 50 # carrying capacity of herbivores\n",
    "    theta_H = 0 # immigration of herbivores\n",
    "    c = (0.8/365) # addition to predator from prey\n",
    "    d = 50 # value of H when predation half its max value\n",
    "    q_H = 1.0 # proportionality constant for herbivore harvest\n",
    "    E_H = (0.15/365) # Effort for herbivore harvest\n",
    "    m_H = (0.1/365) # Herbivore mortality \n",
    "\n",
    "    #Predator parameters:\n",
    "    r_P = (0.1/365) # growth rate of predator \n",
    "    K_P = 10 # carrying capactiy of predators \n",
    "    b = (0.8/365) # mortality to prey from predator\n",
    "    theta_P = 0 # immigration of predators  \n",
    "    q_P = 1.0 # proportionality constant for predators harvest\n",
    "    E_P = (0.15/365) # Effort for predator harvest\n",
    "    m_P = (0.01/365) # Predator mortality\n",
    "\n",
    "    #Phytoplankton parameters: \n",
    "    v_m = (2.0) # max growth rate of phytoplankton ## daily rate ?\n",
    "    k_s = 1 # half saturation constant\n",
    "    m_ph = 0.03 # phytoplankton mortality ## daily rate ?\n",
    "    y = 0.1 # unassimilated phytoplankton \n",
    "\n",
    "    #Grazing parameters: \n",
    "    r_m = 1.1 #1.1 # grazing of fish on phytoplankton ## daily ??\n",
    "    kg = 12\n",
    "    N_pulse = 0.234\n",
    "    # Timesteps\n",
    "    dt = 0.1\n",
    "\n",
    "    parameters_dict = {'numyears': numyears,\n",
    "                  'r_H': r_H,\n",
    "                  'K_H': K_H, \n",
    "                  'theta_H': theta_H,\n",
    "                  'c': c, \n",
    "                  'd': d, \n",
    "                  'E_H': E_H,\n",
    "                  'q_H': q_H,\n",
    "                  'm_H': m_H,\n",
    "                  'r_P': r_P,\n",
    "                  'K_P': K_P,\n",
    "                  'theta_P': theta_P, \n",
    "                  'b': b,\n",
    "                  'q_P': q_P, \n",
    "                  'E_P': E_P,\n",
    "                  'm_P': m_P, \n",
    "                  'v_m': v_m,\n",
    "                  'k_s': k_s, \n",
    "                  'm_ph': m_ph, \n",
    "                  'y': y, \n",
    "                  'r_m': r_m, \n",
    "                  'kg': kg,\n",
    "                  'dt': dt,\n",
    "                  'N_pulse': N_pulse\n",
    "                  }\n",
    "    \n",
    "    return parameters_dict"
   ]
  },
  {
   "cell_type": "code",
   "execution_count": 119,
   "metadata": {},
   "outputs": [
    {
     "name": "stdout",
     "output_type": "stream",
     "text": [
      "      H_final    P_final  PH_final   N_final  numyears       r_H   K_H  \\\n",
      "0   13.244368  10.747330  0.218110  0.013067     36500  0.000986  50.0   \n",
      "1   13.819439  11.317295  0.215311  0.013351     36500  0.001041  50.0   \n",
      "2   14.394812  11.877379  0.212656  0.013636     36500  0.001096  50.0   \n",
      "3   14.969214  12.426630  0.210139  0.013924     36500  0.001151  50.0   \n",
      "4   15.541437  12.964232  0.207755  0.014212     36500  0.001205  50.0   \n",
      "..        ...        ...       ...       ...       ...       ...   ...   \n",
      "70  14.610948  12.084534  0.192274  0.014361     36500  0.001096  50.0   \n",
      "71  14.502352  11.980635  0.202568  0.013979     36500  0.001096  50.0   \n",
      "72  14.394812  11.877379  0.212656  0.013636     36500  0.001096  50.0   \n",
      "73  14.288373  11.774818  0.222532  0.013327     36500  0.001096  50.0   \n",
      "74  14.183071  11.673000  0.232191  0.013048     36500  0.001096  50.0   \n",
      "\n",
      "    theta_H         c     d       E_H  q_H       m_H       r_P   K_P  theta_P  \\\n",
      "0         0  0.002192  50.0  0.000411  1.0  0.000274  0.000274  10.0        0   \n",
      "1         0  0.002192  50.0  0.000411  1.0  0.000274  0.000274  10.0        0   \n",
      "2         0  0.002192  50.0  0.000411  1.0  0.000274  0.000274  10.0        0   \n",
      "3         0  0.002192  50.0  0.000411  1.0  0.000274  0.000274  10.0        0   \n",
      "4         0  0.002192  50.0  0.000411  1.0  0.000274  0.000274  10.0        0   \n",
      "..      ...       ...   ...       ...  ...       ...       ...   ...      ...   \n",
      "70        0  0.002192  50.0  0.000411  1.0  0.000274  0.000274  10.0        0   \n",
      "71        0  0.002192  50.0  0.000411  1.0  0.000274  0.000274  10.0        0   \n",
      "72        0  0.002192  50.0  0.000411  1.0  0.000274  0.000274  10.0        0   \n",
      "73        0  0.002192  50.0  0.000411  1.0  0.000274  0.000274  10.0        0   \n",
      "74        0  0.002192  50.0  0.000411  1.0  0.000274  0.000274  10.0        0   \n",
      "\n",
      "           b  q_P       E_P       m_P  v_m  k_s  m_ph    y  r_m    kg   dt  \\\n",
      "0   0.002192  1.0  0.000411  0.000027  2.0  1.0  0.03  0.1  1.1  12.0  0.1   \n",
      "1   0.002192  1.0  0.000411  0.000027  2.0  1.0  0.03  0.1  1.1  12.0  0.1   \n",
      "2   0.002192  1.0  0.000411  0.000027  2.0  1.0  0.03  0.1  1.1  12.0  0.1   \n",
      "3   0.002192  1.0  0.000411  0.000027  2.0  1.0  0.03  0.1  1.1  12.0  0.1   \n",
      "4   0.002192  1.0  0.000411  0.000027  2.0  1.0  0.03  0.1  1.1  12.0  0.1   \n",
      "..       ...  ...       ...       ...  ...  ...   ...  ...  ...   ...  ...   \n",
      "70  0.002192  1.0  0.000411  0.000027  2.0  1.0  0.03  0.1  1.1  10.8  0.1   \n",
      "71  0.002192  1.0  0.000411  0.000027  2.0  1.0  0.03  0.1  1.1  11.4  0.1   \n",
      "72  0.002192  1.0  0.000411  0.000027  2.0  1.0  0.03  0.1  1.1  12.0  0.1   \n",
      "73  0.002192  1.0  0.000411  0.000027  2.0  1.0  0.03  0.1  1.1  12.6  0.1   \n",
      "74  0.002192  1.0  0.000411  0.000027  2.0  1.0  0.03  0.1  1.1  13.2  0.1   \n",
      "\n",
      "    N_pulse  \n",
      "0     0.234  \n",
      "1     0.234  \n",
      "2     0.234  \n",
      "3     0.234  \n",
      "4     0.234  \n",
      "..      ...  \n",
      "70    0.234  \n",
      "71    0.234  \n",
      "72    0.234  \n",
      "73    0.234  \n",
      "74    0.234  \n",
      "\n",
      "[75 rows x 28 columns]\n"
     ]
    }
   ],
   "source": [
    "parameters_dict = specialist_restored_params()\n",
    "params_to_vary = ['r_H', 'K_H', 'd', 'E_H', 'm_H','r_P','K_P', 'E_P', 'm_P', 'v_m', 'k_s', 'm_ph', 'r_m','y', 'kg']  # Parameters to vary\n",
    "variation_range = 0.1  # ±10% variation\n",
    "H0 = 20\n",
    "P0 = 5\n",
    "PH0 = 1\n",
    "N0 = 1\n",
    "\n",
    "# Run the function to vary parameters and collect results\n",
    "results_df = run_model_with_varying_params(parameters_dict, params_to_vary, variation_range, H0, P0, PH0, N0)\n",
    "\n",
    "# Display all columns in the DataFrame\n",
    "pd.set_option('display.max_columns', None)\n",
    "print(results_df)\n",
    "\n",
    "# Optionally save to a CSV\n",
    "results_df.to_csv('specialist_restored_RF_data.csv', index=False)"
   ]
  },
  {
   "cell_type": "markdown",
   "metadata": {},
   "source": [
    "### Run RF Analysis"
   ]
  },
  {
   "cell_type": "code",
   "execution_count": 16,
   "metadata": {},
   "outputs": [
    {
     "name": "stdout",
     "output_type": "stream",
     "text": [
      "Mean Squared Error: 0.004483029803516672\n",
      "R-squared: 0.9344089124788417\n"
     ]
    }
   ],
   "source": [
    "data = pd.read_csv(\"./specialist_restored_RF_data.csv\")\n",
    "\n",
    "X4 = data.iloc[:, 4:29]  # Columns 4-28 are explanatory\n",
    "Y4 = data.iloc[:, 0:4]   # Columns 0-4 are response variables\n",
    "\n",
    "regressor = RandomForestRegressor(n_estimators=100, random_state=42)\n",
    "\n",
    "regressor.fit(X4, Y4)\n",
    "\n",
    "# Predict using the model\n",
    "predictions = regressor.predict(X4)\n",
    "\n",
    "# Calculate Mean Squared Error\n",
    "mse = mean_squared_error(Y4, predictions)\n",
    "print(f'Mean Squared Error: {mse}')\n",
    "\n",
    "# Calculate R-squared\n",
    "r2 = r2_score(Y4, predictions)\n",
    "print(f'R-squared: {r2}')"
   ]
  },
  {
   "cell_type": "code",
   "execution_count": 17,
   "metadata": {},
   "outputs": [
    {
     "name": "stdout",
     "output_type": "stream",
     "text": [
      "Feature Importances:\n",
      "[0.00000000e+00 3.23160066e-01 1.02742572e-01 0.00000000e+00\n",
      " 0.00000000e+00 1.83003773e-01 1.01171254e-01 0.00000000e+00\n",
      " 2.14431516e-02 2.24793064e-03 8.18894211e-02 0.00000000e+00\n",
      " 0.00000000e+00 0.00000000e+00 1.57591780e-01 6.97433996e-04\n",
      " 1.80579739e-06 1.37887179e-06 1.10580446e-02 3.66437545e-05\n",
      " 3.19993216e-03 1.17548137e-02 0.00000000e+00 0.00000000e+00]\n"
     ]
    },
    {
     "data": {
      "image/png": "[encoded data removed]",
      "text/plain": [
       "<Figure size 720x432 with 1 Axes>"
      ]
     },
     "metadata": {
      "needs_background": "light"
     },
     "output_type": "display_data"
    }
   ],
   "source": [
    "importances4 = regressor.feature_importances_\n",
    "\n",
    "# Print importances\n",
    "print(\"Feature Importances:\")\n",
    "print(importances4)\n",
    "\n",
    "# Set up labels for the features (adjust based on your column names)\n",
    "plotLabs4 = X4.columns  # Using column names directly for labeling\n",
    "\n",
    "# Bar plot of importances\n",
    "plt.figure(figsize=(10, 6))\n",
    "plt.bar(plotLabs4, importances4, align=\"center\")\n",
    "plt.xticks(rotation=90) \n",
    "plt.xlabel(\"Parameters\")\n",
    "plt.ylabel(\"Importance\")\n",
    "plt.title(\"Parameter Importance\")\n",
    "plt.tight_layout()\n",
    "plt.show()"
   ]
  },
  {
   "cell_type": "markdown",
   "metadata": {},
   "source": [
    "## Subplots"
   ]
  },
  {
   "cell_type": "code",
   "execution_count": 18,
   "metadata": {},
   "outputs": [
    {
     "data": {
      "image/png": "[encoded data removed]",
      "text/plain": [
       "<Figure size 1080x864 with 4 Axes>"
      ]
     },
     "metadata": {
      "needs_background": "light"
     },
     "output_type": "display_data"
    }
   ],
   "source": [
    "# Create a 2x2 grid for subplots\n",
    "fig, axs = plt.subplots(2, 2, figsize=(15, 12))\n",
    "\n",
    "# Define the data and labels for each subplot\n",
    "datasets = [\n",
    "    (importances1, X1.columns, \"Current Nutrients: Generalist Predation\"),\n",
    "    (importances2, X2.columns, \"Current Nutrients: Specialist Predation\"),\n",
    "    (importances3, X3.columns, \"Restored Nutrients: Generalist Predation\"),\n",
    "    (importances4, X4.columns, \"Restored Nutrients: Specialist Predation\"),\n",
    "]\n",
    "\n",
    "# Loop through the datasets and plot each on a subplot\n",
    "for i, (importances, plotLabs, title) in enumerate(datasets):\n",
    "    # Determine the subplot location\n",
    "    ax = axs[i // 2, i % 2]  # 0, 1, 2, 3 -> [0,0], [0,1], [1,0], [1,1]\n",
    "    \n",
    "    # Plot the feature importances\n",
    "    ax.bar(plotLabs, importances, align=\"center\")\n",
    "    ax.set_xticks(range(len(plotLabs)))\n",
    "    ax.set_xticklabels(plotLabs, rotation=90)\n",
    "    ax.set_xlabel(\"Parameters\")\n",
    "    ax.set_ylabel(\"Importance\")\n",
    "    ax.set_title(title)\n",
    "\n",
    "# Adjust layout to prevent overlap\n",
    "plt.tight_layout()\n",
    "\n",
    "# Show the grid of plots\n",
    "plt.show()"
   ]
  },
  {
   "cell_type": "markdown",
   "metadata": {},
   "source": [
    "### Filter out columns that are not of interest"
   ]
  },
  {
   "cell_type": "code",
   "execution_count": 19,
   "metadata": {},
   "outputs": [],
   "source": [
    "columns_to_keep = ['r_H', 'K_H', 'd','m_H', 'E_H', 'r_P', 'K_P', 'm_P', 'E_P', 'kg', 'r_m', 'm_ph']\n",
    "\n",
    "# Filter the columns and importances based on columns_to_keep\n",
    "filtered_columns = [col for col in X1.columns if col in columns_to_keep]\n",
    "filtered_importances1 = [importance for col, importance in zip(X1.columns, importances1) if col in columns_to_keep]\n",
    "\n",
    "# Similarly, filter other importances and columns for the remaining datasets\n",
    "filtered_importances2 = [importance for col, importance in zip(X2.columns, importances2) if col in columns_to_keep]\n",
    "filtered_importances3 = [importance for col, importance in zip(X3.columns, importances3) if col in columns_to_keep]\n",
    "filtered_importances4 = [importance for col, importance in zip(X4.columns, importances4) if col in columns_to_keep]"
   ]
  },
  {
   "cell_type": "code",
   "execution_count": 20,
   "metadata": {},
   "outputs": [],
   "source": [
    "# LaTeX labels for filtered columns\n",
    "filtered_labels = [f\"${col}$\" for col in filtered_columns]"
   ]
  },
  {
   "cell_type": "markdown",
   "metadata": {},
   "source": [
    "### Plot Importances"
   ]
  },
  {
   "cell_type": "code",
   "execution_count": 21,
   "metadata": {},
   "outputs": [
    {
     "data": {
      "image/png": "[encoded data removed]",
      "text/plain": [
       "<Figure size 1080x864 with 4 Axes>"
      ]
     },
     "metadata": {
      "needs_background": "light"
     },
     "output_type": "display_data"
    }
   ],
   "source": [
    "# Create a 2x2 grid for subplots\n",
    "fig, axs = plt.subplots(2, 2, figsize=(15, 12))\n",
    "\n",
    "# Define the data and labels for each subplot\n",
    "datasets = [\n",
    "    (filtered_importances1, filtered_labels, \"Current Nutrients: Generalist Predation\"),\n",
    "    (filtered_importances2, filtered_labels, \"Current Nutrients: Specialist Predation\"),\n",
    "    (filtered_importances3, filtered_labels, \"Restored Nutrients: Generalist Predation\"),\n",
    "    (filtered_importances4, filtered_labels, \"Restored Nutrients: Specialist Predation\"),\n",
    "]\n",
    "\n",
    "# Loop through the datasets and plot each on a subplot\n",
    "for i, (importances, plotLabs, title) in enumerate(datasets):\n",
    "    # Determine the subplot location\n",
    "    ax = axs[i // 2, i % 2]  # Map 0, 1, 2, 3 to [0,0], [0,1], [1,0], [1,1]\n",
    "\n",
    "    # Plot the feature importances as a horizontal bar chart\n",
    "    ax.barh(plotLabs, importances, align=\"center\")\n",
    "    ax.set_xlim(0, 0.6)  # Adjust x-axis range to 0-0.5\n",
    "    ax.set_xlabel(\"Importance\", fontsize = 15)\n",
    "    ax.set_ylabel(\"Parameter\", fontsize = 15)\n",
    "    ax.set_title(title, fontsize = 16)\n",
    "    ax.tick_params(axis='y', labelsize=13)\n",
    "    ax.tick_params(axis='x', labelsize=13)\n",
    "\n",
    "# Adjust layout to prevent overlap\n",
    "plt.tight_layout()\n",
    "\n",
    "# Show the grid of plots\n",
    "plt.show()"
   ]
  },
  {
   "cell_type": "markdown",
   "metadata": {},
   "source": [
    "# Random Forest"
   ]
  },
  {
   "cell_type": "code",
   "execution_count": 71,
   "metadata": {},
   "outputs": [],
   "source": [
    "import sklearn\n",
    "from sklearn.ensemble import RandomForestRegressor\n",
    "from sklearn.metrics import mean_squared_error, r2_score"
   ]
  },
  {
   "cell_type": "markdown",
   "metadata": {},
   "source": [
    "#### Reading in CSV file"
   ]
  },
  {
   "cell_type": "code",
   "execution_count": 72,
   "metadata": {},
   "outputs": [],
   "source": [
    "data = pd.read_csv(\"./model_results_with_varying_params.csv\")"
   ]
  },
  {
   "cell_type": "markdown",
   "metadata": {},
   "source": [
    "#### Split into explanatory (X) and response (Y) variables "
   ]
  },
  {
   "cell_type": "code",
   "execution_count": 73,
   "metadata": {},
   "outputs": [],
   "source": [
    "X = data.iloc[:, 4:29]  # Columns 4-28 are explanatory\n",
    "Y = data.iloc[:, 0:4]   # Columns 0-4 are response variables"
   ]
  },
  {
   "cell_type": "markdown",
   "metadata": {},
   "source": [
    "#### Setup Random Forest "
   ]
  },
  {
   "cell_type": "code",
   "execution_count": 74,
   "metadata": {},
   "outputs": [],
   "source": [
    "regressor = RandomForestRegressor(n_estimators=100, random_state=42)"
   ]
  },
  {
   "cell_type": "markdown",
   "metadata": {},
   "source": [
    "#### Fit model to data"
   ]
  },
  {
   "cell_type": "code",
   "execution_count": 75,
   "metadata": {},
   "outputs": [
    {
     "data": {
      "text/plain": [
       "RandomForestRegressor(random_state=42)"
      ]
     },
     "execution_count": 75,
     "metadata": {},
     "output_type": "execute_result"
    }
   ],
   "source": [
    "regressor.fit(X, Y)"
   ]
  },
  {
   "cell_type": "markdown",
   "metadata": {},
   "source": [
    "## Model Evaluation"
   ]
  },
  {
   "cell_type": "markdown",
   "metadata": {},
   "source": [
    "#### Calculate how well the model makes predictions; calculate the mean squared error and $r^2$ "
   ]
  },
  {
   "cell_type": "code",
   "execution_count": 77,
   "metadata": {},
   "outputs": [
    {
     "name": "stdout",
     "output_type": "stream",
     "text": [
      "Mean Squared Error: 0.006720128503839543\n",
      "R-squared: 0.9340610889425671\n"
     ]
    }
   ],
   "source": [
    "# Predict using the model\n",
    "predictions = regressor.predict(X)\n",
    "\n",
    "# Calculate Mean Squared Error\n",
    "mse = mean_squared_error(Y, predictions)\n",
    "print(f'Mean Squared Error: {mse}')\n",
    "\n",
    "# Calculate R-squared\n",
    "r2 = r2_score(Y, predictions)\n",
    "print(f'R-squared: {r2}')"
   ]
  },
  {
   "cell_type": "markdown",
   "metadata": {},
   "source": [
    "## Sensitivity Analysis "
   ]
  },
  {
   "cell_type": "markdown",
   "metadata": {},
   "source": [
    "#### Have model give importanc of each explanatory variable (i.e amount of $r^2$ value explained by a given variable)"
   ]
  },
  {
   "cell_type": "code",
   "execution_count": 78,
   "metadata": {},
   "outputs": [
    {
     "name": "stdout",
     "output_type": "stream",
     "text": [
      "Feature Importances:\n",
      "[0.00000000e+00 6.01629709e-02 5.04780549e-01 0.00000000e+00\n",
      " 0.00000000e+00 8.22318793e-02 6.44774836e-02 0.00000000e+00\n",
      " 1.76273440e-02 3.83183357e-04 6.64082173e-02 0.00000000e+00\n",
      " 0.00000000e+00 0.00000000e+00 1.99883639e-01 9.09495705e-04\n",
      " 1.74647187e-06 9.08653221e-07 1.07621654e-03 5.44600751e-06\n",
      " 4.46272608e-04 1.60464724e-03 0.00000000e+00 0.00000000e+00]\n"
     ]
    },
    {
     "data": {
      "image/png": "[encoded data removed]",
      "text/plain": [
       "<Figure size 720x432 with 1 Axes>"
      ]
     },
     "metadata": {
      "needs_background": "light"
     },
     "output_type": "display_data"
    }
   ],
   "source": [
    "importances = regressor.feature_importances_\n",
    "\n",
    "# Print importances\n",
    "print(\"Feature Importances:\")\n",
    "print(importances)\n",
    "\n",
    "# Set up labels for the features (adjust based on your column names)\n",
    "plotLabs = X.columns  # Using column names directly for labeling\n",
    "\n",
    "# Bar plot of importances\n",
    "plt.figure(figsize=(10, 6))\n",
    "plt.bar(plotLabs, importances, align=\"center\")\n",
    "plt.xticks(rotation=90) \n",
    "plt.xlabel(\"Parameters\")\n",
    "plt.ylabel(\"Importance\")\n",
    "plt.title(\"Parameter Importance\")\n",
    "plt.tight_layout()\n",
    "plt.show()"
   ]
  },
  {
   "cell_type": "markdown",
   "metadata": {},
   "source": [
    "##### Want to test these params in the facets: r_H, K_H, d, E_H, m_H, r_P, K_P, E_P, m_P, v_m, k_s, m_ph, y, r_m, kg"
   ]
  },
  {
   "cell_type": "code",
   "execution_count": null,
   "metadata": {},
   "outputs": [],
   "source": []
  },
  {
   "cell_type": "code",
   "execution_count": null,
   "metadata": {},
   "outputs": [],
   "source": []
  },
  {
   "cell_type": "markdown",
   "metadata": {},
   "source": [
    "## If want to vary params by different amounts"
   ]
  },
  {
   "cell_type": "code",
   "execution_count": null,
   "metadata": {},
   "outputs": [],
   "source": [
    "# Function to vary parameters and document all parameter values\n",
    "def run_model_with_varying_params(parameters_dict, params_to_vary, variation_ranges, num_steps, H0, P0, PH0, N0):\n",
    "    # Initialize an empty list to store all results\n",
    "    all_results = []\n",
    "    \n",
    "    # Loop through each parameter to vary\n",
    "    for param in params_to_vary:\n",
    "        # Store the original value of the parameter\n",
    "        original_value = parameters_dict[param]\n",
    "        \n",
    "        # Get the variation range for the current parameter\n",
    "        if param in variation_ranges:\n",
    "            param_range = variation_ranges[param]\n",
    "        else:\n",
    "            param_range = (original_value * 0.1)  # Default ±10% variation if not specified\n",
    "        \n",
    "        # Generate values to vary the parameter within the specified range and the number of steps\n",
    "        varied_values = np.linspace(\n",
    "            original_value - param_range,  # Lower bound\n",
    "            original_value + param_range,  # Upper bound\n",
    "            num_steps  # The same number of steps across all parameters\n",
    "        )\n",
    "        \n",
    "        # Loop through each varied value for the current parameter\n",
    "        for value in varied_values:\n",
    "            # Update the parameter in the dictionary\n",
    "            parameters_dict[param] = value\n",
    "            \n",
    "            # Run the model with the updated parameters\n",
    "            H_array, P_array, PH_array, N_array, H_harvest_array, P_harvest_array, grazing_array = run_model(\n",
    "                H0, P0, PH0, N0, parameters_dict\n",
    "            )\n",
    "            \n",
    "            # Create a dictionary to store the results for this run\n",
    "            result = {\n",
    "                'H_final': H_array[-1],\n",
    "                'P_final': P_array[-1],\n",
    "                'PH_final': PH_array[-1],\n",
    "                'N_final': N_array[-1]\n",
    "            }\n",
    "            \n",
    "            # Add all parameter values to the result\n",
    "            result.update(parameters_dict)\n",
    "            \n",
    "            # Append the result to the list\n",
    "            all_results.append(result)\n",
    "        \n",
    "        # Reset the parameter to its original value\n",
    "        parameters_dict[param] = original_value\n",
    "    \n",
    "    # Convert the results list to a DataFrame\n",
    "    results_df = pd.DataFrame(all_results)\n",
    "    return results_df\n",
    "\n",
    "# Specify parameters to vary and their custom variation ranges\n",
    "params_to_vary = ['r_H', 'K_H', 'c', 'b', 'v_m', 'N_pulse', 'r_P', 'K_P', 'E_H', 'E_P']  # Parameters to vary\n",
    "\n",
    "# Define custom variation ranges for each parameter\n",
    "variation_ranges = {\n",
    "    'E_P': 0.5,      # ±50% range for E_P\n",
    "    'r_P': 0.0005,   # ±0.05% range for r_P\n",
    "    'r_H': 0.02,     # ±2% range for r_H\n",
    "    'K_H': 10,       # ±10 for K_H\n",
    "    'c': 0.1,        # ±10% range for c\n",
    "    'b': 0.05,       # ±5% range for b\n",
    "    'v_m': 0.005,    # ±0.5% range for v_m\n",
    "    'N_pulse': 0.1,  # ±10% range for N_pulse\n",
    "    'K_P': 5,        # ±5 for K_P\n",
    "    'E_H': 0.05      # ±5% range for E_H\n",
    "}\n",
    "\n",
    "# Set initial conditions and parameter values\n",
    "parameters_dict = {\n",
    "    'r_H': 0.1, \n",
    "    'K_H': 100, \n",
    "    'c': 0.5, \n",
    "    'b': 0.2, \n",
    "    'v_m': 2.0, \n",
    "    'N_pulse': 0.1, \n",
    "    'r_P': 0.001, \n",
    "    'K_P': 50, \n",
    "    'E_H': 0.5, \n",
    "    'E_P': 0.8, \n",
    "    'numyears': 36500,\n",
    "    'theta_H': 0, \n",
    "    'd': 50,\n",
    "    'q_H': 1.0,\n",
    "    'm_H': (0.1/365),\n",
    "    'theta_P': 0,\n",
    "    'q_P': 1.0,\n",
    "    'm_P': (0.01/365),\n",
    "    'k_s': 1,\n",
    "    'm_ph': 0.03,\n",
    "    'y': 0.1,\n",
    "    'r_m': 1.1,\n",
    "    'kg': 12,\n",
    "    'dt': 0.1\n",
    "}\n",
    "\n",
    "H0, P0, PH0, N0 = 100, 50, 20, 1000  # Example initial conditions\n",
    "\n",
    "# Define the number of steps for each parameter variation (same for all parameters)\n",
    "num_steps = 5\n",
    "\n",
    "# Run the function to vary parameters and collect results\n",
    "results_df = run_model_with_varying_params(parameters_dict, params_to_vary, variation_ranges, num_steps, H0, P0, PH0, N0)\n",
    "\n",
    "# Display all columns in the DataFrame\n",
    "pd.set_option('display.max_columns', None)\n",
    "print(results_df)\n",
    "\n",
    "# Optionally save to a CSV\n",
    "results_df.to_csv('model_results_with_varying_params.csv', index=False)"
   ]
  },
  {
   "cell_type": "code",
   "execution_count": null,
   "metadata": {},
   "outputs": [],
   "source": []
  },
  {
   "cell_type": "code",
   "execution_count": null,
   "metadata": {},
   "outputs": [],
   "source": []
  },
  {
   "cell_type": "code",
   "execution_count": null,
   "metadata": {},
   "outputs": [],
   "source": []
  }
 ],
 "metadata": {
  "kernelspec": {
   "display_name": "py36test",
   "language": "python",
   "name": "py36test"
  },
  "language_info": {
   "codemirror_mode": {
    "name": "ipython",
    "version": 3
   },
   "file_extension": ".py",
   "mimetype": "text/x-python",
   "name": "python",
   "nbconvert_exporter": "python",
   "pygments_lexer": "ipython3",
   "version": "3.6.10"
  }
 },
 "nbformat": 4,
 "nbformat_minor": 4
}
