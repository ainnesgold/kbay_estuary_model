{
 "cells": [
  {
   "cell_type": "markdown",
   "metadata": {},
   "source": [
    "# Python version - Supermodel - Nutrient Pulses"
   ]
  },
  {
   "cell_type": "code",
   "execution_count": 1,
   "metadata": {},
   "outputs": [],
   "source": [
    "import numpy as np\n",
    "import matplotlib.pyplot as plt\n",
    "from matplotlib import rc\n",
    "import seaborn as sns\n",
    "import pandas as pd\n",
    "from scipy import stats\n",
    "from scipy.optimize import curve_fit\n",
    "from scipy.integrate import odeint\n",
    "from scipy.integrate import solve_ivp"
   ]
  },
  {
   "cell_type": "markdown",
   "metadata": {},
   "source": [
    "## Included N_pulse as a param"
   ]
  },
  {
   "cell_type": "code",
   "execution_count": 2,
   "metadata": {},
   "outputs": [],
   "source": [
    "def dNdt(H, P, PH, N, parameters_dict):\n",
    "    # Unpacking parameters\n",
    "    r_H = parameters_dict['r_H']\n",
    "    K_H = parameters_dict['K_H']\n",
    "    theta_H = parameters_dict['theta_H']\n",
    "    c = parameters_dict['c']\n",
    "    d = parameters_dict['d']\n",
    "    q_H = parameters_dict['q_H']\n",
    "    E_H = parameters_dict['E_H']\n",
    "    m_H = parameters_dict['m_H']\n",
    "    r_P = parameters_dict['r_P']\n",
    "    K_P = parameters_dict['K_P']\n",
    "    b = parameters_dict['b']\n",
    "    theta_P = parameters_dict['theta_P']\n",
    "    q_P = parameters_dict['q_P']\n",
    "    E_P = parameters_dict['E_P']\n",
    "    m_P = parameters_dict['m_P']\n",
    "    v_m = parameters_dict['v_m']\n",
    "    k_s = parameters_dict['k_s']\n",
    "    m_ph = parameters_dict['m_ph']\n",
    "    y = parameters_dict['y']\n",
    "    r_m = parameters_dict['r_m']\n",
    "    kg = parameters_dict['kg']\n",
    "    N_pulse = parameters_dict['N_pulse']\n",
    "\n",
    "\n",
    "    # Calculate derivatives\n",
    "    dH = r_H * H * (1 - H / K_H) + ((1 - y) * r_m * (kg ** -1 * PH * (1 - np.exp(-kg ** -1 * PH))) * H) * (1 - H / K_H) - (\n",
    "                c * H * P) / (d + H) + theta_H - q_H * E_H * H - m_H * H\n",
    "    dP = r_P * P * (1 - P / K_P) + (b * H * P) / (d + H) + theta_P - q_P * E_P * P - m_P * P\n",
    "    dPH = ((v_m * N * PH) / (k_s + N)) - (m_ph * PH) - ((r_m * (kg ** -1 * PH * (1 - np.exp(-kg ** -1 * PH)))) * H)\n",
    "    dN = -((v_m * N * PH) / (k_s + N)) + (m_ph * PH) + (m_H * H) + (y * (r_m * (kg ** -1 * PH * (1 - np.exp(-kg ** -1 * PH)))) * H) + (\n",
    "                m_P * P)\n",
    "\n",
    "    return dH, dP, dPH, dN"
   ]
  },
  {
   "cell_type": "code",
   "execution_count": 3,
   "metadata": {},
   "outputs": [],
   "source": [
    "# Function: numerical solver, 2nd order RK \n",
    "\n",
    "def RK2(H, P, PH, N, parameters_dict):\n",
    "    H_init = H\n",
    "    P_init = P\n",
    "    PH_init = PH \n",
    "    N_init = N \n",
    "    \n",
    "    dH1, dP1, dPH1, dN1 = dNdt(H, P, PH, N, parameters_dict)\n",
    "    \n",
    "    H1 = H + 0.5 * dH1 #* dt\n",
    "    P1 = P + 0.5 * dP1 #* dt\n",
    "    PH1 = PH + 0.5 * dPH1 #* dt\n",
    "    N1 = N + 0.5 * dN1 #* dt\n",
    "    \n",
    "    dH2, dP2, dPH2, dN2 = dNdt(H1, P1, PH1, N1, parameters_dict)\n",
    "    \n",
    "    dH_ave = (dH1+dH2)/2 \n",
    "    dP_ave = (dP1+dP2)/2\n",
    "    dPH_ave = (dPH1+dPH2)/2\n",
    "    dN_ave = (dN1+dN2)/2\n",
    "    \n",
    "    H = (H_init + dH_ave) #* dt #(include as another param)\n",
    "    P = (P_init + dP_ave) #* dt\n",
    "    PH = (PH_init + dPH_ave) #* dt \n",
    "    N = (N_init + dN_ave) #* dt\n",
    "    \n",
    "    if H < 0:\n",
    "        H = 0 \n",
    "        \n",
    "    if P < 0:\n",
    "        P = 0 \n",
    "    \n",
    "    if PH < 0:\n",
    "        PH = 0 \n",
    "        \n",
    "    if N < 0:\n",
    "        N = 0\n",
    "        \n",
    "    \n",
    "    #Calculate harvest \n",
    "    q_H = parameters_dict['q_H'] #proportionality constant for herbivore harvest \n",
    "    E_H = parameters_dict['E_H'] #Effort for herbivore harvest\n",
    "    \n",
    "    q_P = parameters_dict['q_P'] #proportionality constant for herbivore harvest \n",
    "    E_P = parameters_dict['E_P'] #Effort for herbivore harvest\n",
    "    \n",
    "    herbivore_harvest = q_H*E_H*H\n",
    "    predator_harvest = q_P*E_P*P\n",
    "    \n",
    "    #Calculate grazing \n",
    "    r_m = parameters_dict['r_m'] # grazing of fish on phytoplankton\n",
    "    kg = parameters_dict['kg']\n",
    "    \n",
    "    grazing = r_m * (kg**-1 * PH * (1 - np.exp(-kg**-1 * PH))) * H\n",
    "    \n",
    "    return H, P, PH, N, herbivore_harvest, predator_harvest, grazing"
   ]
  },
  {
   "cell_type": "code",
   "execution_count": 4,
   "metadata": {},
   "outputs": [],
   "source": [
    "\n",
    "def run_model(INIT_H, INIT_P, INIT_PH, INIT_N, parameters_dict):\n",
    "    \n",
    "    numyears = parameters_dict['numyears']\n",
    "    \n",
    "    \n",
    "    H_array = np.zeros(numyears+1)\n",
    "    P_array = np.zeros(numyears+1)\n",
    "    PH_array = np.zeros(numyears+1)\n",
    "    N_array = np.zeros(numyears+1)\n",
    "    H_harvest_array = np.zeros(numyears+1)\n",
    "    P_harvest_array = np.zeros(numyears+1)\n",
    "    grazing_array = np.zeros(numyears+1)\n",
    "    \n",
    "    H_array[0] = INIT_H #Starting biomass of herbivore\n",
    "    P_array[0] = INIT_P #Starting biomass of predator \n",
    "    PH_array[0] = INIT_PH #Starting biomass of phytoplankton\n",
    "    N_array[0] = INIT_N #Starting biomass of nutrients\n",
    "    H_harvest_array[0] = 0\n",
    "    P_harvest_array[0] = 0\n",
    "    grazing_array[0] = 0\n",
    "  \n",
    "    \n",
    "    for i in np.arange(0,numyears):\n",
    "        H_array[i+1], P_array[i+1], PH_array[i+1], N_array[i+1], H_harvest_array[i+1], P_harvest_array[i+1], grazing_array[i+1], \\\n",
    "            = RK2(H_array[i], P_array[i], PH_array[i], N_array[i], parameters_dict)\n",
    "        \n",
    "        # Check if it's time to add a pulse of nutrients\n",
    "        if (i + 1) % 30 == 0:\n",
    "            N_pulse = parameters_dict['N_pulse']  # Define the magnitude of the nutrient pulse\n",
    "            N_array[i + 1] += N_pulse  # Add the nutrient pulse\n",
    "        \n",
    "    \n",
    "    return H_array, P_array, PH_array, N_array, H_harvest_array, P_harvest_array, grazing_array"
   ]
  },
  {
   "cell_type": "code",
   "execution_count": 5,
   "metadata": {},
   "outputs": [],
   "source": [
    "numyears = 36500 # number of years to run simulation\n",
    "\n",
    "#Herbivore parameters:\n",
    "r_H = (0.4/365) # prey growth rate\n",
    "K_H = 100 # carrying capacity of herbivores\n",
    "theta_H = 0 # immigration of herbivores\n",
    "c = (0.8/365) # addition to predator from prey\n",
    "d = 50 # value of H when predation half its max value\n",
    "q_H = 1.0 # proportionality constant for herbivore harvest\n",
    "E_H = (0.0/365) # Effort for herbivore harvest\n",
    "m_H = (0.2/365) # Herbivore mortality \n",
    "\n",
    "#Predator parameters:\n",
    "r_P = (0.4/365) # growth rate of predator \n",
    "K_P = 10 # carrying capactiy of predators \n",
    "b = (0.8/365) # mortality to prey from predator\n",
    "theta_P = 0 # immigration of predators  \n",
    "q_P = 1.0 # proportionality constant for predators harvest\n",
    "E_P = (0.0/365) # Effort for predator harvest\n",
    "m_P = (0.25/365) # Predator mortality\n",
    "\n",
    "#Phytoplankton parameters: \n",
    "v_m = (2.0) # max growth rate of phytoplankton ## daily rate ?\n",
    "k_s = 1 # half saturation constant\n",
    "m_ph = (0.01) # phytoplankton mortality ## daily rate ?\n",
    "y = 0.1 # unassimilated phytoplankton \n",
    "\n",
    "#Grazing parameters: \n",
    "r_m = 1.1 # grazing of fish on phytoplankton ## daily ??\n",
    "kg = 12\n",
    "N_pulse = 1\n",
    "# Timesteps\n",
    "dt = 0.1\n",
    "\n",
    "parameters_dict = {'numyears': numyears,\n",
    "                  'r_H': r_H,\n",
    "                  'K_H': K_H, \n",
    "                  'theta_H': theta_H,\n",
    "                  'c': c, \n",
    "                  'd': d, \n",
    "                  'E_H': E_H,\n",
    "                  'q_H': q_H,\n",
    "                  'm_H': m_H,\n",
    "                  'r_P': r_P,\n",
    "                  'K_P': K_P,\n",
    "                  'theta_P': theta_P, \n",
    "                  'b': b,\n",
    "                  'q_P': q_P, \n",
    "                  'E_P': E_P,\n",
    "                  'm_P': m_P, \n",
    "                  'v_m': v_m,\n",
    "                  'k_s': k_s, \n",
    "                  'm_ph': m_ph, \n",
    "                  'y': y, \n",
    "                  'r_m': r_m, \n",
    "                  'kg': kg,\n",
    "                  'dt': dt,\n",
    "                  'N_pulse': N_pulse\n",
    "                  }"
   ]
  },
  {
   "cell_type": "code",
   "execution_count": 6,
   "metadata": {},
   "outputs": [],
   "source": [
    "numyears = 36500 # number of years to run simulation \n",
    "\n",
    "H0 = 20\n",
    "P0 = 5\n",
    "PH0 = 1\n",
    "N0 = 1\n",
    "\n",
    "H_array, P_array, PH_array, N_array, H_harvest_array, P_harvest_array, grazing_array = run_model(H0, P0, PH0, N0, parameters_dict)"
   ]
  },
  {
   "cell_type": "code",
   "execution_count": 7,
   "metadata": {},
   "outputs": [
    {
     "data": {
      "text/plain": [
       "Text(0, 0.5, 'Nutrients Biomass')"
      ]
     },
     "execution_count": 7,
     "metadata": {},
     "output_type": "execute_result"
    },
    {
     "data": {
      "image/png": "[encoded data removed]",
      "text/plain": [
       "<Figure size 432x288 with 1 Axes>"
      ]
     },
     "metadata": {
      "needs_background": "light"
     },
     "output_type": "display_data"
    }
   ],
   "source": [
    "# Calculate the number of years in the simulation\n",
    "numyears = parameters_dict['numyears']\n",
    "years = numyears / 365\n",
    "\n",
    "# Generate x-values representing years\n",
    "time_years = np.linspace(0, years, len(H_array))\n",
    "\n",
    "plt.plot(time_years, N_array)\n",
    "plt.xlabel('Number of Years')\n",
    "plt.ylabel('Nutrients Biomass')"
   ]
  },
  {
   "cell_type": "code",
   "execution_count": 8,
   "metadata": {},
   "outputs": [
    {
     "data": {
      "image/png": "[encoded data removed]",
      "text/plain": [
       "<Figure size 432x288 with 1 Axes>"
      ]
     },
     "metadata": {
      "needs_background": "light"
     },
     "output_type": "display_data"
    }
   ],
   "source": [
    "plt.plot(time_years, H_array, label=\"Prey\")\n",
    "plt.plot(time_years, P_array, label = \"Predator\")\n",
    "plt.plot(time_years, PH_array, label= \"Phytoplankton\")\n",
    "plt.plot(time_years, N_array, label= \"Nutrients\")\n",
    "plt.legend()\n",
    "plt.xlabel('Number of Years')\n",
    "plt.ylabel('Biomass')\n",
    "plt.title('Community Dynamics with Nutrient Pulses')\n",
    "\n",
    "plt.show()"
   ]
  },
  {
   "cell_type": "code",
   "execution_count": 9,
   "metadata": {},
   "outputs": [
    {
     "data": {
      "image/png": "[encoded data removed]",
      "text/plain": [
       "<Figure size 432x288 with 1 Axes>"
      ]
     },
     "metadata": {
      "needs_background": "light"
     },
     "output_type": "display_data"
    }
   ],
   "source": [
    "# Define the range of N_pulse_array values to plot\n",
    "size = 25\n",
    "N_pulse_array = np.linspace(0.0, 1.0, size)\n",
    "N_final_array = np.zeros(size)\n",
    "H_final_array = np.zeros(size)\n",
    "P_final_array = np.zeros(size)\n",
    "\n",
    "for i, N_pulse in enumerate(N_pulse_array):\n",
    "    parameters_dict['N_pulse'] = N_pulse\n",
    "    H_array, P_array, PH_array, N_array, H_harvest_array, P_harvest_array, grazing_array = run_model(H0, P0, PH0, N0, parameters_dict)\n",
    "    N_final_array[i] = np.mean(N_array[-3650:-1])\n",
    "    H_final_array[i] = np.mean(H_array[-3650:-1])\n",
    "    P_final_array[i] = np.mean(P_array[-3650:-1])\n",
    "\n",
    "# Plot the final abundances\n",
    "#plt.plot(N_pulse_array, N_final_array, label='Nutrients', color=\"red\", marker=\"o\")\n",
    "plt.plot(N_pulse_array, H_final_array, label='Prey', color=\"limegreen\", marker=\"o\")\n",
    "plt.plot(N_pulse_array, P_final_array, label='Predator', color=\"purple\", marker=\"o\")\n",
    "plt.title('Final Biomass Across Nutrient Pulse Values')\n",
    "plt.xlabel('Nutrient Pulse Values $(g/m^3)$')\n",
    "plt.ylabel('Final Biomass $(g/m^2)$')\n",
    "plt.ylim(0,75)\n",
    "plt.legend()\n",
    "\n",
    "plt.savefig(\"figs/N_pulse_biomasses.jpg\",\n",
    "            format='jpeg',\n",
    "            dpi=300,\n",
    "            bbox_inches='tight')\n",
    "\n",
    "# Show the plot\n",
    "plt.show()"
   ]
  },
  {
   "cell_type": "code",
   "execution_count": 10,
   "metadata": {},
   "outputs": [
    {
     "name": "stdout",
     "output_type": "stream",
     "text": [
      "[14.09816629 14.15740118 14.21325115 14.26606491 14.31613927 14.36372908\n",
      " 14.40905489 14.45230891 14.49365974 14.5332561  14.57122989 14.60769867\n",
      " 14.64276764 14.67653138 14.70907522 14.74047642 14.77080515 14.80012537\n",
      " 14.82849551 14.85596913 14.8825954  14.90841961 14.93348357 14.95782592\n",
      " 14.98148249]\n"
     ]
    }
   ],
   "source": [
    "print(P_final_array)"
   ]
  },
  {
   "cell_type": "code",
   "execution_count": 12,
   "metadata": {},
   "outputs": [
    {
     "name": "stdout",
     "output_type": "stream",
     "text": [
      "53.607255323523454\n",
      "64.0446777483303\n"
     ]
    }
   ],
   "source": [
    "print(min(H_final_array))\n",
    "print(max(H_final_array))\n",
    "print(\"Percent change =\" )"
   ]
  },
  {
   "cell_type": "code",
   "execution_count": 13,
   "metadata": {},
   "outputs": [
    {
     "name": "stdout",
     "output_type": "stream",
     "text": [
      "14.098166285485066\n",
      "14.98148249454606\n"
     ]
    }
   ],
   "source": [
    "print(min(P_final_array))\n",
    "print(max(P_final_array))"
   ]
  },
  {
   "cell_type": "code",
   "execution_count": null,
   "metadata": {},
   "outputs": [],
   "source": []
  },
  {
   "cell_type": "code",
   "execution_count": null,
   "metadata": {},
   "outputs": [],
   "source": []
  },
  {
   "cell_type": "code",
   "execution_count": null,
   "metadata": {},
   "outputs": [],
   "source": []
  },
  {
   "cell_type": "code",
   "execution_count": null,
   "metadata": {},
   "outputs": [],
   "source": []
  },
  {
   "cell_type": "code",
   "execution_count": null,
   "metadata": {},
   "outputs": [],
   "source": []
  },
  {
   "cell_type": "code",
   "execution_count": null,
   "metadata": {},
   "outputs": [],
   "source": []
  },
  {
   "cell_type": "code",
   "execution_count": null,
   "metadata": {},
   "outputs": [],
   "source": []
  },
  {
   "cell_type": "code",
   "execution_count": null,
   "metadata": {},
   "outputs": [],
   "source": []
  },
  {
   "cell_type": "code",
   "execution_count": null,
   "metadata": {},
   "outputs": [],
   "source": []
  },
  {
   "cell_type": "code",
   "execution_count": null,
   "metadata": {},
   "outputs": [],
   "source": []
  },
  {
   "cell_type": "code",
   "execution_count": null,
   "metadata": {},
   "outputs": [],
   "source": []
  },
  {
   "cell_type": "code",
   "execution_count": null,
   "metadata": {},
   "outputs": [],
   "source": []
  },
  {
   "cell_type": "code",
   "execution_count": null,
   "metadata": {},
   "outputs": [],
   "source": []
  },
  {
   "cell_type": "code",
   "execution_count": null,
   "metadata": {},
   "outputs": [],
   "source": []
  },
  {
   "cell_type": "code",
   "execution_count": null,
   "metadata": {},
   "outputs": [],
   "source": []
  },
  {
   "cell_type": "code",
   "execution_count": null,
   "metadata": {},
   "outputs": [],
   "source": []
  },
  {
   "cell_type": "code",
   "execution_count": null,
   "metadata": {},
   "outputs": [],
   "source": []
  }
 ],
 "metadata": {
  "kernelspec": {
   "display_name": "py36test",
   "language": "python",
   "name": "py36test"
  },
  "language_info": {
   "codemirror_mode": {
    "name": "ipython",
    "version": 3
   },
   "file_extension": ".py",
   "mimetype": "text/x-python",
   "name": "python",
   "nbconvert_exporter": "python",
   "pygments_lexer": "ipython3",
   "version": "3.6.10"
  }
 },
 "nbformat": 4,
 "nbformat_minor": 4
}
