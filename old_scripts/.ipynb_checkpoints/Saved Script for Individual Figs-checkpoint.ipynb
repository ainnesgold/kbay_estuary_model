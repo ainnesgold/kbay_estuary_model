{
 "cells": [
  {
   "cell_type": "code",
   "execution_count": null,
   "metadata": {},
   "outputs": [],
   "source": []
  },
  {
   "cell_type": "code",
   "execution_count": null,
   "metadata": {},
   "outputs": [],
   "source": []
  },
  {
   "cell_type": "code",
   "execution_count": null,
   "metadata": {},
   "outputs": [],
   "source": []
  },
  {
   "cell_type": "markdown",
   "metadata": {},
   "source": [
    "## Individual "
   ]
  },
  {
   "cell_type": "code",
   "execution_count": null,
   "metadata": {},
   "outputs": [],
   "source": [
    "parameters_dict = default_params()\n",
    "\n",
    "# Define parameters\n",
    "N_pulse_values = [0.0, 0.026, 0.117, 0.234]\n",
    "size = 10\n",
    "E_H_array = np.linspace(0, 1.0, size)\n",
    "\n",
    "# Initialize array to store results\n",
    "H_harvest_final_array = np.zeros((len(N_pulse_values), size))\n",
    "\n",
    "# Compute results for each N_pulse value\n",
    "for idx, N_pulse in enumerate(N_pulse_values):\n",
    "    for i in range(size):\n",
    "        E_H = E_H_array[i]\n",
    "        parameters_dict = default_params()\n",
    "        parameters_dict['E_H'] = E_H / 365\n",
    "        parameters_dict['N_pulse'] = N_pulse  \n",
    "        H_array, P_array, PH_array, N_array, H_harvest_array, P_harvest_array, grazing_array = run_model(H0, P0, PH0, N0, parameters_dict)\n",
    "        H_harvest_final_array[idx, i] = np.mean(H_harvest_array[-3650:-1])\n",
    "\n",
    "# Plot the results\n",
    "plt.figure(figsize=(10, 6))\n",
    "\n",
    "for idx, N_pulse in enumerate(N_pulse_values):\n",
    "    plt.plot(E_H_array, H_harvest_final_array[idx]*365, label=f'N_pulse = {N_pulse}', marker =\"o\")\n",
    "\n",
    "plt.xlabel('E_H')\n",
    "plt.ylabel('H_harvest_final_array')\n",
    "plt.title('H_harvest_final_array vs E_H for different N_pulse values')\n",
    "plt.legend()\n",
    "plt.show()"
   ]
  },
  {
   "cell_type": "code",
   "execution_count": null,
   "metadata": {},
   "outputs": [],
   "source": []
  },
  {
   "cell_type": "code",
   "execution_count": null,
   "metadata": {},
   "outputs": [],
   "source": [
    "parameters_dict = default_params()\n",
    "\n",
    "# Define parameters\n",
    "N_pulse_values = [0.0, 0.026, 0.117, 0.234]\n",
    "size = 10\n",
    "E_P_array = np.linspace(0, 0.5, size)\n",
    "\n",
    "# Initialize array to store results\n",
    "P_harvest_final_array = np.zeros((len(N_pulse_values), size))\n",
    "\n",
    "# Compute results for each N_pulse value\n",
    "for idx, N_pulse in enumerate(N_pulse_values):\n",
    "    for i in range(size):\n",
    "        E_P = E_P_array[i]\n",
    "        parameters_dict = default_params()\n",
    "        parameters_dict['E_P'] = E_P / 365\n",
    "        parameters_dict['N_pulse'] = N_pulse  \n",
    "        H_array, P_array, PH_array, N_array, H_harvest_array, P_harvest_array, grazing_array = run_model(H0, P0, PH0, N0, parameters_dict)\n",
    "        P_harvest_final_array[idx, i] = np.mean(P_harvest_array[-3650:-1])\n",
    "\n",
    "# Plot the results\n",
    "plt.figure(figsize=(10, 6))\n",
    "\n",
    "for idx, N_pulse in enumerate(N_pulse_values):\n",
    "    plt.plot(E_P_array, P_harvest_final_array[idx]*365, label=f'N_pulse = {N_pulse}', marker =\"o\")\n",
    "\n",
    "plt.xlabel('E_P')\n",
    "plt.ylabel('P_harvest_final_array')\n",
    "plt.title('P_harvest_final_array vs E_P for different N_pulse values')\n",
    "plt.legend()\n",
    "plt.show()"
   ]
  },
  {
   "cell_type": "code",
   "execution_count": null,
   "metadata": {},
   "outputs": [],
   "source": []
  },
  {
   "cell_type": "code",
   "execution_count": null,
   "metadata": {},
   "outputs": [],
   "source": []
  },
  {
   "cell_type": "code",
   "execution_count": null,
   "metadata": {},
   "outputs": [],
   "source": []
  }
 ],
 "metadata": {
  "kernelspec": {
   "display_name": "py36test",
   "language": "python",
   "name": "py36test"
  },
  "language_info": {
   "codemirror_mode": {
    "name": "ipython",
    "version": 3
   },
   "file_extension": ".py",
   "mimetype": "text/x-python",
   "name": "python",
   "nbconvert_exporter": "python",
   "pygments_lexer": "ipython3",
   "version": "3.6.10"
  }
 },
 "nbformat": 4,
 "nbformat_minor": 4
}
