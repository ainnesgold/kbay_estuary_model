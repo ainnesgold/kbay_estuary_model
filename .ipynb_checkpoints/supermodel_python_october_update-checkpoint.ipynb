{
 "cells": [
  {
   "cell_type": "markdown",
   "metadata": {},
   "source": [
    "# Python version - Supermodel "
   ]
  },
  {
   "cell_type": "code",
   "execution_count": 1,
   "metadata": {},
   "outputs": [],
   "source": [
    "import numpy as np\n",
    "import matplotlib.pyplot as plt\n",
    "from matplotlib import rc\n",
    "import seaborn as sns\n",
    "import pandas as pd\n",
    "from scipy import stats\n",
    "from scipy.optimize import curve_fit\n",
    "from scipy.integrate import odeint\n",
    "from scipy.integrate import solve_ivp"
   ]
  },
  {
   "cell_type": "code",
   "execution_count": 2,
   "metadata": {},
   "outputs": [],
   "source": [
    "def dNdt(H, P, PH, N, parameters_dict):\n",
    "    #Unpacking herbivore parameters:\n",
    "    r_H = parameters_dict['r_H'] # growth rate of herbivores\n",
    "    K_H = parameters_dict['K_H'] # carrying capacity of herbivores\n",
    "    theta_H = parameters_dict['theta_H'] # immigration of herbivores\n",
    "    c = parameters_dict['c'] # addition to predator from prey\n",
    "    d = parameters_dict['d'] # value of H when predation half its max value\n",
    "    q_H = parameters_dict['q_H'] # proportionality constant for herbivore harvest\n",
    "    E_H = parameters_dict['E_H'] # Effort for herbivore harvest\n",
    "    m_H = parameters_dict['m_H'] # Herbivore mortality \n",
    "    #Unpacking predator parameters:\n",
    "    r_P = parameters_dict['r_P'] # growth rate of predator \n",
    "    K_P = parameters_dict['K_P'] # carrying capactiy of predators \n",
    "    b = parameters_dict['b'] # mortality to prey from predator\n",
    "    theta_P = parameters_dict['theta_P'] # immigration of predators  \n",
    "    q_P = parameters_dict['q_P'] # proportionality constant for predators harvest\n",
    "    E_P = parameters_dict['E_P'] # Effort for predator harvest\n",
    "    m_P = parameters_dict['m_P'] # Predator mortality\n",
    "    #Unpacking phytoplankton and nutrients parameters: \n",
    "    v_m = parameters_dict['v_m'] # max growth rate of phytoplankton\n",
    "    k_s = parameters_dict['k_s'] # half saturation constant\n",
    "    m_ph = parameters_dict['m_ph'] # phytoplankton mortality \n",
    "    y = parameters_dict['y'] # unassimilated phytoplankton \n",
    "    #Unpacking grazing parameters: \n",
    "    r_m = parameters_dict['r_m'] # grazing of fish on phytoplankton\n",
    "    kg = parameters_dict['kg']\n",
    "    #more timesteps\n",
    "    #dt = parameters_dict['dt']\n",
    "    \n",
    "    #Calculate the derivative \n",
    "    #grazing_t1 = r_m * (kg**-1 * PH * (1 - math.exp(-kg**-1 * PH))) * H\n",
    "    \n",
    "    #dH = ((1-y) * r_m * (kg**-1 * PH * (1 - np.exp(-kg**-1 * PH))) * H)*(1-H/K_H) - (c*H*P)/(d+H) + theta_H - q_H*E_H*H - m_H*H\n",
    "    dH = r_H*H*(1-H/K_H) + ((1-y) * r_m * (kg**-1 * PH * (1 - np.exp(-kg**-1 * PH))) * H)*(1-H/K_H) - (c*H*P)/(d+H) + theta_H - q_H*E_H*H - m_H*H\n",
    "    dP = r_P*P*(1-P/K_P) + (b*H*P)/(d+H) + theta_P - q_P*E_P*P - m_P * P \n",
    "    dPH = ((v_m * N * PH)/(k_s + N)) - (m_ph * PH) - ((r_m * (kg**-1 * PH * (1 - np.exp(-kg**-1 * PH)))) * H)\n",
    "    dN = -((v_m * N * PH)/(k_s + N)) + (m_ph * PH) + (m_H * H) + (y * (r_m * (kg**-1 * PH * (1 - np.exp(-kg**-1 * PH)))) * H) + (m_P * P)\n",
    "    \n",
    "    return dH, dP, dPH, dN"
   ]
  },
  {
   "cell_type": "code",
   "execution_count": 3,
   "metadata": {},
   "outputs": [],
   "source": [
    "# Function: numerical solver, 2nd order RK \n",
    "\n",
    "def RK2(H, P, PH, N, parameters_dict):\n",
    "    H_init = H\n",
    "    P_init = P\n",
    "    PH_init = PH \n",
    "    N_init = N \n",
    "    \n",
    "    dH1, dP1, dPH1, dN1 = dNdt(H, P, PH, N, parameters_dict)\n",
    "    \n",
    "    H1 = H + 0.5 * dH1 #* dt\n",
    "    P1 = P + 0.5 * dP1 #* dt\n",
    "    PH1 = PH + 0.5 * dPH1 #* dt\n",
    "    N1 = N + 0.5 * dN1 #* dt\n",
    "    \n",
    "    dH2, dP2, dPH2, dN2 = dNdt(H1, P1, PH1, N1, parameters_dict)\n",
    "    \n",
    "    dH_ave = (dH1+dH2)/2 \n",
    "    dP_ave = (dP1+dP2)/2\n",
    "    dPH_ave = (dPH1+dPH2)/2\n",
    "    dN_ave = (dN1+dN2)/2\n",
    "    \n",
    "    H = (H_init + dH_ave) #* dt #(include as another param)\n",
    "    P = (P_init + dP_ave) #* dt\n",
    "    PH = (PH_init + dPH_ave) #* dt \n",
    "    N = (N_init + dN_ave) #* dt\n",
    "    \n",
    "    if H < 0:\n",
    "        H = 0 \n",
    "        \n",
    "    if P < 0:\n",
    "        P = 0 \n",
    "    \n",
    "    if PH < 0:\n",
    "        PH = 0 \n",
    "        \n",
    "    if N < 0:\n",
    "        N = 0 \n",
    "    \n",
    "    #Calculate harvest \n",
    "    q_H = parameters_dict['q_H'] #proportionality constant for herbivore harvest \n",
    "    E_H = parameters_dict['E_H'] #Effort for herbivore harvest\n",
    "    \n",
    "    q_P = parameters_dict['q_P'] #proportionality constant for herbivore harvest \n",
    "    E_P = parameters_dict['E_P'] #Effort for herbivore harvest\n",
    "    \n",
    "    herbivore_harvest = q_H*E_H*H\n",
    "    predator_harvest = q_P*E_P*P\n",
    "    \n",
    "    #Calculate grazing \n",
    "    r_m = parameters_dict['r_m'] # grazing of fish on phytoplankton\n",
    "    kg = parameters_dict['kg']\n",
    "    \n",
    "    grazing = r_m * (kg**-1 * PH * (1 - np.exp(-kg**-1 * PH))) * H\n",
    "    \n",
    "    return H, P, PH, N, herbivore_harvest, predator_harvest, grazing"
   ]
  },
  {
   "cell_type": "code",
   "execution_count": 4,
   "metadata": {},
   "outputs": [],
   "source": [
    "# Function to run the model \n",
    "\n",
    "def run_model(INIT_H, INIT_P, INIT_PH, INIT_N, parameters_dict):\n",
    "    \n",
    "    numyears = parameters_dict['numyears']\n",
    "    \n",
    "    H_array = np.zeros(numyears+1)\n",
    "    P_array = np.zeros(numyears+1)\n",
    "    PH_array = np.zeros(numyears+1)\n",
    "    N_array = np.zeros(numyears+1)\n",
    "    H_harvest_array = np.zeros(numyears+1)\n",
    "    P_harvest_array = np.zeros(numyears+1)\n",
    "    grazing_array = np.zeros(numyears+1)\n",
    "    \n",
    "    H_array[0] = INIT_H #Starting biomass of herbivore\n",
    "    P_array[0] = INIT_P #Starting biomass of predator \n",
    "    PH_array[0] = INIT_PH #Starting biomass of phytoplankton\n",
    "    N_array[0] = INIT_N #Starting biomass of nutrients\n",
    "    H_harvest_array[0] = 0\n",
    "    P_harvest_array[0] = 0\n",
    "    grazing_array[0] = 0\n",
    "    \n",
    "    for i in np.arange(0,numyears):\n",
    "        H_array[i+1], P_array[i+1], PH_array[i+1], N_array[i+1], H_harvest_array[i+1], P_harvest_array[i+1], grazing_array[i+1], \\\n",
    "            = RK2(H_array[i], P_array[i], PH_array[i], N_array[i], parameters_dict)\n",
    "        i = i+1\n",
    "    \n",
    "    return H_array, P_array, PH_array, N_array, H_harvest_array, P_harvest_array, grazing_array"
   ]
  },
  {
   "cell_type": "markdown",
   "metadata": {},
   "source": [
    "# Test"
   ]
  },
  {
   "cell_type": "code",
   "execution_count": 5,
   "metadata": {},
   "outputs": [],
   "source": [
    "numyears = 100 # number of years to run simulation \n",
    "\n",
    "#Herbivore parameters:\n",
    "r_H = 0.2 # prey growth rate\n",
    "K_H = 1000 # carrying capacity of herbivores\n",
    "theta_H = 0 # immigration of herbivores\n",
    "c = 0.5 # addition to predator from prey\n",
    "d = 100 # value of H when predation half its max value\n",
    "q_H = 1.0 # proportionality constant for herbivore harvest\n",
    "E_H = 0.0 # Effort for herbivore harvest\n",
    "m_H = 0.1 # Herbivore mortality \n",
    "\n",
    "#Predator parameters:\n",
    "r_P = 0.1 # growth rate of predator \n",
    "K_P = 100 # carrying capactiy of predators \n",
    "b = 0.3 # mortality to prey from predator\n",
    "theta_P = 0 # immigration of predators  \n",
    "q_P = 1.0 # proportionality constant for predators harvest\n",
    "E_P = 0.0 # Effort for predator harvest\n",
    "m_P = 0.1 # Predator mortality\n",
    "\n",
    "#Phytoplankton parameters: \n",
    "v_m = (3.0) # max growth rate of phytoplankton\n",
    "k_s = 1 # half saturation constant\n",
    "m_ph = (0.1) # phytoplankton mortality \n",
    "y = 0.1 # unassimilated phytoplankton\n",
    "\n",
    "#Grazing parameters: \n",
    "r_m = 1.1 # grazing of fish on phytoplankton\n",
    "kg = 12\n",
    "# Timesteps\n",
    "dt = 0.1\n",
    "\n",
    "parameters_dict = {'numyears': numyears,\n",
    "                  'r_H': r_H,\n",
    "                  'K_H': K_H, \n",
    "                  'theta_H': theta_H,\n",
    "                  'c': c, \n",
    "                  'd': d, \n",
    "                  'E_H': E_H,\n",
    "                  'q_H': q_H,\n",
    "                  'm_H': m_H,\n",
    "                  'r_P': r_P,\n",
    "                  'K_P': K_P,\n",
    "                  'theta_P': theta_P, \n",
    "                  'b': b,\n",
    "                  'q_P': q_P, \n",
    "                  'E_P': E_P,\n",
    "                  'm_P': m_P, \n",
    "                  'v_m': v_m,\n",
    "                  'k_s': k_s, \n",
    "                  'm_ph': m_ph, \n",
    "                  'y': y, \n",
    "                  'r_m': r_m, \n",
    "                  'kg': kg,\n",
    "                  'dt': dt\n",
    "                  }\n"
   ]
  },
  {
   "cell_type": "code",
   "execution_count": 6,
   "metadata": {},
   "outputs": [],
   "source": [
    "H0 = 20\n",
    "P0 = 5\n",
    "PH0 = 1\n",
    "N0 = 1\n",
    "\n",
    "H_array, P_array, PH_array, N_array, H_harvest_array, P_harvest_array, grazing_array = run_model(H0, P0, PH0, N0, parameters_dict)"
   ]
  },
  {
   "cell_type": "code",
   "execution_count": 7,
   "metadata": {},
   "outputs": [
    {
     "data": {
      "text/plain": [
       "<matplotlib.legend.Legend at 0x7fa75da45cc0>"
      ]
     },
     "execution_count": 7,
     "metadata": {},
     "output_type": "execute_result"
    },
    {
     "data": {
      "image/png": "[encoded data removed]",
      "text/plain": [
       "<Figure size 432x288 with 1 Axes>"
      ]
     },
     "metadata": {
      "needs_background": "light"
     },
     "output_type": "display_data"
    }
   ],
   "source": [
    "plt.plot(H_array, label=\"prey\")\n",
    "plt.plot(P_array, label=\"predator\")\n",
    "plt.plot(N_array, label=\"nutrients\")\n",
    "plt.plot(PH_array, label=\"phytoplankton\")\n",
    "plt.legend()"
   ]
  },
  {
   "cell_type": "code",
   "execution_count": null,
   "metadata": {},
   "outputs": [],
   "source": []
  },
  {
   "cell_type": "code",
   "execution_count": null,
   "metadata": {},
   "outputs": [],
   "source": []
  },
  {
   "cell_type": "code",
   "execution_count": null,
   "metadata": {},
   "outputs": [],
   "source": []
  },
  {
   "cell_type": "code",
   "execution_count": null,
   "metadata": {},
   "outputs": [],
   "source": []
  },
  {
   "cell_type": "code",
   "execution_count": null,
   "metadata": {},
   "outputs": [],
   "source": []
  },
  {
   "cell_type": "code",
   "execution_count": null,
   "metadata": {},
   "outputs": [],
   "source": []
  },
  {
   "cell_type": "code",
   "execution_count": null,
   "metadata": {},
   "outputs": [],
   "source": []
  },
  {
   "cell_type": "code",
   "execution_count": null,
   "metadata": {},
   "outputs": [],
   "source": []
  },
  {
   "cell_type": "code",
   "execution_count": null,
   "metadata": {},
   "outputs": [],
   "source": []
  }
 ],
 "metadata": {
  "kernelspec": {
   "display_name": "py36test",
   "language": "python",
   "name": "py36test"
  },
  "language_info": {
   "codemirror_mode": {
    "name": "ipython",
    "version": 3
   },
   "file_extension": ".py",
   "mimetype": "text/x-python",
   "name": "python",
   "nbconvert_exporter": "python",
   "pygments_lexer": "ipython3",
   "version": "3.6.10"
  }
 },
 "nbformat": 4,
 "nbformat_minor": 4
}
