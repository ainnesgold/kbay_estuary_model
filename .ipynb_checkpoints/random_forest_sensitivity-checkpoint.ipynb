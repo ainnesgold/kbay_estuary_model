{
 "cells": [
  {
   "cell_type": "markdown",
   "metadata": {},
   "source": [
    "# RF Sensitivity Analysis - Supermodel"
   ]
  },
  {
   "cell_type": "code",
   "execution_count": 1,
   "metadata": {},
   "outputs": [],
   "source": [
    "import numpy as np\n",
    "import matplotlib.pyplot as plt\n",
    "from matplotlib import rc\n",
    "import seaborn as sns\n",
    "import pandas as pd\n",
    "pd.set_option('display.max_columns', None)\n",
    "from scipy import stats\n",
    "from scipy.optimize import curve_fit\n",
    "from scipy.integrate import odeint\n",
    "from scipy.integrate import solve_ivp\n",
    "import sklearn\n",
    "from sklearn.ensemble import RandomForestRegressor\n",
    "from sklearn.metrics import mean_squared_error, r2_score"
   ]
  },
  {
   "cell_type": "code",
   "execution_count": 2,
   "metadata": {},
   "outputs": [],
   "source": [
    "def dNdt(H, P, PH, N, parameters_dict):\n",
    "    # Unpacking parameters\n",
    "    r_H = parameters_dict['r_H']\n",
    "    K_H = parameters_dict['K_H']\n",
    "    theta_H = parameters_dict['theta_H']\n",
    "    c = parameters_dict['c']\n",
    "    d = parameters_dict['d']\n",
    "    q_H = parameters_dict['q_H']\n",
    "    E_H = parameters_dict['E_H']\n",
    "    m_H = parameters_dict['m_H']\n",
    "    r_P = parameters_dict['r_P']\n",
    "    K_P = parameters_dict['K_P']\n",
    "    b = parameters_dict['b']\n",
    "    theta_P = parameters_dict['theta_P']\n",
    "    q_P = parameters_dict['q_P']\n",
    "    E_P = parameters_dict['E_P']\n",
    "    m_P = parameters_dict['m_P']\n",
    "    v_m = parameters_dict['v_m']\n",
    "    k_s = parameters_dict['k_s']\n",
    "    m_ph = parameters_dict['m_ph']\n",
    "    y = parameters_dict['y']\n",
    "    r_m = parameters_dict['r_m']\n",
    "    kg = parameters_dict['kg']\n",
    "    N_pulse = parameters_dict['N_pulse']\n",
    "\n",
    "\n",
    "    # Calculate derivatives\n",
    "    dH = r_H * H * (1 - H / K_H) + ((1 - y) * r_m * (kg ** -1 * PH * (1 - np.exp(-kg ** -1 * PH))) * H) * (1 - H / K_H) - (\n",
    "                c * H * P) / (d + H) + theta_H - (q_H * E_H * H) - (m_H * H)\n",
    "    dP = r_P * P * (1 - P / K_P) + (b * H * P) / (d + H) + theta_P - q_P * E_P * P - m_P * P\n",
    "    dPH = ((v_m * N * PH) / (k_s + N)) - (m_ph * PH) - ((r_m * (kg ** -1 * PH * (1 - np.exp(-kg ** -1 * PH)))) * H)\n",
    "    dN = -(PH * (v_m * N) / (k_s + N)) + (0.5 * m_ph * PH) + (0.5 * m_H * H) + (1 * y * (r_m * (kg ** -1 * PH * (1 - np.exp(-kg ** -1 * PH)))) * H) + (\n",
    "                0.5 * m_P * P)\n",
    "\n",
    "    return dH, dP, dPH, dN"
   ]
  },
  {
   "cell_type": "code",
   "execution_count": 3,
   "metadata": {},
   "outputs": [],
   "source": [
    "# Function: numerical solver, 2nd order RK \n",
    "\n",
    "def RK2(H, P, PH, N, parameters_dict):\n",
    "    H_init = H\n",
    "    P_init = P\n",
    "    PH_init = PH \n",
    "    N_init = N \n",
    "    \n",
    "    dH1, dP1, dPH1, dN1 = dNdt(H, P, PH, N, parameters_dict)\n",
    "    \n",
    "    H1 = H + 0.5 * dH1 #* dt\n",
    "    P1 = P + 0.5 * dP1 #* dt\n",
    "    PH1 = PH + 0.5 * dPH1 #* dt\n",
    "    N1 = N + 0.5 * dN1 #* dt\n",
    "    \n",
    "    dH2, dP2, dPH2, dN2 = dNdt(H1, P1, PH1, N1, parameters_dict)\n",
    "    \n",
    "    dH_ave = (dH1+dH2)/2 \n",
    "    dP_ave = (dP1+dP2)/2\n",
    "    dPH_ave = (dPH1+dPH2)/2\n",
    "    dN_ave = (dN1+dN2)/2\n",
    "    \n",
    "    H = (H_init + dH_ave) #* dt #(include as another param)\n",
    "    P = (P_init + dP_ave) #* dt\n",
    "    PH = (PH_init + dPH_ave) #* dt \n",
    "    N = (N_init + dN_ave) #* dt\n",
    "    \n",
    "    if H < 0:\n",
    "        H = 0 \n",
    "        \n",
    "    if P < 0:\n",
    "        P = 0 \n",
    "    \n",
    "    if PH < 0:\n",
    "        PH = 0 \n",
    "        \n",
    "    if N < 0:\n",
    "        N = 0\n",
    "        \n",
    "    \n",
    "    #Calculate harvest \n",
    "    q_H = parameters_dict['q_H'] #proportionality constant for herbivore harvest \n",
    "    E_H = parameters_dict['E_H'] #Effort for herbivore harvest\n",
    "    \n",
    "    q_P = parameters_dict['q_P'] #proportionality constant for herbivore harvest \n",
    "    E_P = parameters_dict['E_P'] #Effort for herbivore harvest\n",
    "    \n",
    "    herbivore_harvest = q_H*E_H*H\n",
    "    predator_harvest = q_P*E_P*P\n",
    "    \n",
    "    #Calculate grazing \n",
    "    r_m = parameters_dict['r_m'] # grazing of fish on phytoplankton\n",
    "    kg = parameters_dict['kg']\n",
    "    \n",
    "    grazing = r_m * (kg**-1 * PH * (1 - np.exp(-kg**-1 * PH))) * H\n",
    "    \n",
    "    return H, P, PH, N, herbivore_harvest, predator_harvest, grazing"
   ]
  },
  {
   "cell_type": "code",
   "execution_count": 4,
   "metadata": {},
   "outputs": [],
   "source": [
    "\n",
    "def run_model(INIT_H, INIT_P, INIT_PH, INIT_N, parameters_dict):\n",
    "    \n",
    "    numyears = parameters_dict['numyears']\n",
    "    \n",
    "    \n",
    "    H_array = np.zeros(numyears+1)\n",
    "    P_array = np.zeros(numyears+1)\n",
    "    PH_array = np.zeros(numyears+1)\n",
    "    N_array = np.zeros(numyears+1)\n",
    "    H_harvest_array = np.zeros(numyears+1)\n",
    "    P_harvest_array = np.zeros(numyears+1)\n",
    "    grazing_array = np.zeros(numyears+1)\n",
    "    \n",
    "    H_array[0] = INIT_H #Starting biomass of herbivore\n",
    "    P_array[0] = INIT_P #Starting biomass of predator \n",
    "    PH_array[0] = INIT_PH #Starting biomass of phytoplankton\n",
    "    N_array[0] = INIT_N #Starting biomass of nutrients\n",
    "    H_harvest_array[0] = 0\n",
    "    P_harvest_array[0] = 0\n",
    "    grazing_array[0] = 0\n",
    "  \n",
    "    \n",
    "    for i in np.arange(0,numyears):\n",
    "        H_array[i+1], P_array[i+1], PH_array[i+1], N_array[i+1], H_harvest_array[i+1], P_harvest_array[i+1], grazing_array[i+1], \\\n",
    "            = RK2(H_array[i], P_array[i], PH_array[i], N_array[i], parameters_dict)\n",
    "        \n",
    "        # Check if it's time to add a pulse of nutrients\n",
    "        if (i + 1) % 30 == 0:\n",
    "            N_pulse = parameters_dict['N_pulse']  # Define the magnitude of the nutrient pulse\n",
    "            N_array[i + 1] += N_pulse  # Add the nutrient pulse\n",
    "        \n",
    "    \n",
    "    return H_array, P_array, PH_array, N_array, H_harvest_array, P_harvest_array, grazing_array"
   ]
  },
  {
   "cell_type": "code",
   "execution_count": 5,
   "metadata": {},
   "outputs": [],
   "source": [
    "numyears = 36500 # number of years to run simulation\n",
    "\n",
    "#Herbivore parameters:\n",
    "r_H = (0.4/365) # prey growth rate\n",
    "K_H = 50 # carrying capacity of herbivores\n",
    "theta_H = 0 # immigration of herbivores\n",
    "c = (0.4/365) # addition to predator from prey\n",
    "d = 50 # value of H when predation half its max value\n",
    "q_H = 1.0 # proportionality constant for herbivore harvest\n",
    "E_H = (0.15/365) # Effort for herbivore harvest\n",
    "m_H = (0.1/365) # Herbivore mortality \n",
    "\n",
    "#Predator parameters:\n",
    "r_P = (0.1/365) # growth rate of predator \n",
    "K_P = 10 # carrying capactiy of predators \n",
    "b = (0.4/365) # mortality to prey from predator\n",
    "theta_P = 0 # immigration of predators  \n",
    "q_P = 1.0 # proportionality constant for predators harvest\n",
    "E_P = (0.15/365) # Effort for predator harvest\n",
    "m_P = (0.01/365) # Predator mortality\n",
    "\n",
    "#Phytoplankton parameters: \n",
    "v_m = (2.0) # max growth rate of phytoplankton ## daily rate ?\n",
    "k_s = 1 # half saturation constant\n",
    "m_ph = 0.03 # phytoplankton mortality ## daily rate ?\n",
    "y = 0.1 # unassimilated phytoplankton \n",
    "\n",
    "#Grazing parameters: \n",
    "r_m = 1.1 #1.1 # grazing of fish on phytoplankton ## daily ??\n",
    "kg = 12\n",
    "N_pulse = 1.0\n",
    "# Timesteps\n",
    "dt = 0.1\n",
    "\n",
    "parameters_dict = {'numyears': numyears,\n",
    "                  'r_H': r_H,\n",
    "                  'K_H': K_H, \n",
    "                  'theta_H': theta_H,\n",
    "                  'c': c, \n",
    "                  'd': d, \n",
    "                  'E_H': E_H,\n",
    "                  'q_H': q_H,\n",
    "                  'm_H': m_H,\n",
    "                  'r_P': r_P,\n",
    "                  'K_P': K_P,\n",
    "                  'theta_P': theta_P, \n",
    "                  'b': b,\n",
    "                  'q_P': q_P, \n",
    "                  'E_P': E_P,\n",
    "                  'm_P': m_P, \n",
    "                  'v_m': v_m,\n",
    "                  'k_s': k_s, \n",
    "                  'm_ph': m_ph, \n",
    "                  'y': y, \n",
    "                  'r_m': r_m, \n",
    "                  'kg': kg,\n",
    "                  'dt': dt,\n",
    "                  'N_pulse': N_pulse\n",
    "                  }"
   ]
  },
  {
   "cell_type": "code",
   "execution_count": 6,
   "metadata": {},
   "outputs": [],
   "source": [
    "numyears = 36500 # number of years to run simulation \n",
    "\n",
    "H0 = 20\n",
    "P0 = 5\n",
    "PH0 = 1\n",
    "N0 = 1\n",
    "\n",
    "H_array, P_array, PH_array, N_array, H_harvest_array, P_harvest_array, grazing_array = run_model(H0, P0, PH0, N0, parameters_dict)"
   ]
  },
  {
   "cell_type": "code",
   "execution_count": 7,
   "metadata": {},
   "outputs": [
    {
     "data": {
      "text/plain": [
       "Text(0, 0.5, 'Nutrients Biomass')"
      ]
     },
     "execution_count": 7,
     "metadata": {},
     "output_type": "execute_result"
    },
    {
     "data": {
      "image/png": "[encoded data removed]",
      "text/plain": [
       "<Figure size 432x288 with 1 Axes>"
      ]
     },
     "metadata": {
      "needs_background": "light"
     },
     "output_type": "display_data"
    }
   ],
   "source": [
    "# Calculate the number of years in the simulation\n",
    "numyears = parameters_dict['numyears']\n",
    "years = numyears / 365\n",
    "\n",
    "# Generate x-values representing years\n",
    "time_years = np.linspace(0, years, len(H_array))\n",
    "\n",
    "plt.plot(time_years, N_array)\n",
    "plt.xlabel('Number of Years')\n",
    "plt.ylabel('Nutrients Biomass')"
   ]
  },
  {
   "cell_type": "code",
   "execution_count": 8,
   "metadata": {},
   "outputs": [
    {
     "data": {
      "image/png": "[encoded data removed]",
      "text/plain": [
       "<Figure size 432x288 with 1 Axes>"
      ]
     },
     "metadata": {
      "needs_background": "light"
     },
     "output_type": "display_data"
    }
   ],
   "source": [
    "plt.plot(time_years, H_array, label=\"Prey\")\n",
    "plt.plot(time_years, P_array, label = \"Predator\")\n",
    "plt.plot(time_years, PH_array, label= \"Phytoplankton\")\n",
    "plt.plot(time_years, N_array, label= \"Nutrients\")\n",
    "plt.legend()\n",
    "plt.xlabel('Number of Years')\n",
    "plt.ylabel('Biomass')\n",
    "plt.title('Community Dynamics with Nutrient Pulses')\n",
    "\n",
    "plt.show()"
   ]
  },
  {
   "cell_type": "markdown",
   "metadata": {},
   "source": [
    "# Running through params"
   ]
  },
  {
   "cell_type": "markdown",
   "metadata": {},
   "source": [
    "### Interested in $r_H, K_H, d, E_H, m_H, r_P, K_P, E_P, m_P, v_m, k_s, m_ph, y, r_m, kg$ "
   ]
  },
  {
   "cell_type": "code",
   "execution_count": 9,
   "metadata": {},
   "outputs": [],
   "source": [
    "numyears = 36500 # number of years to run simulation\n",
    "\n",
    "#Herbivore parameters:\n",
    "r_H = (0.4/365) # prey growth rate\n",
    "K_H = 50 # carrying capacity of herbivores\n",
    "theta_H = 0 # immigration of herbivores\n",
    "c = (0.4/365) # addition to predator from prey\n",
    "d = 50 # value of H when predation half its max value\n",
    "q_H = 1.0 # proportionality constant for herbivore harvest\n",
    "E_H = (0.15/365) # Effort for herbivore harvest\n",
    "m_H = (0.1/365) # Herbivore mortality \n",
    "\n",
    "#Predator parameters:\n",
    "r_P = (0.1/365) # growth rate of predator \n",
    "K_P = 10 # carrying capactiy of predators \n",
    "b = (0.4/365) # mortality to prey from predator\n",
    "theta_P = 0 # immigration of predators  \n",
    "q_P = 1.0 # proportionality constant for predators harvest\n",
    "E_P = (0.15/365) # Effort for predator harvest\n",
    "m_P = (0.01/365) # Predator mortality\n",
    "\n",
    "#Phytoplankton parameters: \n",
    "v_m = (2.0) # max growth rate of phytoplankton ## daily rate ?\n",
    "k_s = 1 # half saturation constant\n",
    "m_ph = 0.03 # phytoplankton mortality ## daily rate ?\n",
    "y = 0.1 # unassimilated phytoplankton \n",
    "\n",
    "#Grazing parameters: \n",
    "r_m = 1.1 #1.1 # grazing of fish on phytoplankton ## daily ??\n",
    "kg = 12\n",
    "N_pulse = 1.0\n",
    "# Timesteps\n",
    "dt = 0.1\n",
    "\n",
    "parameters_dict = {'numyears': numyears,\n",
    "                  'r_H': r_H,\n",
    "                  'K_H': K_H, \n",
    "                  'theta_H': theta_H,\n",
    "                  'c': c, \n",
    "                  'd': d, \n",
    "                  'E_H': E_H,\n",
    "                  'q_H': q_H,\n",
    "                  'm_H': m_H,\n",
    "                  'r_P': r_P,\n",
    "                  'K_P': K_P,\n",
    "                  'theta_P': theta_P, \n",
    "                  'b': b,\n",
    "                  'q_P': q_P, \n",
    "                  'E_P': E_P,\n",
    "                  'm_P': m_P, \n",
    "                  'v_m': v_m,\n",
    "                  'k_s': k_s, \n",
    "                  'm_ph': m_ph, \n",
    "                  'y': y, \n",
    "                  'r_m': r_m, \n",
    "                  'kg': kg,\n",
    "                  'dt': dt,\n",
    "                  'N_pulse': N_pulse\n",
    "                  }"
   ]
  },
  {
   "cell_type": "markdown",
   "metadata": {},
   "source": [
    "### Function to run through params of interest at +/- 10%"
   ]
  },
  {
   "cell_type": "code",
   "execution_count": 10,
   "metadata": {},
   "outputs": [],
   "source": [
    "# Function to vary parameters and document all parameter values\n",
    "def run_model_with_varying_params(parameters_dict, params_to_vary, variation_range, H0, P0, PH0, N0):\n",
    "    # Initialize an empty list to store all results\n",
    "    all_results = []\n",
    "    \n",
    "    # Loop through each parameter to vary\n",
    "    for param in params_to_vary:\n",
    "        # Store the original value of the parameter\n",
    "        original_value = parameters_dict[param]\n",
    "        \n",
    "        # Generate values to vary the parameter within the specified range\n",
    "        varied_values = np.linspace(\n",
    "            original_value * (1 - variation_range),  # Lower bound\n",
    "            original_value * (1 + variation_range),  # Upper bound\n",
    "            10  # Number of variations (adjustable)\n",
    "        )\n",
    "        \n",
    "        # Loop through each varied value for the current parameter\n",
    "        for value in varied_values:\n",
    "            # Update the parameter in the dictionary\n",
    "            parameters_dict[param] = value\n",
    "            \n",
    "            # Run the model with the updated parameters\n",
    "            H_array, P_array, PH_array, N_array, H_harvest_array, P_harvest_array, grazing_array = run_model(\n",
    "                H0, P0, PH0, N0, parameters_dict\n",
    "            )\n",
    "            \n",
    "            # Create a dictionary to store the results for this run\n",
    "            result = {\n",
    "                'H_final': H_array[-1],\n",
    "                'P_final': P_array[-1],\n",
    "                'PH_final': PH_array[-1],\n",
    "                'N_final': N_array[-1]\n",
    "            }\n",
    "            \n",
    "            # Add all parameter values to the result\n",
    "            result.update(parameters_dict)\n",
    "            \n",
    "            # Append the result to the list\n",
    "            all_results.append(result)\n",
    "        \n",
    "        # Reset the parameter to its original value\n",
    "        parameters_dict[param] = original_value\n",
    "    \n",
    "    # Convert the results list to a DataFrame\n",
    "    results_df = pd.DataFrame(all_results)\n",
    "    return results_df"
   ]
  },
  {
   "cell_type": "markdown",
   "metadata": {},
   "source": [
    "### Testing Function to make sure works"
   ]
  },
  {
   "cell_type": "code",
   "execution_count": 11,
   "metadata": {},
   "outputs": [
    {
     "name": "stdout",
     "output_type": "stream",
     "text": [
      "       H_final   P_final  PH_final   N_final  numyears       r_H   K_H  \\\n",
      "0    30.336286  9.101376  0.213160  0.019701     36500  0.000986  50.0   \n",
      "1    30.509872  9.155116  0.212453  0.019792     36500  0.001011  50.0   \n",
      "2    30.681451  9.208006  0.211761  0.019883     36500  0.001035  50.0   \n",
      "3    30.851026  9.260057  0.211084  0.019972     36500  0.001059  50.0   \n",
      "4    31.018599  9.311279  0.210422  0.020060     36500  0.001084  50.0   \n",
      "..         ...       ...       ...       ...       ...       ...   ...   \n",
      "145  31.088413  9.332535  0.213423  0.019938     36500  0.001096  50.0   \n",
      "146  31.061913  9.324423  0.220108  0.019617     36500  0.001096  50.0   \n",
      "147  31.035346  9.316286  0.226833  0.019311     36500  0.001096  50.0   \n",
      "148  31.008717  9.308127  0.233595  0.019020     36500  0.001096  50.0   \n",
      "149  30.982031  9.299947  0.240391  0.018741     36500  0.001096  50.0   \n",
      "\n",
      "     theta_H         c     d       E_H  q_H       m_H       r_P   K_P  \\\n",
      "0          0  0.001096  50.0  0.000411  1.0  0.000274  0.000274  10.0   \n",
      "1          0  0.001096  50.0  0.000411  1.0  0.000274  0.000274  10.0   \n",
      "2          0  0.001096  50.0  0.000411  1.0  0.000274  0.000274  10.0   \n",
      "3          0  0.001096  50.0  0.000411  1.0  0.000274  0.000274  10.0   \n",
      "4          0  0.001096  50.0  0.000411  1.0  0.000274  0.000274  10.0   \n",
      "..       ...       ...   ...       ...  ...       ...       ...   ...   \n",
      "145        0  0.001096  50.0  0.000411  1.0  0.000274  0.000274  10.0   \n",
      "146        0  0.001096  50.0  0.000411  1.0  0.000274  0.000274  10.0   \n",
      "147        0  0.001096  50.0  0.000411  1.0  0.000274  0.000274  10.0   \n",
      "148        0  0.001096  50.0  0.000411  1.0  0.000274  0.000274  10.0   \n",
      "149        0  0.001096  50.0  0.000411  1.0  0.000274  0.000274  10.0   \n",
      "\n",
      "     theta_P         b  q_P       E_P       m_P  v_m  k_s  m_ph    y  r_m  \\\n",
      "0          0  0.001096  1.0  0.000411  0.000027  2.0  1.0  0.03  0.1  1.1   \n",
      "1          0  0.001096  1.0  0.000411  0.000027  2.0  1.0  0.03  0.1  1.1   \n",
      "2          0  0.001096  1.0  0.000411  0.000027  2.0  1.0  0.03  0.1  1.1   \n",
      "3          0  0.001096  1.0  0.000411  0.000027  2.0  1.0  0.03  0.1  1.1   \n",
      "4          0  0.001096  1.0  0.000411  0.000027  2.0  1.0  0.03  0.1  1.1   \n",
      "..       ...       ...  ...       ...       ...  ...  ...   ...  ...  ...   \n",
      "145        0  0.001096  1.0  0.000411  0.000027  2.0  1.0  0.03  0.1  1.1   \n",
      "146        0  0.001096  1.0  0.000411  0.000027  2.0  1.0  0.03  0.1  1.1   \n",
      "147        0  0.001096  1.0  0.000411  0.000027  2.0  1.0  0.03  0.1  1.1   \n",
      "148        0  0.001096  1.0  0.000411  0.000027  2.0  1.0  0.03  0.1  1.1   \n",
      "149        0  0.001096  1.0  0.000411  0.000027  2.0  1.0  0.03  0.1  1.1   \n",
      "\n",
      "            kg   dt  N_pulse  \n",
      "0    12.000000  0.1      1.0  \n",
      "1    12.000000  0.1      1.0  \n",
      "2    12.000000  0.1      1.0  \n",
      "3    12.000000  0.1      1.0  \n",
      "4    12.000000  0.1      1.0  \n",
      "..         ...  ...      ...  \n",
      "145  12.133333  0.1      1.0  \n",
      "146  12.400000  0.1      1.0  \n",
      "147  12.666667  0.1      1.0  \n",
      "148  12.933333  0.1      1.0  \n",
      "149  13.200000  0.1      1.0  \n",
      "\n",
      "[150 rows x 28 columns]\n"
     ]
    }
   ],
   "source": [
    "# Specify parameters to vary and their variation range\n",
    "params_to_vary = ['r_H', 'K_H', 'd', 'E_H', 'm_H','r_P','K_P', 'E_P', 'm_P', 'v_m', 'k_s', 'm_ph', 'r_m','y', 'kg']  # Parameters to vary\n",
    "variation_range = 0.1  # ±10% variation\n",
    "H0 = 20\n",
    "P0 = 5\n",
    "PH0 = 1\n",
    "N0 = 1\n",
    "\n",
    "# Run the function to vary parameters and collect results\n",
    "results_df = run_model_with_varying_params(parameters_dict, params_to_vary, variation_range, H0, P0, PH0, N0)\n",
    "\n",
    "# Display all columns in the DataFrame\n",
    "pd.set_option('display.max_columns', None)\n",
    "print(results_df)"
   ]
  },
  {
   "cell_type": "markdown",
   "metadata": {},
   "source": [
    "## Simulation runs - Generalist Current Nutrients"
   ]
  },
  {
   "cell_type": "code",
   "execution_count": 12,
   "metadata": {},
   "outputs": [],
   "source": [
    "def generalist_current_params():\n",
    "    numyears = 36500 # number of years to run simulation\n",
    "\n",
    "    #Herbivore parameters:\n",
    "    r_H = (0.4/365) # prey growth rate\n",
    "    K_H = 50 # carrying capacity of herbivores\n",
    "    theta_H = 0 # immigration of herbivores\n",
    "    c = (0.2/365) # addition to predator from prey\n",
    "    d = 50 # value of H when predation half its max value\n",
    "    q_H = 1.0 # proportionality constant for herbivore harvest\n",
    "    E_H = (0.15/365) # Effort for herbivore harvest\n",
    "    m_H = (0.1/365) # Herbivore mortality \n",
    "\n",
    "    #Predator parameters:\n",
    "    r_P = (0.1/365) # growth rate of predator \n",
    "    K_P = 10 # carrying capactiy of predators \n",
    "    b = (0.2/365) # mortality to prey from predator\n",
    "    theta_P = 0 # immigration of predators  \n",
    "    q_P = 1.0 # proportionality constant for predators harvest\n",
    "    E_P = (0.15/365) # Effort for predator harvest\n",
    "    m_P = (0.01/365) # Predator mortality\n",
    "\n",
    "    #Phytoplankton parameters: \n",
    "    v_m = (2.0) # max growth rate of phytoplankton ## daily rate ?\n",
    "    k_s = 1 # half saturation constant\n",
    "    m_ph = 0.03 # phytoplankton mortality ## daily rate ?\n",
    "    y = 0.1 # unassimilated phytoplankton \n",
    "\n",
    "    #Grazing parameters: \n",
    "    r_m = 1.1 #1.1 # grazing of fish on phytoplankton ## daily ??\n",
    "    kg = 12\n",
    "    N_pulse = 0.026\n",
    "    # Timesteps\n",
    "    dt = 0.1\n",
    "\n",
    "    parameters_dict = {'numyears': numyears,\n",
    "                  'r_H': r_H,\n",
    "                  'K_H': K_H, \n",
    "                  'theta_H': theta_H,\n",
    "                  'c': c, \n",
    "                  'd': d, \n",
    "                  'E_H': E_H,\n",
    "                  'q_H': q_H,\n",
    "                  'm_H': m_H,\n",
    "                  'r_P': r_P,\n",
    "                  'K_P': K_P,\n",
    "                  'theta_P': theta_P, \n",
    "                  'b': b,\n",
    "                  'q_P': q_P, \n",
    "                  'E_P': E_P,\n",
    "                  'm_P': m_P, \n",
    "                  'v_m': v_m,\n",
    "                  'k_s': k_s, \n",
    "                  'm_ph': m_ph, \n",
    "                  'y': y, \n",
    "                  'r_m': r_m, \n",
    "                  'kg': kg,\n",
    "                  'dt': dt,\n",
    "                  'N_pulse': N_pulse\n",
    "                  }\n",
    "    \n",
    "    return parameters_dict"
   ]
  },
  {
   "cell_type": "code",
   "execution_count": 13,
   "metadata": {},
   "outputs": [
    {
     "name": "stdout",
     "output_type": "stream",
     "text": [
      "       H_final   P_final  PH_final   N_final  numyears       r_H   K_H  \\\n",
      "0    17.964658  0.522330  0.112800  0.019529     36500  0.000986  50.0   \n",
      "1    18.692313  0.577414  0.113536  0.019938     36500  0.001011  50.0   \n",
      "2    19.383761  0.632871  0.114197  0.020327     36500  0.001035  50.0   \n",
      "3    20.042135  0.688410  0.114795  0.020698     36500  0.001059  50.0   \n",
      "4    20.670147  0.743784  0.115339  0.021053     36500  0.001084  50.0   \n",
      "..         ...       ...       ...       ...       ...       ...   ...   \n",
      "145  20.957620  0.769871  0.116464  0.021099     36500  0.001096  50.0   \n",
      "146  20.926105  0.766957  0.118185  0.020860     36500  0.001096  50.0   \n",
      "147  20.894969  0.764085  0.119877  0.020631     36500  0.001096  50.0   \n",
      "148  20.864212  0.761253  0.121539  0.020414     36500  0.001096  50.0   \n",
      "149  20.833832  0.758461  0.123173  0.020206     36500  0.001096  50.0   \n",
      "\n",
      "     theta_H         c     d       E_H  q_H       m_H       r_P   K_P  \\\n",
      "0          0  0.000548  50.0  0.000411  1.0  0.000274  0.000274  10.0   \n",
      "1          0  0.000548  50.0  0.000411  1.0  0.000274  0.000274  10.0   \n",
      "2          0  0.000548  50.0  0.000411  1.0  0.000274  0.000274  10.0   \n",
      "3          0  0.000548  50.0  0.000411  1.0  0.000274  0.000274  10.0   \n",
      "4          0  0.000548  50.0  0.000411  1.0  0.000274  0.000274  10.0   \n",
      "..       ...       ...   ...       ...  ...       ...       ...   ...   \n",
      "145        0  0.000548  50.0  0.000411  1.0  0.000274  0.000274  10.0   \n",
      "146        0  0.000548  50.0  0.000411  1.0  0.000274  0.000274  10.0   \n",
      "147        0  0.000548  50.0  0.000411  1.0  0.000274  0.000274  10.0   \n",
      "148        0  0.000548  50.0  0.000411  1.0  0.000274  0.000274  10.0   \n",
      "149        0  0.000548  50.0  0.000411  1.0  0.000274  0.000274  10.0   \n",
      "\n",
      "     theta_P         b  q_P       E_P       m_P  v_m  k_s  m_ph    y  r_m  \\\n",
      "0          0  0.000548  1.0  0.000411  0.000027  2.0  1.0  0.03  0.1  1.1   \n",
      "1          0  0.000548  1.0  0.000411  0.000027  2.0  1.0  0.03  0.1  1.1   \n",
      "2          0  0.000548  1.0  0.000411  0.000027  2.0  1.0  0.03  0.1  1.1   \n",
      "3          0  0.000548  1.0  0.000411  0.000027  2.0  1.0  0.03  0.1  1.1   \n",
      "4          0  0.000548  1.0  0.000411  0.000027  2.0  1.0  0.03  0.1  1.1   \n",
      "..       ...       ...  ...       ...       ...  ...  ...   ...  ...  ...   \n",
      "145        0  0.000548  1.0  0.000411  0.000027  2.0  1.0  0.03  0.1  1.1   \n",
      "146        0  0.000548  1.0  0.000411  0.000027  2.0  1.0  0.03  0.1  1.1   \n",
      "147        0  0.000548  1.0  0.000411  0.000027  2.0  1.0  0.03  0.1  1.1   \n",
      "148        0  0.000548  1.0  0.000411  0.000027  2.0  1.0  0.03  0.1  1.1   \n",
      "149        0  0.000548  1.0  0.000411  0.000027  2.0  1.0  0.03  0.1  1.1   \n",
      "\n",
      "            kg   dt  N_pulse  \n",
      "0    12.000000  0.1    0.026  \n",
      "1    12.000000  0.1    0.026  \n",
      "2    12.000000  0.1    0.026  \n",
      "3    12.000000  0.1    0.026  \n",
      "4    12.000000  0.1    0.026  \n",
      "..         ...  ...      ...  \n",
      "145  12.133333  0.1    0.026  \n",
      "146  12.400000  0.1    0.026  \n",
      "147  12.666667  0.1    0.026  \n",
      "148  12.933333  0.1    0.026  \n",
      "149  13.200000  0.1    0.026  \n",
      "\n",
      "[150 rows x 28 columns]\n"
     ]
    }
   ],
   "source": [
    "parameters_dict = generalist_current_params()\n",
    "params_to_vary = ['r_H', 'K_H', 'd', 'E_H', 'm_H','r_P','K_P', 'E_P', 'm_P', 'v_m', 'k_s', 'm_ph', 'r_m','y', 'kg']  # Parameters to vary\n",
    "variation_range = 0.1  # ±10% variation\n",
    "H0 = 20\n",
    "P0 = 5\n",
    "PH0 = 1\n",
    "N0 = 1\n",
    "\n",
    "# Run the function to vary parameters and collect results\n",
    "results_df = run_model_with_varying_params(parameters_dict, params_to_vary, variation_range, H0, P0, PH0, N0)\n",
    "\n",
    "# Display all columns in the DataFrame\n",
    "pd.set_option('display.max_columns', None)\n",
    "print(results_df)\n",
    "\n",
    "# Optionally save to a CSV\n",
    "results_df.to_csv('data/generalist_current_RF_data.csv', index=False)"
   ]
  },
  {
   "cell_type": "markdown",
   "metadata": {},
   "source": [
    "### Run RF analysis "
   ]
  },
  {
   "cell_type": "code",
   "execution_count": 14,
   "metadata": {},
   "outputs": [
    {
     "name": "stdout",
     "output_type": "stream",
     "text": [
      "Mean Squared Error: 0.001263191237834969\n",
      "R-squared: 0.9878251458772123\n"
     ]
    }
   ],
   "source": [
    "data = pd.read_csv(\"data/generalist_current_RF_data.csv\")\n",
    "\n",
    "X1 = data.iloc[:, 4:29]  # Columns 4-28 are explanatory\n",
    "Y1 = data.iloc[:, 0:4]   # Columns 0-4 are response variables\n",
    "\n",
    "regressor = RandomForestRegressor(n_estimators=100, random_state=42)\n",
    "\n",
    "regressor.fit(X1, Y1)\n",
    "\n",
    "# Predict using the model\n",
    "predictions = regressor.predict(X1)\n",
    "\n",
    "# Calculate Mean Squared Error\n",
    "mse = mean_squared_error(Y1, predictions)\n",
    "print(f'Mean Squared Error: {mse}')\n",
    "\n",
    "# Calculate R-squared\n",
    "r2 = r2_score(Y1, predictions)\n",
    "print(f'R-squared: {r2}')"
   ]
  },
  {
   "cell_type": "code",
   "execution_count": 15,
   "metadata": {},
   "outputs": [
    {
     "name": "stdout",
     "output_type": "stream",
     "text": [
      "Feature Importances:\n",
      "[0.00000000e+00 4.25914541e-01 2.91893307e-01 0.00000000e+00\n",
      " 0.00000000e+00 2.44672630e-03 1.77722402e-01 0.00000000e+00\n",
      " 5.57077864e-02 1.08603996e-02 2.59622948e-04 0.00000000e+00\n",
      " 0.00000000e+00 0.00000000e+00 3.21352710e-02 1.42166584e-04\n",
      " 3.19683967e-07 3.01377135e-07 1.34932222e-03 4.01058215e-06\n",
      " 3.25383108e-04 1.23843942e-03 0.00000000e+00 0.00000000e+00]\n"
     ]
    },
    {
     "data": {
      "image/png": "[encoded data removed]",
      "text/plain": [
       "<Figure size 720x432 with 1 Axes>"
      ]
     },
     "metadata": {
      "needs_background": "light"
     },
     "output_type": "display_data"
    }
   ],
   "source": [
    "importances1 = regressor.feature_importances_\n",
    "\n",
    "# Print importances\n",
    "print(\"Feature Importances:\")\n",
    "print(importances1)\n",
    "\n",
    "# Set up labels for the features (adjust based on your column names)\n",
    "plotLabs1 = X1.columns  # Using column names directly for labeling\n",
    "\n",
    "# Bar plot of importances\n",
    "plt.figure(figsize=(10, 6))\n",
    "plt.bar(plotLabs1, importances1, align=\"center\")\n",
    "plt.xticks(rotation=90) \n",
    "plt.xlabel(\"Parameters\")\n",
    "plt.ylabel(\"Importance\")\n",
    "plt.title(\"Parameter Importance\")\n",
    "plt.tight_layout()\n",
    "plt.show()"
   ]
  },
  {
   "cell_type": "markdown",
   "metadata": {},
   "source": [
    "## Simulation runs - Specialist Current Nutrients"
   ]
  },
  {
   "cell_type": "code",
   "execution_count": 16,
   "metadata": {},
   "outputs": [],
   "source": [
    "def specialist_current_params():\n",
    "    numyears = 36500 # number of years to run simulation\n",
    "\n",
    "    #Herbivore parameters:\n",
    "    r_H = (0.4/365) # prey growth rate\n",
    "    K_H = 50 # carrying capacity of herbivores\n",
    "    theta_H = 0 # immigration of herbivores\n",
    "    c = (0.8/365) # addition to predator from prey\n",
    "    d = 50 # value of H when predation half its max value\n",
    "    q_H = 1.0 # proportionality constant for herbivore harvest\n",
    "    E_H = (0.15/365) # Effort for herbivore harvest\n",
    "    m_H = (0.1/365) # Herbivore mortality \n",
    "\n",
    "    #Predator parameters:\n",
    "    r_P = (0.1/365) # growth rate of predator \n",
    "    K_P = 10 # carrying capactiy of predators \n",
    "    b = (0.8/365) # mortality to prey from predator\n",
    "    theta_P = 0 # immigration of predators  \n",
    "    q_P = 1.0 # proportionality constant for predators harvest\n",
    "    E_P = (0.15/365) # Effort for predator harvest\n",
    "    m_P = (0.01/365) # Predator mortality\n",
    "\n",
    "    #Phytoplankton parameters: \n",
    "    v_m = (2.0) # max growth rate of phytoplankton ## daily rate ?\n",
    "    k_s = 1 # half saturation constant\n",
    "    m_ph = 0.03 # phytoplankton mortality ## daily rate ?\n",
    "    y = 0.1 # unassimilated phytoplankton \n",
    "\n",
    "    #Grazing parameters: \n",
    "    r_m = 1.1 #1.1 # grazing of fish on phytoplankton ## daily ??\n",
    "    kg = 12\n",
    "    N_pulse = 0.026\n",
    "    # Timesteps\n",
    "    dt = 0.1\n",
    "\n",
    "    parameters_dict = {'numyears': numyears,\n",
    "                  'r_H': r_H,\n",
    "                  'K_H': K_H, \n",
    "                  'theta_H': theta_H,\n",
    "                  'c': c, \n",
    "                  'd': d, \n",
    "                  'E_H': E_H,\n",
    "                  'q_H': q_H,\n",
    "                  'm_H': m_H,\n",
    "                  'r_P': r_P,\n",
    "                  'K_P': K_P,\n",
    "                  'theta_P': theta_P, \n",
    "                  'b': b,\n",
    "                  'q_P': q_P, \n",
    "                  'E_P': E_P,\n",
    "                  'm_P': m_P, \n",
    "                  'v_m': v_m,\n",
    "                  'k_s': k_s, \n",
    "                  'm_ph': m_ph, \n",
    "                  'y': y, \n",
    "                  'r_m': r_m, \n",
    "                  'kg': kg,\n",
    "                  'dt': dt,\n",
    "                  'N_pulse': N_pulse\n",
    "                  }\n",
    "    \n",
    "    return parameters_dict"
   ]
  },
  {
   "cell_type": "code",
   "execution_count": 17,
   "metadata": {},
   "outputs": [
    {
     "name": "stdout",
     "output_type": "stream",
     "text": [
      "      H_final   P_final  PH_final   N_final  numyears       r_H   K_H  \\\n",
      "0    8.142379  5.268480  0.098874  0.014250     36500  0.000986  50.0   \n",
      "1    8.491871  5.661644  0.099929  0.014452     36500  0.001011  50.0   \n",
      "2    8.844473  6.054820  0.100949  0.014656     36500  0.001035  50.0   \n",
      "3    9.196693  6.446461  0.101926  0.014861     36500  0.001059  50.0   \n",
      "4    9.546858  6.835017  0.102858  0.015064     36500  0.001084  50.0   \n",
      "..        ...       ...       ...       ...       ...       ...   ...   \n",
      "145  9.708720  7.014226  0.103819  0.015108     36500  0.001096  50.0   \n",
      "146  9.684764  6.987753  0.104814  0.014998     36500  0.001096  50.0   \n",
      "147  9.661475  6.962008  0.105776  0.014894     36500  0.001096  50.0   \n",
      "148  9.638836  6.936973  0.106706  0.014795     36500  0.001096  50.0   \n",
      "149  9.616831  6.912630  0.107605  0.014701     36500  0.001096  50.0   \n",
      "\n",
      "     theta_H         c     d       E_H  q_H       m_H       r_P   K_P  \\\n",
      "0          0  0.002192  50.0  0.000411  1.0  0.000274  0.000274  10.0   \n",
      "1          0  0.002192  50.0  0.000411  1.0  0.000274  0.000274  10.0   \n",
      "2          0  0.002192  50.0  0.000411  1.0  0.000274  0.000274  10.0   \n",
      "3          0  0.002192  50.0  0.000411  1.0  0.000274  0.000274  10.0   \n",
      "4          0  0.002192  50.0  0.000411  1.0  0.000274  0.000274  10.0   \n",
      "..       ...       ...   ...       ...  ...       ...       ...   ...   \n",
      "145        0  0.002192  50.0  0.000411  1.0  0.000274  0.000274  10.0   \n",
      "146        0  0.002192  50.0  0.000411  1.0  0.000274  0.000274  10.0   \n",
      "147        0  0.002192  50.0  0.000411  1.0  0.000274  0.000274  10.0   \n",
      "148        0  0.002192  50.0  0.000411  1.0  0.000274  0.000274  10.0   \n",
      "149        0  0.002192  50.0  0.000411  1.0  0.000274  0.000274  10.0   \n",
      "\n",
      "     theta_P         b  q_P       E_P       m_P  v_m  k_s  m_ph    y  r_m  \\\n",
      "0          0  0.002192  1.0  0.000411  0.000027  2.0  1.0  0.03  0.1  1.1   \n",
      "1          0  0.002192  1.0  0.000411  0.000027  2.0  1.0  0.03  0.1  1.1   \n",
      "2          0  0.002192  1.0  0.000411  0.000027  2.0  1.0  0.03  0.1  1.1   \n",
      "3          0  0.002192  1.0  0.000411  0.000027  2.0  1.0  0.03  0.1  1.1   \n",
      "4          0  0.002192  1.0  0.000411  0.000027  2.0  1.0  0.03  0.1  1.1   \n",
      "..       ...       ...  ...       ...       ...  ...  ...   ...  ...  ...   \n",
      "145        0  0.002192  1.0  0.000411  0.000027  2.0  1.0  0.03  0.1  1.1   \n",
      "146        0  0.002192  1.0  0.000411  0.000027  2.0  1.0  0.03  0.1  1.1   \n",
      "147        0  0.002192  1.0  0.000411  0.000027  2.0  1.0  0.03  0.1  1.1   \n",
      "148        0  0.002192  1.0  0.000411  0.000027  2.0  1.0  0.03  0.1  1.1   \n",
      "149        0  0.002192  1.0  0.000411  0.000027  2.0  1.0  0.03  0.1  1.1   \n",
      "\n",
      "            kg   dt  N_pulse  \n",
      "0    12.000000  0.1    0.026  \n",
      "1    12.000000  0.1    0.026  \n",
      "2    12.000000  0.1    0.026  \n",
      "3    12.000000  0.1    0.026  \n",
      "4    12.000000  0.1    0.026  \n",
      "..         ...  ...      ...  \n",
      "145  12.133333  0.1    0.026  \n",
      "146  12.400000  0.1    0.026  \n",
      "147  12.666667  0.1    0.026  \n",
      "148  12.933333  0.1    0.026  \n",
      "149  13.200000  0.1    0.026  \n",
      "\n",
      "[150 rows x 28 columns]\n"
     ]
    }
   ],
   "source": [
    "parameters_dict = specialist_current_params()\n",
    "params_to_vary = ['r_H', 'K_H', 'd', 'E_H', 'm_H','r_P','K_P', 'E_P', 'm_P', 'v_m', 'k_s', 'm_ph', 'r_m','y', 'kg']  # Parameters to vary\n",
    "variation_range = 0.1  # ±10% variation\n",
    "H0 = 20\n",
    "P0 = 5\n",
    "PH0 = 1\n",
    "N0 = 1\n",
    "\n",
    "# Run the function to vary parameters and collect results\n",
    "results_df = run_model_with_varying_params(parameters_dict, params_to_vary, variation_range, H0, P0, PH0, N0)\n",
    "\n",
    "# Display all columns in the DataFrame\n",
    "pd.set_option('display.max_columns', None)\n",
    "print(results_df)\n",
    "\n",
    "# Optionally save to a CSV\n",
    "results_df.to_csv('data/specialist_current_RF_data.csv', index=False)"
   ]
  },
  {
   "cell_type": "markdown",
   "metadata": {},
   "source": [
    "### Run RF Analysis "
   ]
  },
  {
   "cell_type": "code",
   "execution_count": 18,
   "metadata": {},
   "outputs": [
    {
     "name": "stdout",
     "output_type": "stream",
     "text": [
      "Mean Squared Error: 0.0008027665411920781\n",
      "R-squared: 0.9881264473142113\n"
     ]
    }
   ],
   "source": [
    "data = pd.read_csv(\"data/specialist_current_RF_data.csv\")\n",
    "\n",
    "X2 = data.iloc[:, 4:29]  # Columns 4-28 are explanatory\n",
    "Y2 = data.iloc[:, 0:4]   # Columns 0-4 are response variables\n",
    "\n",
    "regressor = RandomForestRegressor(n_estimators=100, random_state=42)\n",
    "\n",
    "regressor.fit(X2, Y2)\n",
    "\n",
    "# Predict using the model\n",
    "predictions = regressor.predict(X2)\n",
    "\n",
    "# Calculate Mean Squared Error\n",
    "mse = mean_squared_error(Y2, predictions)\n",
    "print(f'Mean Squared Error: {mse}')\n",
    "\n",
    "# Calculate R-squared\n",
    "r2 = r2_score(Y2, predictions)\n",
    "print(f'R-squared: {r2}')"
   ]
  },
  {
   "cell_type": "code",
   "execution_count": 19,
   "metadata": {},
   "outputs": [
    {
     "name": "stdout",
     "output_type": "stream",
     "text": [
      "Feature Importances:\n",
      "[0.00000000e+00 5.26747428e-01 4.23987355e-02 0.00000000e+00\n",
      " 0.00000000e+00 1.17352985e-01 1.19348277e-01 0.00000000e+00\n",
      " 3.85182462e-02 4.75587642e-03 2.72722075e-02 0.00000000e+00\n",
      " 0.00000000e+00 0.00000000e+00 1.16188916e-01 5.93835696e-04\n",
      " 3.20358891e-07 3.04817769e-07 3.17207802e-03 9.10623558e-06\n",
      " 7.52811836e-04 2.88887116e-03 0.00000000e+00 0.00000000e+00]\n"
     ]
    },
    {
     "data": {
      "image/png": "[encoded data removed]",
      "text/plain": [
       "<Figure size 720x432 with 1 Axes>"
      ]
     },
     "metadata": {
      "needs_background": "light"
     },
     "output_type": "display_data"
    }
   ],
   "source": [
    "importances2 = regressor.feature_importances_\n",
    "\n",
    "# Print importances\n",
    "print(\"Feature Importances:\")\n",
    "print(importances2)\n",
    "\n",
    "# Set up labels for the features (adjust based on your column names)\n",
    "plotLabs2 = X2.columns  # Using column names directly for labeling\n",
    "\n",
    "# Bar plot of importances\n",
    "plt.figure(figsize=(10, 6))\n",
    "plt.bar(plotLabs2, importances2, align=\"center\")\n",
    "plt.xticks(rotation=90) \n",
    "plt.xlabel(\"Parameters\")\n",
    "plt.ylabel(\"Importance\")\n",
    "plt.title(\"Parameter Importance\")\n",
    "plt.tight_layout()\n",
    "plt.show()"
   ]
  },
  {
   "cell_type": "code",
   "execution_count": null,
   "metadata": {},
   "outputs": [],
   "source": []
  },
  {
   "cell_type": "code",
   "execution_count": null,
   "metadata": {},
   "outputs": [],
   "source": []
  },
  {
   "cell_type": "markdown",
   "metadata": {},
   "source": [
    "## Simulation runs - Generalist Restored Nutrients"
   ]
  },
  {
   "cell_type": "code",
   "execution_count": 20,
   "metadata": {},
   "outputs": [],
   "source": [
    "def generalist_restored_params():\n",
    "    numyears = 36500 # number of years to run simulation\n",
    "\n",
    "    #Herbivore parameters:\n",
    "    r_H = (0.4/365) # prey growth rate\n",
    "    K_H = 50 # carrying capacity of herbivores\n",
    "    theta_H = 0 # immigration of herbivores\n",
    "    c = (0.2/365) # addition to predator from prey\n",
    "    d = 50 # value of H when predation half its max value\n",
    "    q_H = 1.0 # proportionality constant for herbivore harvest\n",
    "    E_H = (0.15/365) # Effort for herbivore harvest\n",
    "    m_H = (0.1/365) # Herbivore mortality \n",
    "\n",
    "    #Predator parameters:\n",
    "    r_P = (0.1/365) # growth rate of predator \n",
    "    K_P = 10 # carrying capactiy of predators \n",
    "    b = (0.2/365) # mortality to prey from predator\n",
    "    theta_P = 0 # immigration of predators  \n",
    "    q_P = 1.0 # proportionality constant for predators harvest\n",
    "    E_P = (0.15/365) # Effort for predator harvest\n",
    "    m_P = (0.01/365) # Predator mortality\n",
    "\n",
    "    #Phytoplankton parameters: \n",
    "    v_m = (2.0) # max growth rate of phytoplankton ## daily rate ?\n",
    "    k_s = 1 # half saturation constant\n",
    "    m_ph = 0.03 # phytoplankton mortality ## daily rate ?\n",
    "    y = 0.1 # unassimilated phytoplankton \n",
    "\n",
    "    #Grazing parameters: \n",
    "    r_m = 1.1 #1.1 # grazing of fish on phytoplankton ## daily ??\n",
    "    kg = 12\n",
    "    N_pulse = 0.234\n",
    "    # Timesteps\n",
    "    dt = 0.1\n",
    "\n",
    "    parameters_dict = {'numyears': numyears,\n",
    "                  'r_H': r_H,\n",
    "                  'K_H': K_H, \n",
    "                  'theta_H': theta_H,\n",
    "                  'c': c, \n",
    "                  'd': d, \n",
    "                  'E_H': E_H,\n",
    "                  'q_H': q_H,\n",
    "                  'm_H': m_H,\n",
    "                  'r_P': r_P,\n",
    "                  'K_P': K_P,\n",
    "                  'theta_P': theta_P, \n",
    "                  'b': b,\n",
    "                  'q_P': q_P, \n",
    "                  'E_P': E_P,\n",
    "                  'm_P': m_P, \n",
    "                  'v_m': v_m,\n",
    "                  'k_s': k_s, \n",
    "                  'm_ph': m_ph, \n",
    "                  'y': y, \n",
    "                  'r_m': r_m, \n",
    "                  'kg': kg,\n",
    "                  'dt': dt,\n",
    "                  'N_pulse': N_pulse\n",
    "                  }\n",
    "    \n",
    "    return parameters_dict"
   ]
  },
  {
   "cell_type": "code",
   "execution_count": 21,
   "metadata": {},
   "outputs": [
    {
     "name": "stdout",
     "output_type": "stream",
     "text": [
      "       H_final   P_final  PH_final   N_final  numyears       r_H   K_H  \\\n",
      "0    23.708639  1.043883  0.180256  0.017947     36500  0.000986  50.0   \n",
      "1    24.122994  1.087609  0.179314  0.018165     36500  0.001011  50.0   \n",
      "2    24.527052  1.130893  0.178417  0.018378     36500  0.001035  50.0   \n",
      "3    24.921003  1.173674  0.177564  0.018587     36500  0.001059  50.0   \n",
      "4    25.305055  1.215898  0.176751  0.018791     36500  0.001084  50.0   \n",
      "..         ...       ...       ...       ...       ...       ...   ...   \n",
      "145  25.475108  1.234734  0.178339  0.018766     36500  0.001096  50.0   \n",
      "146  25.438513  1.230639  0.182284  0.018523     36500  0.001096  50.0   \n",
      "147  25.402004  1.226557  0.186206  0.018291     36500  0.001096  50.0   \n",
      "148  25.365585  1.222488  0.190106  0.018068     36500  0.001096  50.0   \n",
      "149  25.329256  1.218434  0.193983  0.017854     36500  0.001096  50.0   \n",
      "\n",
      "     theta_H         c     d       E_H  q_H       m_H       r_P   K_P  \\\n",
      "0          0  0.000548  50.0  0.000411  1.0  0.000274  0.000274  10.0   \n",
      "1          0  0.000548  50.0  0.000411  1.0  0.000274  0.000274  10.0   \n",
      "2          0  0.000548  50.0  0.000411  1.0  0.000274  0.000274  10.0   \n",
      "3          0  0.000548  50.0  0.000411  1.0  0.000274  0.000274  10.0   \n",
      "4          0  0.000548  50.0  0.000411  1.0  0.000274  0.000274  10.0   \n",
      "..       ...       ...   ...       ...  ...       ...       ...   ...   \n",
      "145        0  0.000548  50.0  0.000411  1.0  0.000274  0.000274  10.0   \n",
      "146        0  0.000548  50.0  0.000411  1.0  0.000274  0.000274  10.0   \n",
      "147        0  0.000548  50.0  0.000411  1.0  0.000274  0.000274  10.0   \n",
      "148        0  0.000548  50.0  0.000411  1.0  0.000274  0.000274  10.0   \n",
      "149        0  0.000548  50.0  0.000411  1.0  0.000274  0.000274  10.0   \n",
      "\n",
      "     theta_P         b  q_P       E_P       m_P  v_m  k_s  m_ph    y  r_m  \\\n",
      "0          0  0.000548  1.0  0.000411  0.000027  2.0  1.0  0.03  0.1  1.1   \n",
      "1          0  0.000548  1.0  0.000411  0.000027  2.0  1.0  0.03  0.1  1.1   \n",
      "2          0  0.000548  1.0  0.000411  0.000027  2.0  1.0  0.03  0.1  1.1   \n",
      "3          0  0.000548  1.0  0.000411  0.000027  2.0  1.0  0.03  0.1  1.1   \n",
      "4          0  0.000548  1.0  0.000411  0.000027  2.0  1.0  0.03  0.1  1.1   \n",
      "..       ...       ...  ...       ...       ...  ...  ...   ...  ...  ...   \n",
      "145        0  0.000548  1.0  0.000411  0.000027  2.0  1.0  0.03  0.1  1.1   \n",
      "146        0  0.000548  1.0  0.000411  0.000027  2.0  1.0  0.03  0.1  1.1   \n",
      "147        0  0.000548  1.0  0.000411  0.000027  2.0  1.0  0.03  0.1  1.1   \n",
      "148        0  0.000548  1.0  0.000411  0.000027  2.0  1.0  0.03  0.1  1.1   \n",
      "149        0  0.000548  1.0  0.000411  0.000027  2.0  1.0  0.03  0.1  1.1   \n",
      "\n",
      "            kg   dt  N_pulse  \n",
      "0    12.000000  0.1    0.234  \n",
      "1    12.000000  0.1    0.234  \n",
      "2    12.000000  0.1    0.234  \n",
      "3    12.000000  0.1    0.234  \n",
      "4    12.000000  0.1    0.234  \n",
      "..         ...  ...      ...  \n",
      "145  12.133333  0.1    0.234  \n",
      "146  12.400000  0.1    0.234  \n",
      "147  12.666667  0.1    0.234  \n",
      "148  12.933333  0.1    0.234  \n",
      "149  13.200000  0.1    0.234  \n",
      "\n",
      "[150 rows x 28 columns]\n"
     ]
    }
   ],
   "source": [
    "parameters_dict = generalist_restored_params()\n",
    "params_to_vary = ['r_H', 'K_H', 'd', 'E_H', 'm_H','r_P','K_P', 'E_P', 'm_P', 'v_m', 'k_s', 'm_ph', 'r_m','y', 'kg']  # Parameters to vary\n",
    "variation_range = 0.1  # ±10% variation\n",
    "H0 = 20\n",
    "P0 = 5\n",
    "PH0 = 1\n",
    "N0 = 1\n",
    "\n",
    "# Run the function to vary parameters and collect results\n",
    "results_df = run_model_with_varying_params(parameters_dict, params_to_vary, variation_range, H0, P0, PH0, N0)\n",
    "\n",
    "# Display all columns in the DataFrame\n",
    "pd.set_option('display.max_columns', None)\n",
    "print(results_df)\n",
    "\n",
    "# Optionally save to a CSV\n",
    "results_df.to_csv('data/generalist_restored_RF_data.csv', index=False)"
   ]
  },
  {
   "cell_type": "markdown",
   "metadata": {},
   "source": [
    "### Run RF Analysis"
   ]
  },
  {
   "cell_type": "code",
   "execution_count": 22,
   "metadata": {},
   "outputs": [
    {
     "name": "stdout",
     "output_type": "stream",
     "text": [
      "Mean Squared Error: 0.0008093027631590647\n",
      "R-squared: 0.9879663934617626\n"
     ]
    }
   ],
   "source": [
    "data = pd.read_csv(\"data/generalist_restored_RF_data.csv\")\n",
    "\n",
    "X3 = data.iloc[:, 4:29]  # Columns 4-28 are explanatory\n",
    "Y3 = data.iloc[:, 0:4]   # Columns 0-4 are response variables\n",
    "\n",
    "regressor = RandomForestRegressor(n_estimators=100, random_state=42)\n",
    "\n",
    "regressor.fit(X3, Y3)\n",
    "\n",
    "# Predict using the model\n",
    "predictions = regressor.predict(X3)\n",
    "\n",
    "# Calculate Mean Squared Error\n",
    "mse = mean_squared_error(Y3, predictions)\n",
    "print(f'Mean Squared Error: {mse}')\n",
    "\n",
    "# Calculate R-squared\n",
    "r2 = r2_score(Y3, predictions)\n",
    "print(f'R-squared: {r2}')"
   ]
  },
  {
   "cell_type": "code",
   "execution_count": 23,
   "metadata": {},
   "outputs": [
    {
     "name": "stdout",
     "output_type": "stream",
     "text": [
      "Feature Importances:\n",
      "[0.00000000e+00 2.42770264e-01 4.60548353e-01 0.00000000e+00\n",
      " 0.00000000e+00 6.89576623e-03 1.39079944e-01 0.00000000e+00\n",
      " 4.33129904e-02 2.48468244e-02 1.04927264e-03 0.00000000e+00\n",
      " 0.00000000e+00 0.00000000e+00 7.58112155e-02 3.57760494e-04\n",
      " 9.84119482e-07 8.27420182e-07 2.34241445e-03 7.91613398e-06\n",
      " 6.33221673e-04 2.34224577e-03 0.00000000e+00 0.00000000e+00]\n"
     ]
    },
    {
     "data": {
      "image/png": "[encoded data removed]",
      "text/plain": [
       "<Figure size 720x432 with 1 Axes>"
      ]
     },
     "metadata": {
      "needs_background": "light"
     },
     "output_type": "display_data"
    }
   ],
   "source": [
    "importances3 = regressor.feature_importances_\n",
    "\n",
    "# Print importances\n",
    "print(\"Feature Importances:\")\n",
    "print(importances3)\n",
    "\n",
    "# Set up labels for the features (adjust based on your column names)\n",
    "plotLabs3 = X3.columns  # Using column names directly for labeling\n",
    "\n",
    "# Bar plot of importances\n",
    "plt.figure(figsize=(10, 6))\n",
    "plt.bar(plotLabs3, importances3, align=\"center\")\n",
    "plt.xticks(rotation=90) \n",
    "plt.xlabel(\"Parameters\")\n",
    "plt.ylabel(\"Importance\")\n",
    "plt.title(\"Parameter Importance\")\n",
    "plt.tight_layout()\n",
    "plt.show()"
   ]
  },
  {
   "cell_type": "markdown",
   "metadata": {},
   "source": [
    "## Simulation runs - Specialist Restored Nutrients"
   ]
  },
  {
   "cell_type": "code",
   "execution_count": 24,
   "metadata": {},
   "outputs": [],
   "source": [
    "def specialist_restored_params():\n",
    "    numyears = 36500 # number of years to run simulation\n",
    "\n",
    "    #Herbivore parameters:\n",
    "    r_H = (0.4/365) # prey growth rate\n",
    "    K_H = 50 # carrying capacity of herbivores\n",
    "    theta_H = 0 # immigration of herbivores\n",
    "    c = (0.8/365) # addition to predator from prey\n",
    "    d = 50 # value of H when predation half its max value\n",
    "    q_H = 1.0 # proportionality constant for herbivore harvest\n",
    "    E_H = (0.15/365) # Effort for herbivore harvest\n",
    "    m_H = (0.1/365) # Herbivore mortality \n",
    "\n",
    "    #Predator parameters:\n",
    "    r_P = (0.1/365) # growth rate of predator \n",
    "    K_P = 10 # carrying capactiy of predators \n",
    "    b = (0.8/365) # mortality to prey from predator\n",
    "    theta_P = 0 # immigration of predators  \n",
    "    q_P = 1.0 # proportionality constant for predators harvest\n",
    "    E_P = (0.15/365) # Effort for predator harvest\n",
    "    m_P = (0.01/365) # Predator mortality\n",
    "\n",
    "    #Phytoplankton parameters: \n",
    "    v_m = (2.0) # max growth rate of phytoplankton ## daily rate ?\n",
    "    k_s = 1 # half saturation constant\n",
    "    m_ph = 0.03 # phytoplankton mortality ## daily rate ?\n",
    "    y = 0.1 # unassimilated phytoplankton \n",
    "\n",
    "    #Grazing parameters: \n",
    "    r_m = 1.1 #1.1 # grazing of fish on phytoplankton ## daily ??\n",
    "    kg = 12\n",
    "    N_pulse = 0.234\n",
    "    # Timesteps\n",
    "    dt = 0.1\n",
    "\n",
    "    parameters_dict = {'numyears': numyears,\n",
    "                  'r_H': r_H,\n",
    "                  'K_H': K_H, \n",
    "                  'theta_H': theta_H,\n",
    "                  'c': c, \n",
    "                  'd': d, \n",
    "                  'E_H': E_H,\n",
    "                  'q_H': q_H,\n",
    "                  'm_H': m_H,\n",
    "                  'r_P': r_P,\n",
    "                  'K_P': K_P,\n",
    "                  'theta_P': theta_P, \n",
    "                  'b': b,\n",
    "                  'q_P': q_P, \n",
    "                  'E_P': E_P,\n",
    "                  'm_P': m_P, \n",
    "                  'v_m': v_m,\n",
    "                  'k_s': k_s, \n",
    "                  'm_ph': m_ph, \n",
    "                  'y': y, \n",
    "                  'r_m': r_m, \n",
    "                  'kg': kg,\n",
    "                  'dt': dt,\n",
    "                  'N_pulse': N_pulse\n",
    "                  }\n",
    "    \n",
    "    return parameters_dict"
   ]
  },
  {
   "cell_type": "code",
   "execution_count": 25,
   "metadata": {},
   "outputs": [
    {
     "name": "stdout",
     "output_type": "stream",
     "text": [
      "       H_final    P_final  PH_final   N_final  numyears       r_H   K_H  \\\n",
      "0    13.244368  10.747330  0.218110  0.013067     36500  0.000986  50.0   \n",
      "1    13.499834  11.001801  0.216848  0.013193     36500  0.001011  50.0   \n",
      "2    13.755504  11.254435  0.215615  0.013319     36500  0.001035  50.0   \n",
      "3    14.011261  11.505137  0.214410  0.013446     36500  0.001059  50.0   \n",
      "4    14.266992  11.753821  0.213234  0.013573     36500  0.001084  50.0   \n",
      "..         ...        ...       ...       ...       ...       ...   ...   \n",
      "145  14.371063  11.854526  0.214869  0.013565     36500  0.001096  50.0   \n",
      "146  14.323728  11.808925  0.219264  0.013427     36500  0.001096  50.0   \n",
      "147  14.276616  11.763467  0.223616  0.013295     36500  0.001096  50.0   \n",
      "148  14.229729  11.718157  0.227925  0.013169     36500  0.001096  50.0   \n",
      "149  14.183071  11.673000  0.232191  0.013048     36500  0.001096  50.0   \n",
      "\n",
      "     theta_H         c     d       E_H  q_H       m_H       r_P   K_P  \\\n",
      "0          0  0.002192  50.0  0.000411  1.0  0.000274  0.000274  10.0   \n",
      "1          0  0.002192  50.0  0.000411  1.0  0.000274  0.000274  10.0   \n",
      "2          0  0.002192  50.0  0.000411  1.0  0.000274  0.000274  10.0   \n",
      "3          0  0.002192  50.0  0.000411  1.0  0.000274  0.000274  10.0   \n",
      "4          0  0.002192  50.0  0.000411  1.0  0.000274  0.000274  10.0   \n",
      "..       ...       ...   ...       ...  ...       ...       ...   ...   \n",
      "145        0  0.002192  50.0  0.000411  1.0  0.000274  0.000274  10.0   \n",
      "146        0  0.002192  50.0  0.000411  1.0  0.000274  0.000274  10.0   \n",
      "147        0  0.002192  50.0  0.000411  1.0  0.000274  0.000274  10.0   \n",
      "148        0  0.002192  50.0  0.000411  1.0  0.000274  0.000274  10.0   \n",
      "149        0  0.002192  50.0  0.000411  1.0  0.000274  0.000274  10.0   \n",
      "\n",
      "     theta_P         b  q_P       E_P       m_P  v_m  k_s  m_ph    y  r_m  \\\n",
      "0          0  0.002192  1.0  0.000411  0.000027  2.0  1.0  0.03  0.1  1.1   \n",
      "1          0  0.002192  1.0  0.000411  0.000027  2.0  1.0  0.03  0.1  1.1   \n",
      "2          0  0.002192  1.0  0.000411  0.000027  2.0  1.0  0.03  0.1  1.1   \n",
      "3          0  0.002192  1.0  0.000411  0.000027  2.0  1.0  0.03  0.1  1.1   \n",
      "4          0  0.002192  1.0  0.000411  0.000027  2.0  1.0  0.03  0.1  1.1   \n",
      "..       ...       ...  ...       ...       ...  ...  ...   ...  ...  ...   \n",
      "145        0  0.002192  1.0  0.000411  0.000027  2.0  1.0  0.03  0.1  1.1   \n",
      "146        0  0.002192  1.0  0.000411  0.000027  2.0  1.0  0.03  0.1  1.1   \n",
      "147        0  0.002192  1.0  0.000411  0.000027  2.0  1.0  0.03  0.1  1.1   \n",
      "148        0  0.002192  1.0  0.000411  0.000027  2.0  1.0  0.03  0.1  1.1   \n",
      "149        0  0.002192  1.0  0.000411  0.000027  2.0  1.0  0.03  0.1  1.1   \n",
      "\n",
      "            kg   dt  N_pulse  \n",
      "0    12.000000  0.1    0.234  \n",
      "1    12.000000  0.1    0.234  \n",
      "2    12.000000  0.1    0.234  \n",
      "3    12.000000  0.1    0.234  \n",
      "4    12.000000  0.1    0.234  \n",
      "..         ...  ...      ...  \n",
      "145  12.133333  0.1    0.234  \n",
      "146  12.400000  0.1    0.234  \n",
      "147  12.666667  0.1    0.234  \n",
      "148  12.933333  0.1    0.234  \n",
      "149  13.200000  0.1    0.234  \n",
      "\n",
      "[150 rows x 28 columns]\n"
     ]
    }
   ],
   "source": [
    "parameters_dict = specialist_restored_params()\n",
    "params_to_vary = ['r_H', 'K_H', 'd', 'E_H', 'm_H','r_P','K_P', 'E_P', 'm_P', 'v_m', 'k_s', 'm_ph', 'r_m','y', 'kg']  # Parameters to vary\n",
    "variation_range = 0.1  # ±10% variation\n",
    "H0 = 20\n",
    "P0 = 5\n",
    "PH0 = 1\n",
    "N0 = 1\n",
    "\n",
    "# Run the function to vary parameters and collect results\n",
    "results_df = run_model_with_varying_params(parameters_dict, params_to_vary, variation_range, H0, P0, PH0, N0)\n",
    "\n",
    "# Display all columns in the DataFrame\n",
    "pd.set_option('display.max_columns', None)\n",
    "print(results_df)\n",
    "\n",
    "# Optionally save to a CSV\n",
    "results_df.to_csv('data/specialist_restored_RF_data.csv', index=False)"
   ]
  },
  {
   "cell_type": "markdown",
   "metadata": {},
   "source": [
    "### Run RF Analysis"
   ]
  },
  {
   "cell_type": "code",
   "execution_count": 26,
   "metadata": {},
   "outputs": [
    {
     "name": "stdout",
     "output_type": "stream",
     "text": [
      "Mean Squared Error: 0.0006121271302732187\n",
      "R-squared: 0.9876667705773989\n"
     ]
    }
   ],
   "source": [
    "data = pd.read_csv(\"data/specialist_restored_RF_data.csv\")\n",
    "\n",
    "X4 = data.iloc[:, 4:29]  # Columns 4-28 are explanatory\n",
    "Y4 = data.iloc[:, 0:4]   # Columns 0-4 are response variables\n",
    "\n",
    "regressor = RandomForestRegressor(n_estimators=100, random_state=42)\n",
    "\n",
    "regressor.fit(X4, Y4)\n",
    "\n",
    "# Predict using the model\n",
    "predictions = regressor.predict(X4)\n",
    "\n",
    "# Calculate Mean Squared Error\n",
    "mse = mean_squared_error(Y4, predictions)\n",
    "print(f'Mean Squared Error: {mse}')\n",
    "\n",
    "# Calculate R-squared\n",
    "r2 = r2_score(Y4, predictions)\n",
    "print(f'R-squared: {r2}')"
   ]
  },
  {
   "cell_type": "code",
   "execution_count": 27,
   "metadata": {},
   "outputs": [
    {
     "name": "stdout",
     "output_type": "stream",
     "text": [
      "Feature Importances:\n",
      "[0.00000000e+00 3.19658745e-01 1.15888483e-01 0.00000000e+00\n",
      " 0.00000000e+00 1.73367484e-01 8.97047381e-02 0.00000000e+00\n",
      " 2.32419128e-02 2.55800862e-03 9.96760448e-02 0.00000000e+00\n",
      " 0.00000000e+00 0.00000000e+00 1.49027508e-01 7.18520742e-04\n",
      " 1.80654740e-06 1.48070568e-06 1.15485156e-02 3.71726166e-05\n",
      " 3.05927746e-03 1.15103017e-02 0.00000000e+00 0.00000000e+00]\n"
     ]
    },
    {
     "data": {
      "image/png": "[encoded data removed]",
      "text/plain": [
       "<Figure size 720x432 with 1 Axes>"
      ]
     },
     "metadata": {
      "needs_background": "light"
     },
     "output_type": "display_data"
    }
   ],
   "source": [
    "importances4 = regressor.feature_importances_\n",
    "\n",
    "# Print importances\n",
    "print(\"Feature Importances:\")\n",
    "print(importances4)\n",
    "\n",
    "# Set up labels for the features (adjust based on your column names)\n",
    "plotLabs4 = X4.columns  # Using column names directly for labeling\n",
    "\n",
    "# Bar plot of importances\n",
    "plt.figure(figsize=(10, 6))\n",
    "plt.bar(plotLabs4, importances4, align=\"center\")\n",
    "plt.xticks(rotation=90) \n",
    "plt.xlabel(\"Parameters\")\n",
    "plt.ylabel(\"Importance\")\n",
    "plt.title(\"Parameter Importance\")\n",
    "plt.tight_layout()\n",
    "plt.show()"
   ]
  },
  {
   "cell_type": "markdown",
   "metadata": {},
   "source": [
    "## Subplots"
   ]
  },
  {
   "cell_type": "code",
   "execution_count": 32,
   "metadata": {},
   "outputs": [
    {
     "data": {
      "image/png": "[encoded data removed]",
      "text/plain": [
       "<Figure size 1080x864 with 4 Axes>"
      ]
     },
     "metadata": {
      "needs_background": "light"
     },
     "output_type": "display_data"
    }
   ],
   "source": [
    "# Create a 2x2 grid for subplots\n",
    "fig, axs = plt.subplots(2, 2, figsize=(15, 12))\n",
    "\n",
    "# Define the data and labels for each subplot\n",
    "datasets = [\n",
    "    (importances1, X1.columns, \"Current Nutrients: Generalist Predation\"),\n",
    "    (importances2, X2.columns, \"Current Nutrients: Specialist Predation\"),\n",
    "    (importances3, X3.columns, \"Restored Nutrients: Generalist Predation\"),\n",
    "    (importances4, X4.columns, \"Restored Nutrients: Specialist Predation\"),\n",
    "]\n",
    "\n",
    "# Loop through the datasets and plot each on a subplot\n",
    "for i, (importances, plotLabs, title) in enumerate(datasets):\n",
    "    # Determine the subplot location\n",
    "    ax = axs[i // 2, i % 2]  # 0, 1, 2, 3 -> [0,0], [0,1], [1,0], [1,1]\n",
    "    \n",
    "    # Plot the feature importances\n",
    "    ax.bar(plotLabs, importances, align=\"center\")\n",
    "    ax.set_xticks(range(len(plotLabs)))\n",
    "    ax.set_xticklabels(plotLabs, rotation=90)\n",
    "    ax.set_xlabel(\"Parameters\")\n",
    "    ax.set_ylabel(\"Importance\")\n",
    "    ax.set_title(title)\n",
    "\n",
    "# Adjust layout to prevent overlap\n",
    "plt.tight_layout()\n",
    "\n",
    "# Show the grid of plots\n",
    "plt.show()"
   ]
  },
  {
   "cell_type": "markdown",
   "metadata": {},
   "source": [
    "### Filter out columns that are not of interest"
   ]
  },
  {
   "cell_type": "code",
   "execution_count": 33,
   "metadata": {},
   "outputs": [],
   "source": [
    "columns_to_keep = ['r_H', 'K_H', 'd','m_H', 'E_H', 'r_P', 'K_P', 'm_P', 'E_P', 'kg', 'r_m', 'm_ph']\n",
    "\n",
    "# Filter the columns and importances based on columns_to_keep\n",
    "filtered_columns = [col for col in X1.columns if col in columns_to_keep]\n",
    "filtered_importances1 = [importance for col, importance in zip(X1.columns, importances1) if col in columns_to_keep]\n",
    "\n",
    "# Similarly, filter other importances and columns for the remaining datasets\n",
    "filtered_importances2 = [importance for col, importance in zip(X2.columns, importances2) if col in columns_to_keep]\n",
    "filtered_importances3 = [importance for col, importance in zip(X3.columns, importances3) if col in columns_to_keep]\n",
    "filtered_importances4 = [importance for col, importance in zip(X4.columns, importances4) if col in columns_to_keep]"
   ]
  },
  {
   "cell_type": "code",
   "execution_count": 34,
   "metadata": {},
   "outputs": [],
   "source": [
    "# LaTeX labels for filtered columns\n",
    "filtered_labels = [f\"${col}$\" for col in filtered_columns]"
   ]
  },
  {
   "cell_type": "markdown",
   "metadata": {},
   "source": [
    "### Plot Importances"
   ]
  },
  {
   "cell_type": "code",
   "execution_count": 36,
   "metadata": {},
   "outputs": [
    {
     "data": {
      "image/png": "[encoded data removed]",
      "text/plain": [
       "<Figure size 1080x864 with 4 Axes>"
      ]
     },
     "metadata": {
      "needs_background": "light"
     },
     "output_type": "display_data"
    }
   ],
   "source": [
    "# Create a 2x2 grid for subplots\n",
    "fig, axs = plt.subplots(2, 2, figsize=(15, 12))\n",
    "\n",
    "# Define the data and labels for each subplot\n",
    "datasets = [\n",
    "    (filtered_importances1, filtered_labels, \"Current Nutrients: Generalist Predation\"),\n",
    "    (filtered_importances2, filtered_labels, \"Current Nutrients: Specialist Predation\"),\n",
    "    (filtered_importances3, filtered_labels, \"Restored Nutrients: Generalist Predation\"),\n",
    "    (filtered_importances4, filtered_labels, \"Restored Nutrients: Specialist Predation\"),\n",
    "]\n",
    "\n",
    "# Loop through the datasets and plot each on a subplot\n",
    "for i, (importances, plotLabs, title) in enumerate(datasets):\n",
    "    # Determine the subplot location\n",
    "    ax = axs[i // 2, i % 2]  # Map 0, 1, 2, 3 to [0,0], [0,1], [1,0], [1,1]\n",
    "\n",
    "    # Plot the feature importances as a horizontal bar chart\n",
    "    ax.barh(plotLabs, importances, align=\"center\")\n",
    "    ax.set_xlim(0, 0.6)  # Adjust x-axis range to 0-0.5\n",
    "    ax.set_xlabel(\"Importance\", fontsize = 15)\n",
    "    ax.set_ylabel(\"Parameter\", fontsize = 15)\n",
    "    ax.set_title(title, fontsize = 16)\n",
    "    ax.tick_params(axis='y', labelsize=13)\n",
    "    ax.tick_params(axis='x', labelsize=13)\n",
    "\n",
    "# Adjust layout \n",
    "plt.tight_layout()\n",
    "\n",
    "plt.savefig(\"figs/random_forest_sensitivity.jpg\",\n",
    "            format='jpeg',\n",
    "            dpi=300,\n",
    "            bbox_inches='tight')\n",
    "\n",
    "\n",
    "# Show the grid of plots\n",
    "plt.show()"
   ]
  },
  {
   "cell_type": "markdown",
   "metadata": {},
   "source": [
    "# Random Forest"
   ]
  },
  {
   "cell_type": "code",
   "execution_count": 71,
   "metadata": {},
   "outputs": [],
   "source": [
    "import sklearn\n",
    "from sklearn.ensemble import RandomForestRegressor\n",
    "from sklearn.metrics import mean_squared_error, r2_score"
   ]
  },
  {
   "cell_type": "markdown",
   "metadata": {},
   "source": [
    "#### Reading in CSV file"
   ]
  },
  {
   "cell_type": "code",
   "execution_count": 72,
   "metadata": {},
   "outputs": [],
   "source": [
    "data = pd.read_csv(\"./model_results_with_varying_params.csv\")"
   ]
  },
  {
   "cell_type": "markdown",
   "metadata": {},
   "source": [
    "#### Split into explanatory (X) and response (Y) variables "
   ]
  },
  {
   "cell_type": "code",
   "execution_count": 73,
   "metadata": {},
   "outputs": [],
   "source": [
    "X = data.iloc[:, 4:29]  # Columns 4-28 are explanatory\n",
    "Y = data.iloc[:, 0:4]   # Columns 0-4 are response variables"
   ]
  },
  {
   "cell_type": "markdown",
   "metadata": {},
   "source": [
    "#### Setup Random Forest "
   ]
  },
  {
   "cell_type": "code",
   "execution_count": 74,
   "metadata": {},
   "outputs": [],
   "source": [
    "regressor = RandomForestRegressor(n_estimators=100, random_state=42)"
   ]
  },
  {
   "cell_type": "markdown",
   "metadata": {},
   "source": [
    "#### Fit model to data"
   ]
  },
  {
   "cell_type": "code",
   "execution_count": 75,
   "metadata": {},
   "outputs": [
    {
     "data": {
      "text/plain": [
       "RandomForestRegressor(random_state=42)"
      ]
     },
     "execution_count": 75,
     "metadata": {},
     "output_type": "execute_result"
    }
   ],
   "source": [
    "regressor.fit(X, Y)"
   ]
  },
  {
   "cell_type": "markdown",
   "metadata": {},
   "source": [
    "## Model Evaluation"
   ]
  },
  {
   "cell_type": "markdown",
   "metadata": {},
   "source": [
    "#### Calculate how well the model makes predictions; calculate the mean squared error and $r^2$ "
   ]
  },
  {
   "cell_type": "code",
   "execution_count": 77,
   "metadata": {},
   "outputs": [
    {
     "name": "stdout",
     "output_type": "stream",
     "text": [
      "Mean Squared Error: 0.006720128503839543\n",
      "R-squared: 0.9340610889425671\n"
     ]
    }
   ],
   "source": [
    "# Predict using the model\n",
    "predictions = regressor.predict(X)\n",
    "\n",
    "# Calculate Mean Squared Error\n",
    "mse = mean_squared_error(Y, predictions)\n",
    "print(f'Mean Squared Error: {mse}')\n",
    "\n",
    "# Calculate R-squared\n",
    "r2 = r2_score(Y, predictions)\n",
    "print(f'R-squared: {r2}')"
   ]
  },
  {
   "cell_type": "markdown",
   "metadata": {},
   "source": [
    "## Sensitivity Analysis "
   ]
  },
  {
   "cell_type": "markdown",
   "metadata": {},
   "source": [
    "#### Have model give importanc of each explanatory variable (i.e amount of $r^2$ value explained by a given variable)"
   ]
  },
  {
   "cell_type": "code",
   "execution_count": 78,
   "metadata": {},
   "outputs": [
    {
     "name": "stdout",
     "output_type": "stream",
     "text": [
      "Feature Importances:\n",
      "[0.00000000e+00 6.01629709e-02 5.04780549e-01 0.00000000e+00\n",
      " 0.00000000e+00 8.22318793e-02 6.44774836e-02 0.00000000e+00\n",
      " 1.76273440e-02 3.83183357e-04 6.64082173e-02 0.00000000e+00\n",
      " 0.00000000e+00 0.00000000e+00 1.99883639e-01 9.09495705e-04\n",
      " 1.74647187e-06 9.08653221e-07 1.07621654e-03 5.44600751e-06\n",
      " 4.46272608e-04 1.60464724e-03 0.00000000e+00 0.00000000e+00]\n"
     ]
    },
    {
     "data": {
      "image/png": "[encoded data removed]",
      "text/plain": [
       "<Figure size 720x432 with 1 Axes>"
      ]
     },
     "metadata": {
      "needs_background": "light"
     },
     "output_type": "display_data"
    }
   ],
   "source": [
    "importances = regressor.feature_importances_\n",
    "\n",
    "# Print importances\n",
    "print(\"Feature Importances:\")\n",
    "print(importances)\n",
    "\n",
    "# Set up labels for the features (adjust based on your column names)\n",
    "plotLabs = X.columns  # Using column names directly for labeling\n",
    "\n",
    "# Bar plot of importances\n",
    "plt.figure(figsize=(10, 6))\n",
    "plt.bar(plotLabs, importances, align=\"center\")\n",
    "plt.xticks(rotation=90) \n",
    "plt.xlabel(\"Parameters\")\n",
    "plt.ylabel(\"Importance\")\n",
    "plt.title(\"Parameter Importance\")\n",
    "plt.tight_layout()\n",
    "plt.show()"
   ]
  },
  {
   "cell_type": "markdown",
   "metadata": {},
   "source": [
    "##### Want to test these params in the facets: r_H, K_H, d, E_H, m_H, r_P, K_P, E_P, m_P, v_m, k_s, m_ph, y, r_m, kg"
   ]
  },
  {
   "cell_type": "code",
   "execution_count": null,
   "metadata": {},
   "outputs": [],
   "source": []
  },
  {
   "cell_type": "code",
   "execution_count": null,
   "metadata": {},
   "outputs": [],
   "source": []
  },
  {
   "cell_type": "markdown",
   "metadata": {},
   "source": [
    "## If want to vary params by different amounts"
   ]
  },
  {
   "cell_type": "code",
   "execution_count": null,
   "metadata": {},
   "outputs": [],
   "source": [
    "# Function to vary parameters and document all parameter values\n",
    "def run_model_with_varying_params(parameters_dict, params_to_vary, variation_ranges, num_steps, H0, P0, PH0, N0):\n",
    "    # Initialize an empty list to store all results\n",
    "    all_results = []\n",
    "    \n",
    "    # Loop through each parameter to vary\n",
    "    for param in params_to_vary:\n",
    "        # Store the original value of the parameter\n",
    "        original_value = parameters_dict[param]\n",
    "        \n",
    "        # Get the variation range for the current parameter\n",
    "        if param in variation_ranges:\n",
    "            param_range = variation_ranges[param]\n",
    "        else:\n",
    "            param_range = (original_value * 0.1)  # Default ±10% variation if not specified\n",
    "        \n",
    "        # Generate values to vary the parameter within the specified range and the number of steps\n",
    "        varied_values = np.linspace(\n",
    "            original_value - param_range,  # Lower bound\n",
    "            original_value + param_range,  # Upper bound\n",
    "            num_steps  # The same number of steps across all parameters\n",
    "        )\n",
    "        \n",
    "        # Loop through each varied value for the current parameter\n",
    "        for value in varied_values:\n",
    "            # Update the parameter in the dictionary\n",
    "            parameters_dict[param] = value\n",
    "            \n",
    "            # Run the model with the updated parameters\n",
    "            H_array, P_array, PH_array, N_array, H_harvest_array, P_harvest_array, grazing_array = run_model(\n",
    "                H0, P0, PH0, N0, parameters_dict\n",
    "            )\n",
    "            \n",
    "            # Create a dictionary to store the results for this run\n",
    "            result = {\n",
    "                'H_final': H_array[-1],\n",
    "                'P_final': P_array[-1],\n",
    "                'PH_final': PH_array[-1],\n",
    "                'N_final': N_array[-1]\n",
    "            }\n",
    "            \n",
    "            # Add all parameter values to the result\n",
    "            result.update(parameters_dict)\n",
    "            \n",
    "            # Append the result to the list\n",
    "            all_results.append(result)\n",
    "        \n",
    "        # Reset the parameter to its original value\n",
    "        parameters_dict[param] = original_value\n",
    "    \n",
    "    # Convert the results list to a DataFrame\n",
    "    results_df = pd.DataFrame(all_results)\n",
    "    return results_df\n",
    "\n",
    "# Specify parameters to vary and their custom variation ranges\n",
    "params_to_vary = ['r_H', 'K_H', 'c', 'b', 'v_m', 'N_pulse', 'r_P', 'K_P', 'E_H', 'E_P']  # Parameters to vary\n",
    "\n",
    "# Define custom variation ranges for each parameter\n",
    "variation_ranges = {\n",
    "    'E_P': 0.5,      # ±50% range for E_P\n",
    "    'r_P': 0.0005,   # ±0.05% range for r_P\n",
    "    'r_H': 0.02,     # ±2% range for r_H\n",
    "    'K_H': 10,       # ±10 for K_H\n",
    "    'c': 0.1,        # ±10% range for c\n",
    "    'b': 0.05,       # ±5% range for b\n",
    "    'v_m': 0.005,    # ±0.5% range for v_m\n",
    "    'N_pulse': 0.1,  # ±10% range for N_pulse\n",
    "    'K_P': 5,        # ±5 for K_P\n",
    "    'E_H': 0.05      # ±5% range for E_H\n",
    "}\n",
    "\n",
    "# Set initial conditions and parameter values\n",
    "parameters_dict = {\n",
    "    'r_H': 0.1, \n",
    "    'K_H': 100, \n",
    "    'c': 0.5, \n",
    "    'b': 0.2, \n",
    "    'v_m': 2.0, \n",
    "    'N_pulse': 0.1, \n",
    "    'r_P': 0.001, \n",
    "    'K_P': 50, \n",
    "    'E_H': 0.5, \n",
    "    'E_P': 0.8, \n",
    "    'numyears': 36500,\n",
    "    'theta_H': 0, \n",
    "    'd': 50,\n",
    "    'q_H': 1.0,\n",
    "    'm_H': (0.1/365),\n",
    "    'theta_P': 0,\n",
    "    'q_P': 1.0,\n",
    "    'm_P': (0.01/365),\n",
    "    'k_s': 1,\n",
    "    'm_ph': 0.03,\n",
    "    'y': 0.1,\n",
    "    'r_m': 1.1,\n",
    "    'kg': 12,\n",
    "    'dt': 0.1\n",
    "}\n",
    "\n",
    "H0, P0, PH0, N0 = 100, 50, 20, 1000  # Example initial conditions\n",
    "\n",
    "# Define the number of steps for each parameter variation (same for all parameters)\n",
    "num_steps = 5\n",
    "\n",
    "# Run the function to vary parameters and collect results\n",
    "results_df = run_model_with_varying_params(parameters_dict, params_to_vary, variation_ranges, num_steps, H0, P0, PH0, N0)\n",
    "\n",
    "# Display all columns in the DataFrame\n",
    "pd.set_option('display.max_columns', None)\n",
    "print(results_df)\n",
    "\n",
    "# Optionally save to a CSV\n",
    "results_df.to_csv('model_results_with_varying_params.csv', index=False)"
   ]
  },
  {
   "cell_type": "code",
   "execution_count": null,
   "metadata": {},
   "outputs": [],
   "source": []
  },
  {
   "cell_type": "code",
   "execution_count": null,
   "metadata": {},
   "outputs": [],
   "source": []
  },
  {
   "cell_type": "code",
   "execution_count": null,
   "metadata": {},
   "outputs": [],
   "source": []
  }
 ],
 "metadata": {
  "kernelspec": {
   "display_name": "py36test",
   "language": "python",
   "name": "py36test"
  },
  "language_info": {
   "codemirror_mode": {
    "name": "ipython",
    "version": 3
   },
   "file_extension": ".py",
   "mimetype": "text/x-python",
   "name": "python",
   "nbconvert_exporter": "python",
   "pygments_lexer": "ipython3",
   "version": "3.6.10"
  }
 },
 "nbformat": 4,
 "nbformat_minor": 4
}
