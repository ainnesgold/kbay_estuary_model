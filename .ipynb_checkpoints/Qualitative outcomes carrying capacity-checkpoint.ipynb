{
 "cells": [
  {
   "cell_type": "code",
   "execution_count": 12,
   "metadata": {},
   "outputs": [],
   "source": [
    "import numpy as np\n",
    "import matplotlib.pyplot as plt\n",
    "from matplotlib.colors import ListedColormap, BoundaryNorm\n",
    "from matplotlib import rc\n",
    "import seaborn as sns\n",
    "import pandas as pd\n",
    "from scipy import stats\n",
    "from scipy.optimize import curve_fit\n",
    "from scipy.integrate import odeint\n",
    "from scipy.integrate import solve_ivp"
   ]
  },
  {
   "cell_type": "code",
   "execution_count": 2,
   "metadata": {},
   "outputs": [],
   "source": [
    "def dNdt(H, P, PH, N, parameters_dict):\n",
    "    # Unpacking parameters\n",
    "    r_H = parameters_dict['r_H']\n",
    "    K_H = parameters_dict['K_H']\n",
    "    theta_H = parameters_dict['theta_H']\n",
    "    c = parameters_dict['c']\n",
    "    d = parameters_dict['d']\n",
    "    q_H = parameters_dict['q_H']\n",
    "    E_H = parameters_dict['E_H']\n",
    "    m_H = parameters_dict['m_H']\n",
    "    r_P = parameters_dict['r_P']\n",
    "    K_P = parameters_dict['K_P']\n",
    "    b = parameters_dict['b']\n",
    "    theta_P = parameters_dict['theta_P']\n",
    "    q_P = parameters_dict['q_P']\n",
    "    E_P = parameters_dict['E_P']\n",
    "    m_P = parameters_dict['m_P']\n",
    "    v_m = parameters_dict['v_m']\n",
    "    k_s = parameters_dict['k_s']\n",
    "    m_ph = parameters_dict['m_ph']\n",
    "    y = parameters_dict['y']\n",
    "    r_m = parameters_dict['r_m']\n",
    "    kg = parameters_dict['kg']\n",
    "    N_pulse = parameters_dict['N_pulse']\n",
    "\n",
    "\n",
    "    # Calculate derivatives\n",
    "    dH = r_H * H * (1 - H / K_H) + ((1 - y) * r_m * (kg ** -1 * PH * (1 - np.exp(-kg ** -1 * PH))) * H) * (1 - H / K_H) - (\n",
    "                c * H * P) / (d + H) + theta_H - (q_H * E_H * H) - (m_H * H)\n",
    "    dP = r_P * P * (1 - P / K_P) + (b * H * P) / (d + H) + theta_P - q_P * E_P * P - m_P * P\n",
    "    dPH = ((v_m * N * PH) / (k_s + N)) - (m_ph * PH) - ((r_m * (kg ** -1 * PH * (1 - np.exp(-kg ** -1 * PH)))) * H)\n",
    "    dN = -(PH * (v_m * N) / (k_s + N)) + (0.5 * m_ph * PH) + (0.5 * m_H * H) + (1 * y * (r_m * (kg ** -1 * PH * (1 - np.exp(-kg ** -1 * PH)))) * H) + (\n",
    "                0.5 * m_P * P)\n",
    "\n",
    "    return dH, dP, dPH, dN"
   ]
  },
  {
   "cell_type": "code",
   "execution_count": 3,
   "metadata": {},
   "outputs": [],
   "source": [
    "# Function: numerical solver, 2nd order RK \n",
    "\n",
    "def RK2(H, P, PH, N, parameters_dict):\n",
    "    H_init = H\n",
    "    P_init = P\n",
    "    PH_init = PH \n",
    "    N_init = N \n",
    "    \n",
    "    dH1, dP1, dPH1, dN1 = dNdt(H, P, PH, N, parameters_dict)\n",
    "    \n",
    "    H1 = H + 0.5 * dH1 #* dt\n",
    "    P1 = P + 0.5 * dP1 #* dt\n",
    "    PH1 = PH + 0.5 * dPH1 #* dt\n",
    "    N1 = N + 0.5 * dN1 #* dt\n",
    "    \n",
    "    dH2, dP2, dPH2, dN2 = dNdt(H1, P1, PH1, N1, parameters_dict)\n",
    "    \n",
    "    dH_ave = (dH1+dH2)/2 \n",
    "    dP_ave = (dP1+dP2)/2\n",
    "    dPH_ave = (dPH1+dPH2)/2\n",
    "    dN_ave = (dN1+dN2)/2\n",
    "    \n",
    "    H = (H_init + dH_ave) #* dt #(include as another param)\n",
    "    P = (P_init + dP_ave) #* dt\n",
    "    PH = (PH_init + dPH_ave) #* dt \n",
    "    N = (N_init + dN_ave) #* dt\n",
    "    \n",
    "    if H < 0:\n",
    "        H = 0 \n",
    "        \n",
    "    if P < 0:\n",
    "        P = 0 \n",
    "    \n",
    "    if PH < 0:\n",
    "        PH = 0 \n",
    "        \n",
    "    if N < 0:\n",
    "        N = 0\n",
    "        \n",
    "    \n",
    "    #Calculate harvest \n",
    "    q_H = parameters_dict['q_H'] #proportionality constant for herbivore harvest \n",
    "    E_H = parameters_dict['E_H'] #Effort for herbivore harvest\n",
    "    \n",
    "    q_P = parameters_dict['q_P'] #proportionality constant for herbivore harvest \n",
    "    E_P = parameters_dict['E_P'] #Effort for herbivore harvest\n",
    "    \n",
    "    herbivore_harvest = q_H*E_H*H\n",
    "    predator_harvest = q_P*E_P*P\n",
    "    \n",
    "    #Calculate grazing \n",
    "    r_m = parameters_dict['r_m'] # grazing of fish on phytoplankton\n",
    "    kg = parameters_dict['kg']\n",
    "    \n",
    "    grazing = r_m * (kg**-1 * PH * (1 - np.exp(-kg**-1 * PH))) * H\n",
    "    \n",
    "    return H, P, PH, N, herbivore_harvest, predator_harvest, grazing"
   ]
  },
  {
   "cell_type": "code",
   "execution_count": 4,
   "metadata": {},
   "outputs": [],
   "source": [
    "def run_model(INIT_H, INIT_P, INIT_PH, INIT_N, parameters_dict):\n",
    "    \n",
    "    numyears = parameters_dict['numyears']\n",
    "    \n",
    "    \n",
    "    H_array = np.zeros(numyears+1)\n",
    "    P_array = np.zeros(numyears+1)\n",
    "    PH_array = np.zeros(numyears+1)\n",
    "    N_array = np.zeros(numyears+1)\n",
    "    H_harvest_array = np.zeros(numyears+1)\n",
    "    P_harvest_array = np.zeros(numyears+1)\n",
    "    grazing_array = np.zeros(numyears+1)\n",
    "    \n",
    "    H_array[0] = INIT_H #Starting biomass of herbivore\n",
    "    P_array[0] = INIT_P #Starting biomass of predator \n",
    "    PH_array[0] = INIT_PH #Starting biomass of phytoplankton\n",
    "    N_array[0] = INIT_N #Starting biomass of nutrients\n",
    "    H_harvest_array[0] = 0\n",
    "    P_harvest_array[0] = 0\n",
    "    grazing_array[0] = 0\n",
    "  \n",
    "    \n",
    "    for i in np.arange(0,numyears):\n",
    "        H_array[i+1], P_array[i+1], PH_array[i+1], N_array[i+1], H_harvest_array[i+1], P_harvest_array[i+1], grazing_array[i+1], \\\n",
    "            = RK2(H_array[i], P_array[i], PH_array[i], N_array[i], parameters_dict)\n",
    "        \n",
    "        # Check if it's time to add a pulse of nutrients\n",
    "        if (i + 1) % 30 == 0:\n",
    "            N_pulse = parameters_dict['N_pulse']  # Define the magnitude of the nutrient pulse\n",
    "            N_array[i + 1] += N_pulse  # Add the nutrient pulse\n",
    "        \n",
    "    \n",
    "    return H_array, P_array, PH_array, N_array, H_harvest_array, P_harvest_array, grazing_array"
   ]
  },
  {
   "cell_type": "code",
   "execution_count": 5,
   "metadata": {},
   "outputs": [],
   "source": [
    "numyears = 36500 # number of years to run simulation\n",
    "\n",
    "#Herbivore parameters:\n",
    "r_H = (0.4/365) # prey growth rate\n",
    "K_H = 50 # carrying capacity of herbivores\n",
    "theta_H = 0 # immigration of herbivores\n",
    "c = (0.4/365) # addition to predator from prey\n",
    "d = 50 # value of H when predation half its max value\n",
    "q_H = 1.0 # proportionality constant for herbivore harvest\n",
    "E_H = (0.0/365) # Effort for herbivore harvest\n",
    "m_H = (0.1/365) # Herbivore mortality \n",
    "\n",
    "#Predator parameters:\n",
    "r_P = (0.1/365) # growth rate of predator \n",
    "K_P = 10 # carrying capactiy of predators \n",
    "b = (0.4/365) # mortality to prey from predator\n",
    "theta_P = 0 # immigration of predators  \n",
    "q_P = 1.0 # proportionality constant for predators harvest\n",
    "E_P = (0.0/365) # Effort for predator harvest\n",
    "m_P = (0.01/365) # Predator mortality\n",
    "\n",
    "#Phytoplankton parameters: \n",
    "v_m = (2.0) # max growth rate of phytoplankton ## daily rate ?\n",
    "k_s = 1 # half saturation constant\n",
    "m_ph = 0.03 # phytoplankton mortality ## daily rate ?\n",
    "y = 0.1 # unassimilated phytoplankton \n",
    "\n",
    "#Grazing parameters: \n",
    "r_m = 1.1 #1.1 # grazing of fish on phytoplankton ## daily ??\n",
    "kg = 12\n",
    "N_pulse = 1.0\n",
    "# Timesteps\n",
    "dt = 0.1\n",
    "\n",
    "parameters_dict = {'numyears': numyears,\n",
    "                  'r_H': r_H,\n",
    "                  'K_H': K_H, \n",
    "                  'theta_H': theta_H,\n",
    "                  'c': c, \n",
    "                  'd': d, \n",
    "                  'E_H': E_H,\n",
    "                  'q_H': q_H,\n",
    "                  'm_H': m_H,\n",
    "                  'r_P': r_P,\n",
    "                  'K_P': K_P,\n",
    "                  'theta_P': theta_P, \n",
    "                  'b': b,\n",
    "                  'q_P': q_P, \n",
    "                  'E_P': E_P,\n",
    "                  'm_P': m_P, \n",
    "                  'v_m': v_m,\n",
    "                  'k_s': k_s, \n",
    "                  'm_ph': m_ph, \n",
    "                  'y': y, \n",
    "                  'r_m': r_m, \n",
    "                  'kg': kg,\n",
    "                  'dt': dt,\n",
    "                  'N_pulse': N_pulse\n",
    "                  }"
   ]
  },
  {
   "cell_type": "code",
   "execution_count": 6,
   "metadata": {},
   "outputs": [],
   "source": [
    "numyears = 36500 # number of years to run simulation \n",
    "\n",
    "H0 = 20\n",
    "P0 = 5\n",
    "PH0 = 1\n",
    "N0 = 1\n",
    "\n",
    "H_array, P_array, PH_array, N_array, H_harvest_array, P_harvest_array, grazing_array = run_model(H0, P0, PH0, N0, parameters_dict)"
   ]
  },
  {
   "cell_type": "code",
   "execution_count": 7,
   "metadata": {},
   "outputs": [
    {
     "data": {
      "text/plain": [
       "Text(0, 0.5, 'Nutrients Biomass')"
      ]
     },
     "execution_count": 7,
     "metadata": {},
     "output_type": "execute_result"
    },
    {
     "data": {
      "image/png": "[encoded data removed]",
      "text/plain": [
       "<Figure size 432x288 with 1 Axes>"
      ]
     },
     "metadata": {
      "needs_background": "light"
     },
     "output_type": "display_data"
    }
   ],
   "source": [
    "# Calculate the number of years in the simulation\n",
    "numyears = parameters_dict['numyears']\n",
    "years = numyears / 365\n",
    "\n",
    "# Generate x-values representing years\n",
    "time_years = np.linspace(0, years, len(H_array))\n",
    "\n",
    "plt.plot(time_years, N_array)\n",
    "plt.xlabel('Number of Years')\n",
    "plt.ylabel('Nutrients Biomass')"
   ]
  },
  {
   "cell_type": "code",
   "execution_count": 8,
   "metadata": {},
   "outputs": [
    {
     "data": {
      "image/png": "[encoded data removed]",
      "text/plain": [
       "<Figure size 432x288 with 1 Axes>"
      ]
     },
     "metadata": {
      "needs_background": "light"
     },
     "output_type": "display_data"
    }
   ],
   "source": [
    "plt.plot(time_years, H_array, label=\"Prey\")\n",
    "plt.plot(time_years, P_array, label = \"Predator\")\n",
    "plt.plot(time_years, PH_array, label= \"Phytoplankton\")\n",
    "plt.plot(time_years, N_array, label= \"Nutrients\")\n",
    "plt.legend()\n",
    "plt.xlabel('Number of Years')\n",
    "plt.ylabel('Biomass')\n",
    "plt.title('Community Dynamics with Nutrient Pulses')\n",
    "\n",
    "plt.show()"
   ]
  },
  {
   "cell_type": "code",
   "execution_count": 9,
   "metadata": {},
   "outputs": [],
   "source": [
    "def default_params():\n",
    "    numyears = 36500 # number of years to run simulation\n",
    "\n",
    "    #Herbivore parameters:\n",
    "    r_H = (0.4/365) # prey growth rate\n",
    "    K_H = 50 # carrying capacity of herbivores\n",
    "    theta_H = 0 # immigration of herbivores\n",
    "    c = (0.4/365) # addition to predator from prey\n",
    "    d = 50 # value of H when predation half its max value\n",
    "    q_H = 1.0 # proportionality constant for herbivore harvest\n",
    "    E_H = (0.0/365) # Effort for herbivore harvest\n",
    "    m_H = (0.1/365) # Herbivore mortality \n",
    "\n",
    "    #Predator parameters:\n",
    "    r_P = (0.1/365) # growth rate of predator \n",
    "    K_P = 10 # carrying capactiy of predators \n",
    "    b = (0.4/365) # mortality to prey from predator\n",
    "    theta_P = 0 # immigration of predators  \n",
    "    q_P = 1.0 # proportionality constant for predators harvest\n",
    "    E_P = (0.0/365) # Effort for predator harvest\n",
    "    m_P = (0.01/365) # Predator mortality\n",
    "\n",
    "    #Phytoplankton parameters: \n",
    "    v_m = (2.0) # max growth rate of phytoplankton ## daily rate ?\n",
    "    k_s = 1 # half saturation constant\n",
    "    m_ph = 0.03 # phytoplankton mortality ## daily rate ?\n",
    "    y = 0.1 # unassimilated phytoplankton \n",
    "\n",
    "    #Grazing parameters: \n",
    "    r_m = 1.1 #1.1 # grazing of fish on phytoplankton ## daily ??\n",
    "    kg = 12\n",
    "    N_pulse = 1.0\n",
    "    # Timesteps\n",
    "    dt = 0.1\n",
    "\n",
    "    parameters_dict = {'numyears': numyears,\n",
    "                  'r_H': r_H,\n",
    "                  'K_H': K_H, \n",
    "                  'theta_H': theta_H,\n",
    "                  'c': c, \n",
    "                  'd': d, \n",
    "                  'E_H': E_H,\n",
    "                  'q_H': q_H,\n",
    "                  'm_H': m_H,\n",
    "                  'r_P': r_P,\n",
    "                  'K_P': K_P,\n",
    "                  'theta_P': theta_P, \n",
    "                  'b': b,\n",
    "                  'q_P': q_P, \n",
    "                  'E_P': E_P,\n",
    "                  'm_P': m_P, \n",
    "                  'v_m': v_m,\n",
    "                  'k_s': k_s, \n",
    "                  'm_ph': m_ph, \n",
    "                  'y': y, \n",
    "                  'r_m': r_m, \n",
    "                  'kg': kg,\n",
    "                  'dt': dt,\n",
    "                  'N_pulse': N_pulse\n",
    "                  }\n",
    "    \n",
    "    return parameters_dict"
   ]
  },
  {
   "cell_type": "markdown",
   "metadata": {},
   "source": [
    "## Testing impact of $K_H$ and $K_P$ values"
   ]
  },
  {
   "cell_type": "markdown",
   "metadata": {},
   "source": [
    "#### Define values"
   ]
  },
  {
   "cell_type": "code",
   "execution_count": 23,
   "metadata": {},
   "outputs": [],
   "source": [
    "# Initialize parameters\n",
    "size = 100  # Resolution of b and c grid\n",
    "K_H_array = np.linspace(1, 500, size)  # Adjusted range for b values\n",
    "K_P_array = np.linspace(1, 100, size)  # Adjusted range for c values\n",
    "\n",
    "# Define thresholds for qualitative classification\n",
    "prey_extinction = 0.001\n",
    "predator_extinction = 0.001\n",
    "\n",
    "# Arrays to store results\n",
    "H_last = np.zeros((size, size))\n",
    "P_last = np.zeros((size, size))\n",
    "region_data = np.zeros((size, size))"
   ]
  },
  {
   "cell_type": "markdown",
   "metadata": {},
   "source": [
    "#### Run loop"
   ]
  },
  {
   "cell_type": "code",
   "execution_count": 24,
   "metadata": {},
   "outputs": [],
   "source": [
    "# Run the model across all combinations of b and c\n",
    "for i, K_H in enumerate(K_H_array):\n",
    "    for j, K_P in enumerate(K_P_array):\n",
    "        parameters_dict['K_H'] = K_H\n",
    "        parameters_dict['K_P'] = K_P\n",
    "        H_array, P_array, PH_array, N_array, H_harvest_array, P_harvest_array, grazing_array = run_model(H0, P0, PH0, N0, parameters_dict)\n",
    "        \n",
    "        # Calculate the mean of the last 10 time points for H and P\n",
    "        H_last[i, j] = np.mean(H_array[-10:])\n",
    "        P_last[i, j] = np.mean(P_array[-10:])\n",
    "        \n",
    "        # Classify outcomes\n",
    "        if H_last[i, j] < prey_extinction and P_last[i, j] > predator_extinction:\n",
    "            region_data[i, j] = 1  # Predator-dominated\n",
    "        elif P_last[i, j] < predator_extinction and H_last[i, j] > prey_extinction:\n",
    "            region_data[i, j] = 2  # Prey-dominated\n",
    "        elif H_last[i, j] > prey_extinction and P_last[i, j] > predator_extinction:\n",
    "            region_data[i, j] = 3  # Coexistence"
   ]
  },
  {
   "cell_type": "code",
   "execution_count": 26,
   "metadata": {},
   "outputs": [],
   "source": [
    "np.save('data/KP_KH_qualitative_H_last.npy', H_last)\n",
    "np.save('data/KP_KH_qualitative_P_last.npy', P_last)\n",
    "np.save('data/KP_KH_qualitative_region_data.npy', region_data)"
   ]
  },
  {
   "cell_type": "code",
   "execution_count": 29,
   "metadata": {},
   "outputs": [],
   "source": [
    "H_last = np.load('data/KP_KH_qualitative_H_last.npy')\n",
    "P_last = np.load('data/KP_KH_qualitative_P_last.npy')\n",
    "region_data = np.load('data/KP_KH_qualitative_region_data.npy')"
   ]
  },
  {
   "cell_type": "markdown",
   "metadata": {},
   "source": [
    "#### Plot"
   ]
  },
  {
   "cell_type": "code",
   "execution_count": 31,
   "metadata": {},
   "outputs": [
    {
     "data": {
      "image/png": "[encoded data removed]",
      "text/plain": [
       "<Figure size 720x504 with 1 Axes>"
      ]
     },
     "metadata": {
      "needs_background": "light"
     },
     "output_type": "display_data"
    }
   ],
   "source": [
    "# Custom colormap\n",
    "cmap = ListedColormap(['purple', 'green', 'lightblue'])\n",
    "norm = BoundaryNorm([0.5, 1.5, 2.5, 3.5], cmap.N)\n",
    "\n",
    "# Plot results\n",
    "plt.figure(figsize=(10, 7))\n",
    "plt.imshow(region_data, cmap=cmap, norm=norm, extent=[min(K_H_array), max(K_H_array), min(K_P_array), max(K_P_array)], \n",
    "           origin='lower', aspect='auto', alpha=0.7)\n",
    "\n",
    "# Labels and titles\n",
    "plt.xlabel('$K_H$ values', fontsize=16)\n",
    "plt.ylabel('$K_P$ values', fontsize=16)\n",
    "plt.title('Qualitative Outcomes Across $K_H$ and $K_P$ Values', fontsize=18)\n",
    "plt.xticks(fontsize=14)\n",
    "plt.yticks(fontsize=14)\n",
    "\n",
    "# Add a legend-like annotation\n",
    "colors = ['purple', 'green', 'lightblue']\n",
    "labels = ['Prey-Extirpation', 'Predator-Extirpation', 'Coexistence']\n",
    "for idx, (color, label) in enumerate(zip(colors, labels)):\n",
    "    plt.text(1.05, 0.1 * idx + 0.4, label, color=color, transform=plt.gca().transAxes, fontsize=14, fontweight='bold')\n",
    "\n",
    "plt.show()"
   ]
  },
  {
   "cell_type": "code",
   "execution_count": 35,
   "metadata": {},
   "outputs": [],
   "source": [
    "# Adjust b_array and c_array by dividing by 365\n",
    "size = 200\n",
    "K_H_array = np.linspace(1, 500, size) \n",
    "K_P_array = np.linspace(1, 100, size)  \n",
    "\n",
    "# Initialize arrays to store results\n",
    "H_last = np.zeros((size, size))\n",
    "P_last = np.zeros((size, size))\n",
    "region_data = np.zeros((size, size))\n",
    "\n",
    "# Run the model across all combinations of b and c\n",
    "for i, K_H in enumerate(K_H_array):\n",
    "    for j, K_P in enumerate(K_P_array):\n",
    "        parameters_dict['K_H'] = K_H\n",
    "        parameters_dict['K_P'] = K_P\n",
    "        H_array, P_array, PH_array, N_array, H_harvest_array, P_harvest_array, grazing_array = run_model(H0, P0, PH0, N0, parameters_dict)\n",
    "        \n",
    "        # Calculate the mean of the last 10 time points for H and P\n",
    "        H_last[i, j] = np.mean(H_array[-10:])\n",
    "        P_last[i, j] = np.mean(P_array[-10:])\n",
    "        \n",
    "        # Classify outcomes based on relative abundance\n",
    "        if H_last[i, j] > P_last[i, j]:\n",
    "            region_data[i, j] = 1  # Prey-dominated (H > P)\n",
    "        elif P_last[i, j] > H_last[i, j]:\n",
    "            region_data[i, j] = 2  # Predator-dominated (P > H)\n",
    "        else:\n",
    "            region_data[i, j] = 3  # Equal abundance (H ≈ P)"
   ]
  },
  {
   "cell_type": "code",
   "execution_count": 39,
   "metadata": {},
   "outputs": [
    {
     "data": {
      "image/png": "[encoded data removed]",
      "text/plain": [
       "<Figure size 720x504 with 1 Axes>"
      ]
     },
     "metadata": {
      "needs_background": "light"
     },
     "output_type": "display_data"
    }
   ],
   "source": [
    "# Custom colormap\n",
    "cmap = ListedColormap(['green', 'purple', 'lightblue'])\n",
    "norm = BoundaryNorm([0.5, 1.5, 2.5, 3.5], cmap.N)\n",
    "\n",
    "# Plot results\n",
    "plt.figure(figsize=(10, 7))\n",
    "plt.imshow(region_data, cmap=cmap, norm=norm, extent=[min(K_H_array), max(K_H_array), min(K_P_array), max(K_P_array)], \n",
    "           origin='lower', aspect='auto', alpha=0.7)\n",
    "\n",
    "# Labels and titles\n",
    "plt.xlabel('$K_H$ values', fontsize=16)\n",
    "plt.ylabel('$K_P$ values', fontsize=16)\n",
    "plt.title('Qualitative Outcomes Across $K_H$ and $K_P$ Values', fontsize=18)\n",
    "plt.xticks(fontsize=14)\n",
    "plt.yticks(fontsize=14)\n",
    "\n",
    "# Add a legend-like annotation\n",
    "colors = ['green', 'purple']\n",
    "labels = ['Prey-Dominated', 'Predator-Dominated']\n",
    "for idx, (color, label) in enumerate(zip(colors, labels)):\n",
    "    plt.text(1.05, 0.1 * idx + 0.4, label, color=color, transform=plt.gca().transAxes, fontsize=14, fontweight='bold')\n",
    "\n",
    "plt.show()"
   ]
  },
  {
   "cell_type": "code",
   "execution_count": 37,
   "metadata": {},
   "outputs": [],
   "source": [
    "np.save('data/KP_KH_qualitative_H_last2.npy', H_last)\n",
    "np.save('data/KP_KH_qualitative_P_last2.npy', P_last)\n",
    "np.save('data/KP_KH_qualitative_region_data2.npy', region_data)"
   ]
  },
  {
   "cell_type": "code",
   "execution_count": 38,
   "metadata": {},
   "outputs": [],
   "source": [
    "H_last = np.load('data/KP_KH_qualitative_H_last2.npy')\n",
    "P_last = np.load('data/KP_KH_qualitative_P_last2.npy')\n",
    "region_data = np.load('data/KP_KH_qualitative_region_data2.npy')"
   ]
  },
  {
   "cell_type": "code",
   "execution_count": null,
   "metadata": {},
   "outputs": [],
   "source": []
  },
  {
   "cell_type": "code",
   "execution_count": null,
   "metadata": {},
   "outputs": [],
   "source": []
  },
  {
   "cell_type": "code",
   "execution_count": null,
   "metadata": {},
   "outputs": [],
   "source": []
  },
  {
   "cell_type": "code",
   "execution_count": null,
   "metadata": {},
   "outputs": [],
   "source": []
  },
  {
   "cell_type": "code",
   "execution_count": null,
   "metadata": {},
   "outputs": [],
   "source": []
  }
 ],
 "metadata": {
  "kernelspec": {
   "display_name": "py36test",
   "language": "python",
   "name": "py36test"
  },
  "language_info": {
   "codemirror_mode": {
    "name": "ipython",
    "version": 3
   },
   "file_extension": ".py",
   "mimetype": "text/x-python",
   "name": "python",
   "nbconvert_exporter": "python",
   "pygments_lexer": "ipython3",
   "version": "3.6.10"
  }
 },
 "nbformat": 4,
 "nbformat_minor": 4
}
