{
 "cells": [
  {
   "cell_type": "markdown",
   "metadata": {},
   "source": [
    "## Sensitivity to $b$, $c$, and $K$ values"
   ]
  },
  {
   "cell_type": "code",
   "execution_count": 35,
   "metadata": {},
   "outputs": [],
   "source": [
    "import numpy as np\n",
    "import matplotlib.pyplot as plt\n",
    "from matplotlib.colors import ListedColormap\n",
    "from matplotlib import rc\n",
    "import seaborn as sns\n",
    "import pandas as pd\n",
    "from scipy import stats\n",
    "from scipy.optimize import curve_fit\n",
    "from scipy.integrate import odeint\n",
    "from scipy.integrate import solve_ivp"
   ]
  },
  {
   "cell_type": "code",
   "execution_count": 36,
   "metadata": {},
   "outputs": [],
   "source": [
    "def dNdt(H, P, PH, N, parameters_dict):\n",
    "    # Unpacking parameters\n",
    "    r_H = parameters_dict['r_H']\n",
    "    K_H = parameters_dict['K_H']\n",
    "    theta_H = parameters_dict['theta_H']\n",
    "    c = parameters_dict['c']\n",
    "    d = parameters_dict['d']\n",
    "    q_H = parameters_dict['q_H']\n",
    "    E_H = parameters_dict['E_H']\n",
    "    m_H = parameters_dict['m_H']\n",
    "    r_P = parameters_dict['r_P']\n",
    "    K_P = parameters_dict['K_P']\n",
    "    b = parameters_dict['b']\n",
    "    theta_P = parameters_dict['theta_P']\n",
    "    q_P = parameters_dict['q_P']\n",
    "    E_P = parameters_dict['E_P']\n",
    "    m_P = parameters_dict['m_P']\n",
    "    v_m = parameters_dict['v_m']\n",
    "    k_s = parameters_dict['k_s']\n",
    "    m_ph = parameters_dict['m_ph']\n",
    "    y = parameters_dict['y']\n",
    "    r_m = parameters_dict['r_m']\n",
    "    kg = parameters_dict['kg']\n",
    "    N_pulse = parameters_dict['N_pulse']\n",
    "\n",
    "\n",
    "    # Calculate derivatives\n",
    "    dH = r_H * H * (1 - H / K_H) + ((1 - y) * r_m * (kg ** -1 * PH * (1 - np.exp(-kg ** -1 * PH))) * H) * (1 - H / K_H) - (\n",
    "                c * H * P) / (d + H) + theta_H - (q_H * E_H * H) - (m_H * H)\n",
    "    dP = r_P * P * (1 - P / K_P) + (b * H * P) / (d + H) + theta_P - q_P * E_P * P - m_P * P\n",
    "    dPH = ((v_m * N * PH) / (k_s + N)) - (m_ph * PH) - ((r_m * (kg ** -1 * PH * (1 - np.exp(-kg ** -1 * PH)))) * H)\n",
    "    dN = -(PH * (v_m * N) / (k_s + N)) + (0.5 * m_ph * PH) + (0.5 * m_H * H) + (1 * y * (r_m * (kg ** -1 * PH * (1 - np.exp(-kg ** -1 * PH)))) * H) + (\n",
    "                0.5 * m_P * P)\n",
    "\n",
    "    return dH, dP, dPH, dN"
   ]
  },
  {
   "cell_type": "code",
   "execution_count": 37,
   "metadata": {},
   "outputs": [],
   "source": [
    "# Function: numerical solver, 2nd order RK \n",
    "\n",
    "def RK2(H, P, PH, N, parameters_dict):\n",
    "    H_init = H\n",
    "    P_init = P\n",
    "    PH_init = PH \n",
    "    N_init = N \n",
    "    \n",
    "    dH1, dP1, dPH1, dN1 = dNdt(H, P, PH, N, parameters_dict)\n",
    "    \n",
    "    H1 = H + 0.5 * dH1 #* dt\n",
    "    P1 = P + 0.5 * dP1 #* dt\n",
    "    PH1 = PH + 0.5 * dPH1 #* dt\n",
    "    N1 = N + 0.5 * dN1 #* dt\n",
    "    \n",
    "    dH2, dP2, dPH2, dN2 = dNdt(H1, P1, PH1, N1, parameters_dict)\n",
    "    \n",
    "    dH_ave = (dH1+dH2)/2 \n",
    "    dP_ave = (dP1+dP2)/2\n",
    "    dPH_ave = (dPH1+dPH2)/2\n",
    "    dN_ave = (dN1+dN2)/2\n",
    "    \n",
    "    H = (H_init + dH_ave) #* dt #(include as another param)\n",
    "    P = (P_init + dP_ave) #* dt\n",
    "    PH = (PH_init + dPH_ave) #* dt \n",
    "    N = (N_init + dN_ave) #* dt\n",
    "    \n",
    "    if H < 0:\n",
    "        H = 0 \n",
    "        \n",
    "    if P < 0:\n",
    "        P = 0 \n",
    "    \n",
    "    if PH < 0:\n",
    "        PH = 0 \n",
    "        \n",
    "    if N < 0:\n",
    "        N = 0\n",
    "        \n",
    "    \n",
    "    #Calculate harvest \n",
    "    q_H = parameters_dict['q_H'] #proportionality constant for herbivore harvest \n",
    "    E_H = parameters_dict['E_H'] #Effort for herbivore harvest\n",
    "    \n",
    "    q_P = parameters_dict['q_P'] #proportionality constant for herbivore harvest \n",
    "    E_P = parameters_dict['E_P'] #Effort for herbivore harvest\n",
    "    \n",
    "    herbivore_harvest = q_H*E_H*H\n",
    "    predator_harvest = q_P*E_P*P\n",
    "    \n",
    "    #Calculate grazing \n",
    "    r_m = parameters_dict['r_m'] # grazing of fish on phytoplankton\n",
    "    kg = parameters_dict['kg']\n",
    "    \n",
    "    grazing = r_m * (kg**-1 * PH * (1 - np.exp(-kg**-1 * PH))) * H\n",
    "    \n",
    "    return H, P, PH, N, herbivore_harvest, predator_harvest, grazing"
   ]
  },
  {
   "cell_type": "code",
   "execution_count": 38,
   "metadata": {},
   "outputs": [],
   "source": [
    "def run_model(INIT_H, INIT_P, INIT_PH, INIT_N, parameters_dict):\n",
    "    \n",
    "    numyears = parameters_dict['numyears']\n",
    "    \n",
    "    \n",
    "    H_array = np.zeros(numyears+1)\n",
    "    P_array = np.zeros(numyears+1)\n",
    "    PH_array = np.zeros(numyears+1)\n",
    "    N_array = np.zeros(numyears+1)\n",
    "    H_harvest_array = np.zeros(numyears+1)\n",
    "    P_harvest_array = np.zeros(numyears+1)\n",
    "    grazing_array = np.zeros(numyears+1)\n",
    "    \n",
    "    H_array[0] = INIT_H #Starting biomass of herbivore\n",
    "    P_array[0] = INIT_P #Starting biomass of predator \n",
    "    PH_array[0] = INIT_PH #Starting biomass of phytoplankton\n",
    "    N_array[0] = INIT_N #Starting biomass of nutrients\n",
    "    H_harvest_array[0] = 0\n",
    "    P_harvest_array[0] = 0\n",
    "    grazing_array[0] = 0\n",
    "  \n",
    "    \n",
    "    for i in np.arange(0,numyears):\n",
    "        H_array[i+1], P_array[i+1], PH_array[i+1], N_array[i+1], H_harvest_array[i+1], P_harvest_array[i+1], grazing_array[i+1], \\\n",
    "            = RK2(H_array[i], P_array[i], PH_array[i], N_array[i], parameters_dict)\n",
    "        \n",
    "        # Check if it's time to add a pulse of nutrients\n",
    "        if (i + 1) % 30 == 0:\n",
    "            N_pulse = parameters_dict['N_pulse']  # Define the magnitude of the nutrient pulse\n",
    "            N_array[i + 1] += N_pulse  # Add the nutrient pulse\n",
    "        \n",
    "    \n",
    "    return H_array, P_array, PH_array, N_array, H_harvest_array, P_harvest_array, grazing_array"
   ]
  },
  {
   "cell_type": "code",
   "execution_count": 53,
   "metadata": {},
   "outputs": [],
   "source": [
    "numyears = 36500 # number of years to run simulation\n",
    "\n",
    "#Herbivore parameters:\n",
    "r_H = (0.4/365) # prey growth rate\n",
    "K_H = 50 # carrying capacity of herbivores\n",
    "theta_H = 0 # immigration of herbivores\n",
    "c = (0.8/365) # addition to predator from prey\n",
    "d = 50 # value of H when predation half its max value\n",
    "q_H = 1.0 # proportionality constant for herbivore harvest\n",
    "E_H = (0.0/365) # Effort for herbivore harvest\n",
    "m_H = (0.1/365) # Herbivore mortality \n",
    "\n",
    "#Predator parameters:\n",
    "r_P = (0.1/365) # growth rate of predator \n",
    "K_P = 10 # carrying capactiy of predators \n",
    "b = (0.8/365) # mortality to prey from predator\n",
    "theta_P = 0 # immigration of predators  \n",
    "q_P = 1.0 # proportionality constant for predators harvest\n",
    "E_P = (0.0/365) # Effort for predator harvest\n",
    "m_P = (0.01/365) # Predator mortality\n",
    "\n",
    "#Phytoplankton parameters: \n",
    "v_m = (2.0) # max growth rate of phytoplankton ## daily rate ?\n",
    "k_s = 1 # half saturation constant\n",
    "m_ph = 0.03 # phytoplankton mortality ## daily rate ?\n",
    "y = 0.1 # unassimilated phytoplankton \n",
    "\n",
    "#Grazing parameters: \n",
    "r_m = 1.1 #1.1 # grazing of fish on phytoplankton ## daily ??\n",
    "kg = 12\n",
    "N_pulse = 1.0\n",
    "# Timesteps\n",
    "dt = 0.1\n",
    "\n",
    "parameters_dict = {'numyears': numyears,\n",
    "                  'r_H': r_H,\n",
    "                  'K_H': K_H, \n",
    "                  'theta_H': theta_H,\n",
    "                  'c': c, \n",
    "                  'd': d, \n",
    "                  'E_H': E_H,\n",
    "                  'q_H': q_H,\n",
    "                  'm_H': m_H,\n",
    "                  'r_P': r_P,\n",
    "                  'K_P': K_P,\n",
    "                  'theta_P': theta_P, \n",
    "                  'b': b,\n",
    "                  'q_P': q_P, \n",
    "                  'E_P': E_P,\n",
    "                  'm_P': m_P, \n",
    "                  'v_m': v_m,\n",
    "                  'k_s': k_s, \n",
    "                  'm_ph': m_ph, \n",
    "                  'y': y, \n",
    "                  'r_m': r_m, \n",
    "                  'kg': kg,\n",
    "                  'dt': dt,\n",
    "                  'N_pulse': N_pulse\n",
    "                  }"
   ]
  },
  {
   "cell_type": "code",
   "execution_count": 54,
   "metadata": {},
   "outputs": [],
   "source": [
    "numyears = 36500 # number of years to run simulation \n",
    "\n",
    "H0 = 20\n",
    "P0 = 5\n",
    "PH0 = 1\n",
    "N0 = 1\n",
    "\n",
    "H_array, P_array, PH_array, N_array, H_harvest_array, P_harvest_array, grazing_array = run_model(H0, P0, PH0, N0, parameters_dict)"
   ]
  },
  {
   "cell_type": "code",
   "execution_count": 55,
   "metadata": {},
   "outputs": [
    {
     "data": {
      "text/plain": [
       "Text(0, 0.5, 'Nutrients Biomass')"
      ]
     },
     "execution_count": 55,
     "metadata": {},
     "output_type": "execute_result"
    },
    {
     "data": {
      "image/png": "[encoded data removed]",
      "text/plain": [
       "<Figure size 432x288 with 1 Axes>"
      ]
     },
     "metadata": {
      "needs_background": "light"
     },
     "output_type": "display_data"
    }
   ],
   "source": [
    "# Calculate the number of years in the simulation\n",
    "numyears = parameters_dict['numyears']\n",
    "years = numyears / 365\n",
    "\n",
    "# Generate x-values representing years\n",
    "time_years = np.linspace(0, years, len(H_array))\n",
    "\n",
    "plt.plot(time_years, N_array)\n",
    "plt.xlabel('Number of Years')\n",
    "plt.ylabel('Nutrients Biomass')"
   ]
  },
  {
   "cell_type": "code",
   "execution_count": 56,
   "metadata": {},
   "outputs": [
    {
     "data": {
      "image/png": "[encoded data removed]",
      "text/plain": [
       "<Figure size 432x288 with 1 Axes>"
      ]
     },
     "metadata": {
      "needs_background": "light"
     },
     "output_type": "display_data"
    }
   ],
   "source": [
    "plt.plot(time_years, H_array, label=\"Prey\")\n",
    "plt.plot(time_years, P_array, label = \"Predator\")\n",
    "plt.plot(time_years, PH_array, label= \"Phytoplankton\")\n",
    "plt.plot(time_years, N_array, label= \"Nutrients\")\n",
    "plt.legend()\n",
    "plt.xlabel('Number of Years')\n",
    "plt.ylabel('Biomass')\n",
    "plt.title('Community Dynamics with Nutrient Pulses')\n",
    "\n",
    "plt.show()"
   ]
  },
  {
   "cell_type": "markdown",
   "metadata": {},
   "source": [
    "### set default params"
   ]
  },
  {
   "cell_type": "code",
   "execution_count": 9,
   "metadata": {},
   "outputs": [],
   "source": [
    "def default_params():\n",
    "    numyears = 36500 # number of years to run simulation\n",
    "\n",
    "    #Herbivore parameters:\n",
    "    r_H = (0.4/365) # prey growth rate\n",
    "    K_H = 50 # carrying capacity of herbivores\n",
    "    theta_H = 0 # immigration of herbivores\n",
    "    c = (0.4/365) # addition to predator from prey\n",
    "    d = 50 # value of H when predation half its max value\n",
    "    q_H = 1.0 # proportionality constant for herbivore harvest\n",
    "    E_H = (0.0/365) # Effort for herbivore harvest\n",
    "    m_H = (0.1/365) # Herbivore mortality \n",
    "\n",
    "    #Predator parameters:\n",
    "    r_P = (0.1/365) # growth rate of predator \n",
    "    K_P = 10 # carrying capactiy of predators \n",
    "    b = (0.4/365) # mortality to prey from predator\n",
    "    theta_P = 0 # immigration of predators  \n",
    "    q_P = 1.0 # proportionality constant for predators harvest\n",
    "    E_P = (0.0/365) # Effort for predator harvest\n",
    "    m_P = (0.01/365) # Predator mortality\n",
    "\n",
    "    #Phytoplankton parameters: \n",
    "    v_m = (2.0) # max growth rate of phytoplankton ## daily rate ?\n",
    "    k_s = 1 # half saturation constant\n",
    "    m_ph = 0.03 # phytoplankton mortality ## daily rate ?\n",
    "    y = 0.1 # unassimilated phytoplankton \n",
    "\n",
    "    #Grazing parameters: \n",
    "    r_m = 1.1 #1.1 # grazing of fish on phytoplankton ## daily ??\n",
    "    kg = 12\n",
    "    N_pulse = 1.0\n",
    "    # Timesteps\n",
    "    dt = 0.1\n",
    "\n",
    "    parameters_dict = {'numyears': numyears,\n",
    "                  'r_H': r_H,\n",
    "                  'K_H': K_H, \n",
    "                  'theta_H': theta_H,\n",
    "                  'c': c, \n",
    "                  'd': d, \n",
    "                  'E_H': E_H,\n",
    "                  'q_H': q_H,\n",
    "                  'm_H': m_H,\n",
    "                  'r_P': r_P,\n",
    "                  'K_P': K_P,\n",
    "                  'theta_P': theta_P, \n",
    "                  'b': b,\n",
    "                  'q_P': q_P, \n",
    "                  'E_P': E_P,\n",
    "                  'm_P': m_P, \n",
    "                  'v_m': v_m,\n",
    "                  'k_s': k_s, \n",
    "                  'm_ph': m_ph, \n",
    "                  'y': y, \n",
    "                  'r_m': r_m, \n",
    "                  'kg': kg,\n",
    "                  'dt': dt,\n",
    "                  'N_pulse': N_pulse\n",
    "                  }\n",
    "    \n",
    "    return parameters_dict"
   ]
  },
  {
   "cell_type": "markdown",
   "metadata": {},
   "source": [
    "## Qualitative outcomes - b/c"
   ]
  },
  {
   "cell_type": "code",
   "execution_count": 10,
   "metadata": {},
   "outputs": [],
   "source": [
    "#Run model simulation; set params to default\n",
    "parameters_dict = default_params()\n",
    "\n",
    "numyears = 36500 # number of years to run simulation \n",
    "\n",
    "H0 = 20\n",
    "P0 = 5\n",
    "PH0 = 1\n",
    "N0 = 1\n",
    "\n",
    "H_array, P_array, PH_array, N_array, H_harvest_array, P_harvest_array, grazing_array = run_model(H0, P0, PH0, N0, parameters_dict)"
   ]
  },
  {
   "cell_type": "code",
   "execution_count": 13,
   "metadata": {},
   "outputs": [
    {
     "name": "stderr",
     "output_type": "stream",
     "text": [
      "/Users/SophiaRahnke/opt/miniconda3/envs/py36test/lib/python3.6/site-packages/ipykernel_launcher.py:31: RuntimeWarning: overflow encountered in double_scalars\n",
      "/Users/SophiaRahnke/opt/miniconda3/envs/py36test/lib/python3.6/site-packages/ipykernel_launcher.py:32: RuntimeWarning: overflow encountered in double_scalars\n",
      "/Users/SophiaRahnke/opt/miniconda3/envs/py36test/lib/python3.6/site-packages/ipykernel_launcher.py:55: RuntimeWarning: invalid value encountered in double_scalars\n",
      "/Users/SophiaRahnke/opt/miniconda3/envs/py36test/lib/python3.6/site-packages/ipykernel_launcher.py:29: RuntimeWarning: invalid value encountered in double_scalars\n",
      "/Users/SophiaRahnke/opt/miniconda3/envs/py36test/lib/python3.6/site-packages/ipykernel_launcher.py:31: RuntimeWarning: invalid value encountered in double_scalars\n",
      "/Users/SophiaRahnke/opt/miniconda3/envs/py36test/lib/python3.6/site-packages/ipykernel_launcher.py:32: RuntimeWarning: invalid value encountered in double_scalars\n",
      "/Users/SophiaRahnke/opt/miniconda3/envs/py36test/lib/python3.6/site-packages/ipykernel_launcher.py:29: RuntimeWarning: overflow encountered in exp\n",
      "/Users/SophiaRahnke/opt/miniconda3/envs/py36test/lib/python3.6/site-packages/ipykernel_launcher.py:31: RuntimeWarning: overflow encountered in exp\n",
      "/Users/SophiaRahnke/opt/miniconda3/envs/py36test/lib/python3.6/site-packages/ipykernel_launcher.py:32: RuntimeWarning: overflow encountered in exp\n"
     ]
    }
   ],
   "source": [
    "# Set b_array and c_array\n",
    "size = 10\n",
    "b_array = np.linspace(0, 1.0, size)  # Example range of b values\n",
    "c_array = np.linspace(0, 1.0, size)  # Example range of c values\n",
    "\n",
    "# Initialize arrays to store the last values of H and P\n",
    "H_last = np.zeros((size, size))\n",
    "P_last = np.zeros((size, size))\n",
    "\n",
    "# Run the model for each combination of b and c\n",
    "for i in range(size):\n",
    "    for j in range(size):\n",
    "        b = b_array[i]\n",
    "        c = c_array[j]\n",
    "        parameters_dict['b'] = b\n",
    "        parameters_dict['c'] = c\n",
    "        H_array, P_array, PH_array, N_array, H_harvest_array, P_harvest_array, grazing_array = run_model(H0, P0, PH0, N0, parameters_dict)\n",
    "        H_last[i, j] = np.mean(H_array[-10:])  # Take the mean of the last 10 values\n",
    "        P_last[i, j] = np.mean(P_array[-10:])"
   ]
  },
  {
   "cell_type": "code",
   "execution_count": 23,
   "metadata": {},
   "outputs": [
    {
     "name": "stderr",
     "output_type": "stream",
     "text": [
      "/Users/SophiaRahnke/opt/miniconda3/envs/py36test/lib/python3.6/site-packages/ipykernel_launcher.py:6: RuntimeWarning: invalid value encountered in less\n",
      "  \n",
      "/Users/SophiaRahnke/opt/miniconda3/envs/py36test/lib/python3.6/site-packages/ipykernel_launcher.py:6: RuntimeWarning: invalid value encountered in greater\n",
      "  \n",
      "/Users/SophiaRahnke/opt/miniconda3/envs/py36test/lib/python3.6/site-packages/ipykernel_launcher.py:7: RuntimeWarning: invalid value encountered in less\n",
      "  import sys\n",
      "/Users/SophiaRahnke/opt/miniconda3/envs/py36test/lib/python3.6/site-packages/ipykernel_launcher.py:7: RuntimeWarning: invalid value encountered in greater\n",
      "  import sys\n",
      "/Users/SophiaRahnke/opt/miniconda3/envs/py36test/lib/python3.6/site-packages/ipykernel_launcher.py:8: RuntimeWarning: invalid value encountered in less\n",
      "  \n",
      "/Users/SophiaRahnke/opt/miniconda3/envs/py36test/lib/python3.6/site-packages/ipykernel_launcher.py:9: RuntimeWarning: invalid value encountered in greater\n",
      "  if __name__ == '__main__':\n"
     ]
    }
   ],
   "source": [
    "# Define a small threshold for near-zero values\n",
    "predator_extinction = 0.001\n",
    "prey_extinction = 0.001\n",
    "\n",
    "# Create masks with a threshold for near-zero conditions (representing local extirpation)\n",
    "mask_P_dominated = (H_last < prey_extinction) & (P_last > predator_extinction) # Predator domination (H ≈ 0, P > 0)\n",
    "mask_H_dominated = (P_last < predator_extinction) & (H_last > prey_extinction) # Prey domination (H > 0, P ≈ 0)\n",
    "mask_extinction = (H_last < prey_extinction) & (P_last < predator_extinction)  # Extinction (H ≈ 0, P ≈ 0)\n",
    "mask_coexistence = (H_last > prey_extinction) & (P_last > predator_extinction)  # Coexistence (H > 0, P > 0)\n",
    "\n",
    "# Create an empty array\n",
    "region_data = np.zeros((size, size))\n",
    "\n",
    "# Populate the region_data array with the mask values\n",
    "region_data[mask_extinction] = 1\n",
    "region_data[mask_P_dominated] = 2\n",
    "region_data[mask_H_dominated] = 3\n",
    "region_data[mask_coexistence] = 4"
   ]
  },
  {
   "cell_type": "code",
   "execution_count": 24,
   "metadata": {},
   "outputs": [
    {
     "data": {
      "image/png": "[encoded data removed]",
      "text/plain": [
       "<Figure size 720x504 with 1 Axes>"
      ]
     },
     "metadata": {
      "needs_background": "light"
     },
     "output_type": "display_data"
    }
   ],
   "source": [
    "# Create a custom colormap for qualitative regions\n",
    "cmap = ListedColormap(['purple', 'gray', 'green', 'lightblue'])\n",
    "\n",
    "\n",
    "# Create figure with the colormap\n",
    "plt.figure(figsize=(10, 7))\n",
    "plt.imshow(region_data, cmap=cmap, extent=[min(c_array), max(c_array), min(b_array), max(b_array)], origin='lower', aspect='auto', alpha=0.5)\n",
    "\n",
    "# Add text annotations for the different regions\n",
    "#plt.text(0.45, 0.5, 'Predator Only', color='darkviolet', fontsize=15, fontweight='bold', transform=plt.gca().transAxes)\n",
    "#plt.text(0.07, 0.5, 'Coexistence', color='royalblue', fontsize=15, fontweight='bold', transform=plt.gca().transAxes)\n",
    "\n",
    "# Label the axes and add title\n",
    "plt.xlabel(\"$c$ values\", fontsize = 16)\n",
    "plt.ylabel(\"$b$ values\", fontsize = 16)\n",
    "plt.xticks(fontsize = 14)\n",
    "plt.yticks(fontsize = 14)\n",
    "\n",
    "plt.show()"
   ]
  },
  {
   "cell_type": "code",
   "execution_count": null,
   "metadata": {},
   "outputs": [],
   "source": []
  },
  {
   "cell_type": "code",
   "execution_count": 25,
   "metadata": {},
   "outputs": [
    {
     "data": {
      "image/png": "[encoded data removed]",
      "text/plain": [
       "<Figure size 720x504 with 1 Axes>"
      ]
     },
     "metadata": {
      "needs_background": "light"
     },
     "output_type": "display_data"
    }
   ],
   "source": [
    "import numpy as np\n",
    "import matplotlib.pyplot as plt\n",
    "from matplotlib.colors import ListedColormap, BoundaryNorm\n",
    "\n",
    "# Define your arrays (ensure these are correct from your model results)\n",
    "size = 10\n",
    "b_array = np.linspace(0, 1.0, size)\n",
    "c_array = np.linspace(0, 1.0, size)\n",
    "\n",
    "# Define thresholds and masks\n",
    "predator_extinction = 0.001\n",
    "prey_extinction = 0.001\n",
    "\n",
    "# Initialize region data (assuming H_last and P_last are available from model runs)\n",
    "region_data = np.zeros((size, size))\n",
    "region_data[mask_extinction] = 1\n",
    "region_data[mask_P_dominated] = 2\n",
    "region_data[mask_H_dominated] = 3\n",
    "region_data[mask_coexistence] = 4\n",
    "\n",
    "# Custom colormap and boundaries\n",
    "cmap = ListedColormap(['purple', 'gray', 'green', 'lightblue'])\n",
    "norm = BoundaryNorm([0.5, 1.5, 2.5, 3.5, 4.5], cmap.N)\n",
    "\n",
    "# Plot\n",
    "plt.figure(figsize=(10, 7))\n",
    "plt.imshow(region_data, cmap=cmap, norm=norm, extent=[min(c_array), max(c_array), min(b_array), max(b_array)], \n",
    "           origin='lower', aspect='auto', alpha=0.7)\n",
    "\n",
    "# Adding annotations\n",
    "texts = {\n",
    "    1: ('Extinction', 'purple'),\n",
    "    2: ('Predator Dominated', 'gray'),\n",
    "    3: ('Prey Dominated', 'green'),\n",
    "    4: ('Coexistence', 'lightblue')\n",
    "}\n",
    "\n",
    "for label, color in texts.items():\n",
    "    plt.text(0.1, 0.1 * label, texts[label][0], color=texts[label][1], \n",
    "             fontsize=14, fontweight='bold', ha='center', va='center', transform=plt.gca().transAxes)\n",
    "\n",
    "# Axis labels\n",
    "plt.xlabel(\"$c$ values\", fontsize=16)\n",
    "plt.ylabel(\"$b$ values\", fontsize=16)\n",
    "plt.xticks(fontsize=14)\n",
    "plt.yticks(fontsize=14)\n",
    "\n",
    "plt.show()"
   ]
  },
  {
   "cell_type": "markdown",
   "metadata": {},
   "source": [
    "### Define conditions"
   ]
  },
  {
   "cell_type": "code",
   "execution_count": 32,
   "metadata": {},
   "outputs": [],
   "source": [
    "# Initialize parameters\n",
    "size = 100  # Resolution of b and c grid\n",
    "b_array = np.linspace(0, 1.0, size)  # Adjusted range for b values\n",
    "c_array = np.linspace(0, 1.0, size)  # Adjusted range for c values\n",
    "\n",
    "# Define thresholds for qualitative classification\n",
    "prey_extinction = 0.001\n",
    "predator_extinction = 0.001\n",
    "\n",
    "# Arrays to store results\n",
    "H_last = np.zeros((size, size))\n",
    "P_last = np.zeros((size, size))\n",
    "region_data = np.zeros((size, size))"
   ]
  },
  {
   "cell_type": "markdown",
   "metadata": {},
   "source": [
    "### Run Loop"
   ]
  },
  {
   "cell_type": "code",
   "execution_count": 33,
   "metadata": {},
   "outputs": [
    {
     "name": "stderr",
     "output_type": "stream",
     "text": [
      "/Users/SophiaRahnke/opt/miniconda3/envs/py36test/lib/python3.6/site-packages/ipykernel_launcher.py:31: RuntimeWarning: overflow encountered in double_scalars\n",
      "/Users/SophiaRahnke/opt/miniconda3/envs/py36test/lib/python3.6/site-packages/ipykernel_launcher.py:32: RuntimeWarning: overflow encountered in double_scalars\n",
      "/Users/SophiaRahnke/opt/miniconda3/envs/py36test/lib/python3.6/site-packages/ipykernel_launcher.py:55: RuntimeWarning: invalid value encountered in double_scalars\n",
      "/Users/SophiaRahnke/opt/miniconda3/envs/py36test/lib/python3.6/site-packages/ipykernel_launcher.py:29: RuntimeWarning: invalid value encountered in double_scalars\n",
      "/Users/SophiaRahnke/opt/miniconda3/envs/py36test/lib/python3.6/site-packages/ipykernel_launcher.py:31: RuntimeWarning: invalid value encountered in double_scalars\n",
      "/Users/SophiaRahnke/opt/miniconda3/envs/py36test/lib/python3.6/site-packages/ipykernel_launcher.py:32: RuntimeWarning: invalid value encountered in double_scalars\n",
      "/Users/SophiaRahnke/opt/miniconda3/envs/py36test/lib/python3.6/site-packages/ipykernel_launcher.py:29: RuntimeWarning: overflow encountered in exp\n",
      "/Users/SophiaRahnke/opt/miniconda3/envs/py36test/lib/python3.6/site-packages/ipykernel_launcher.py:31: RuntimeWarning: overflow encountered in exp\n",
      "/Users/SophiaRahnke/opt/miniconda3/envs/py36test/lib/python3.6/site-packages/ipykernel_launcher.py:32: RuntimeWarning: overflow encountered in exp\n",
      "/Users/SophiaRahnke/opt/miniconda3/envs/py36test/lib/python3.6/site-packages/ipykernel_launcher.py:29: RuntimeWarning: overflow encountered in double_scalars\n"
     ]
    }
   ],
   "source": [
    "# Run the model across all combinations of b and c\n",
    "for i, b in enumerate(b_array):\n",
    "    for j, c in enumerate(c_array):\n",
    "        parameters_dict['b'] = b\n",
    "        parameters_dict['c'] = c\n",
    "        H_array, P_array, PH_array, N_array, H_harvest_array, P_harvest_array, grazing_array = run_model(H0, P0, PH0, N0, parameters_dict)\n",
    "        \n",
    "        # Calculate the mean of the last 10 time points for H and P\n",
    "        H_last[i, j] = np.mean(H_array[-10:])\n",
    "        P_last[i, j] = np.mean(P_array[-10:])\n",
    "        \n",
    "        # Classify outcomes\n",
    "        if H_last[i, j] < prey_extinction and P_last[i, j] > predator_extinction:\n",
    "            region_data[i, j] = 1  # Predator-dominated\n",
    "        elif P_last[i, j] < predator_extinction and H_last[i, j] > prey_extinction:\n",
    "            region_data[i, j] = 2  # Prey-dominated\n",
    "        elif H_last[i, j] > prey_extinction and P_last[i, j] > predator_extinction:\n",
    "            region_data[i, j] = 3  # Coexistence"
   ]
  },
  {
   "cell_type": "code",
   "execution_count": 57,
   "metadata": {},
   "outputs": [],
   "source": [
    "np.save('data/bc_qualitative_H_last.npy', H_last)\n",
    "np.save('data/bc_qualitative_P_last.npy', P_last)\n",
    "np.save('data/bc_qualitative_region_data.npy', region_data)"
   ]
  },
  {
   "cell_type": "code",
   "execution_count": 58,
   "metadata": {},
   "outputs": [],
   "source": [
    "H_last = np.load('data/bc_qualitative_H_last.npy')\n",
    "P_last = np.load('data/bc_qualitative_P_last.npy')\n",
    "region_data = np.load('data/bc_qualitative_region_data.npy')"
   ]
  },
  {
   "cell_type": "markdown",
   "metadata": {},
   "source": [
    "### Plot with Mask"
   ]
  },
  {
   "cell_type": "code",
   "execution_count": 59,
   "metadata": {},
   "outputs": [
    {
     "data": {
      "image/png": "[encoded data removed]",
      "text/plain": [
       "<Figure size 720x504 with 1 Axes>"
      ]
     },
     "metadata": {
      "needs_background": "light"
     },
     "output_type": "display_data"
    }
   ],
   "source": [
    "# Custom colormap\n",
    "cmap = ListedColormap(['purple', 'green', 'lightblue'])\n",
    "norm = BoundaryNorm([0.5, 1.5, 2.5, 3.5], cmap.N)\n",
    "\n",
    "# Plot results\n",
    "plt.figure(figsize=(10, 7))\n",
    "plt.imshow(region_data, cmap=cmap, norm=norm, extent=[min(c_array), max(c_array), min(b_array), max(b_array)], \n",
    "           origin='lower', aspect='auto', alpha=0.7)\n",
    "\n",
    "# Labels and titles\n",
    "plt.xlabel('$c$ values', fontsize=16)\n",
    "plt.ylabel('$b$ values', fontsize=16)\n",
    "plt.title('Qualitative Outcomes Across $b$ and $c$ Values', fontsize=18)\n",
    "plt.xticks(fontsize=14)\n",
    "plt.yticks(fontsize=14)\n",
    "\n",
    "# Add a legend-like annotation\n",
    "colors = ['purple', 'green', 'lightblue']\n",
    "labels = ['Predator-Dominated', 'Prey-Dominated', 'Coexistence']\n",
    "for idx, (color, label) in enumerate(zip(colors, labels)):\n",
    "    plt.text(1.05, 0.1 * idx + 0.4, label, color=color, transform=plt.gca().transAxes, fontsize=14, fontweight='bold')\n",
    "\n",
    "plt.show()"
   ]
  },
  {
   "cell_type": "code",
   "execution_count": null,
   "metadata": {},
   "outputs": [],
   "source": []
  },
  {
   "cell_type": "code",
   "execution_count": null,
   "metadata": {},
   "outputs": [],
   "source": []
  },
  {
   "cell_type": "code",
   "execution_count": 79,
   "metadata": {},
   "outputs": [],
   "source": [
    "# Initialize parameters\n",
    "size = 5  # Resolution of b and c grid\n",
    "b_array = np.linspace(0, 1.0, size) / 365  # Adjusted range for b values\n",
    "c_array = np.linspace(0, 1.0, size) / 365 # Adjusted range for c values\n",
    "\n",
    "# Define thresholds for qualitative classification\n",
    "prey_extinction = 0.001\n",
    "predator_extinction = 0.001\n",
    "\n",
    "# Arrays to store results\n",
    "H_last = np.zeros((size, size))\n",
    "P_last = np.zeros((size, size))\n",
    "region_data1 = np.zeros((size, size))"
   ]
  },
  {
   "cell_type": "code",
   "execution_count": 80,
   "metadata": {},
   "outputs": [],
   "source": [
    " #Run the model across all combinations of b and c\n",
    "for i, b in enumerate(b_array):\n",
    "    for j, c in enumerate(c_array):\n",
    "        parameters_dict['b'] = b\n",
    "        parameters_dict['c'] = c\n",
    "        H_array, P_array, PH_array, N_array, H_harvest_array, P_harvest_array, grazing_array = run_model(H0, P0, PH0, N0, parameters_dict)\n",
    "        \n",
    "        # Calculate the mean of the last 10 time points for H and P\n",
    "        H_last[i, j] = np.mean(H_array[-10:])\n",
    "        P_last[i, j] = np.mean(P_array[-10:])\n",
    "        \n",
    "        # Classify outcomes\n",
    "        if H_last[i, j] < prey_extinction and P_last[i, j] > predator_extinction:\n",
    "            region_data1[i, j] = 1  # Predator-dominated\n",
    "        elif P_last[i, j] < predator_extinction and H_last[i, j] > prey_extinction:\n",
    "            region_data1[i, j] = 2  # Prey-dominated\n",
    "        elif H_last[i, j] > prey_extinction and P_last[i, j] > predator_extinction:\n",
    "            region_data1[i, j] = 3  # Coexistence"
   ]
  },
  {
   "cell_type": "code",
   "execution_count": 82,
   "metadata": {},
   "outputs": [
    {
     "data": {
      "image/png": "[encoded data removed]",
      "text/plain": [
       "<Figure size 720x504 with 1 Axes>"
      ]
     },
     "metadata": {
      "needs_background": "light"
     },
     "output_type": "display_data"
    }
   ],
   "source": [
    "# Custom colormap\n",
    "cmap = ListedColormap(['purple', 'green', 'lightblue'])\n",
    "norm = BoundaryNorm([0.5, 1.5, 2.5, 3.5], cmap.N)\n",
    "\n",
    "# Plot results\n",
    "plt.figure(figsize=(10, 7))\n",
    "plt.imshow(region_data1, cmap=cmap, norm=norm, extent=[min(c_array*365), max(c_array*365), min(b_array*365), max(b_array*365)], \n",
    "           origin='lower', aspect='auto', alpha=0.7)\n",
    "\n",
    "# Labels and titles\n",
    "plt.xlabel('$c$ values', fontsize=16)\n",
    "plt.ylabel('$b$ values', fontsize=16)\n",
    "plt.title('Qualitative Outcomes Across $b$ and $c$ Values', fontsize=18)\n",
    "plt.xticks(fontsize=14)\n",
    "plt.yticks(fontsize=14)\n",
    "\n",
    "# Add a legend-like annotation\n",
    "colors = ['purple', 'green', 'lightblue']\n",
    "labels = ['Prey-Extirpation', 'Predator-Extirpated', 'Coexistence']\n",
    "for idx, (color, label) in enumerate(zip(colors, labels)):\n",
    "    plt.text(1.05, 0.1 * idx + 0.4, label, color=color, transform=plt.gca().transAxes, fontsize=14, fontweight='bold')\n",
    "\n",
    "plt.show()"
   ]
  },
  {
   "cell_type": "code",
   "execution_count": 83,
   "metadata": {},
   "outputs": [],
   "source": [
    "np.save('data/bc_qualitative_H_last1.npy', H_last)\n",
    "np.save('data/bc_qualitative_P_last1.npy', P_last)\n",
    "np.save('data/bc_qualitative_region_data1.npy', region_data1)"
   ]
  },
  {
   "cell_type": "code",
   "execution_count": 84,
   "metadata": {},
   "outputs": [],
   "source": [
    "H_last = np.load('data/bc_qualitative_H_last1.npy')\n",
    "P_last = np.load('data/bc_qualitative_P_last1.npy')\n",
    "region_data1 = np.load('data/bc_qualitative_region_data1.npy')"
   ]
  },
  {
   "cell_type": "markdown",
   "metadata": {},
   "source": [
    "# For real one"
   ]
  },
  {
   "cell_type": "code",
   "execution_count": 73,
   "metadata": {},
   "outputs": [],
   "source": [
    "# Adjust b_array and c_array by dividing by 365\n",
    "size = 200\n",
    "b_array = np.linspace(0, 1.0, size) / 365\n",
    "c_array = np.linspace(0, 1.0, size) / 365\n",
    "\n",
    "# Initialize arrays to store results\n",
    "H_last = np.zeros((size, size))\n",
    "P_last = np.zeros((size, size))\n",
    "region_data = np.zeros((size, size))\n",
    "\n",
    "# Run the model across all combinations of b and c\n",
    "for i, b in enumerate(b_array):\n",
    "    for j, c in enumerate(c_array):\n",
    "        parameters_dict['b'] = b\n",
    "        parameters_dict['c'] = c\n",
    "        H_array, P_array, PH_array, N_array, H_harvest_array, P_harvest_array, grazing_array = run_model(H0, P0, PH0, N0, parameters_dict)\n",
    "        \n",
    "        # Calculate the mean of the last 10 time points for H and P\n",
    "        H_last[i, j] = np.mean(H_array[-10:])\n",
    "        P_last[i, j] = np.mean(P_array[-10:])\n",
    "        \n",
    "        # Classify outcomes based on relative abundance\n",
    "        if H_last[i, j] > P_last[i, j]:\n",
    "            region_data[i, j] = 1  # Prey-dominated (H > P)\n",
    "        elif P_last[i, j] > H_last[i, j]:\n",
    "            region_data[i, j] = 2  # Predator-dominated (P > H)\n",
    "        else:\n",
    "            region_data[i, j] = 3  # Equal abundance (H ≈ P)"
   ]
  },
  {
   "cell_type": "code",
   "execution_count": 74,
   "metadata": {},
   "outputs": [],
   "source": [
    "np.save('data/bc_qualitative_H_last2.npy', H_last)\n",
    "np.save('data/bc_qualitative_P_last2.npy', P_last)\n",
    "np.save('data/bc_qualitative_region_data2.npy', region_data)"
   ]
  },
  {
   "cell_type": "code",
   "execution_count": 77,
   "metadata": {},
   "outputs": [],
   "source": [
    "H_last = np.load('data/bc_qualitative_H_last2.npy')\n",
    "P_last = np.load('data/bc_qualitative_P_last2.npy')\n",
    "region_data2 = np.load('data/bc_qualitative_region_data2.npy')"
   ]
  },
  {
   "cell_type": "code",
   "execution_count": 76,
   "metadata": {},
   "outputs": [
    {
     "data": {
      "image/png": "[encoded data removed]",
      "text/plain": [
       "<Figure size 720x504 with 1 Axes>"
      ]
     },
     "metadata": {
      "needs_background": "light"
     },
     "output_type": "display_data"
    }
   ],
   "source": [
    "# Custom colormap\n",
    "cmap = ListedColormap(['green', 'purple', 'lightblue'])\n",
    "norm = BoundaryNorm([0.5, 1.5, 2.5, 3.5], cmap.N)\n",
    "\n",
    "# Plot results\n",
    "plt.figure(figsize=(10, 7))\n",
    "plt.imshow(region_data, cmap=cmap, norm=norm, extent=[min(c_array*365), max(c_array*365), min(b_array*365), max(b_array*365)], \n",
    "           origin='lower', aspect='auto', alpha=0.7)\n",
    "\n",
    "# Labels and titles\n",
    "plt.xlabel('$c$ values', fontsize=16)\n",
    "plt.ylabel('$b$ values', fontsize=16)\n",
    "plt.title('Qualitative Outcomes Across $b$ and $c$ Values', fontsize=18)\n",
    "plt.xticks(fontsize=14)\n",
    "plt.yticks(fontsize=14)\n",
    "\n",
    "# Add a legend-like annotation\n",
    "colors = ['green', 'purple']\n",
    "labels = ['Prey-Dominated', 'Predator-Dominated']\n",
    "for idx, (color, label) in enumerate(zip(colors, labels)):\n",
    "    plt.text(1.05, 0.1 * idx + 0.4, label, color=color, transform=plt.gca().transAxes, fontsize=14, fontweight='bold')\n",
    "\n",
    "plt.show()"
   ]
  },
  {
   "cell_type": "code",
   "execution_count": null,
   "metadata": {},
   "outputs": [],
   "source": []
  },
  {
   "cell_type": "code",
   "execution_count": 90,
   "metadata": {},
   "outputs": [
    {
     "data": {
      "image/png": "[encoded data removed]",
      "text/plain": [
       "<Figure size 1296x576 with 2 Axes>"
      ]
     },
     "metadata": {
      "needs_background": "light"
     },
     "output_type": "display_data"
    }
   ],
   "source": [
    "# Define custom colormaps\n",
    "cmap1 = ListedColormap(['purple', 'green', 'lightblue'])  # Prey extirpated, predator extirpated, coexistence\n",
    "norm1 = BoundaryNorm([0.5, 1.5, 2.5, 3.5], cmap1.N)\n",
    "\n",
    "cmap2 = ListedColormap(['green', 'purple', 'lightblue'])  # Prey dominated, predator dominated, equal abundance\n",
    "norm2 = BoundaryNorm([0.5, 1.5, 2.5, 3.5], cmap2.N)\n",
    "\n",
    "# Define the figure and subplots\n",
    "fig, axes = plt.subplots(1, 2, figsize=(18, 8))\n",
    "\n",
    "# Subplot 1: Extirpation outcomes\n",
    "axes[0].imshow(region_data1, cmap=cmap1, norm=norm1, \n",
    "               extent=[min(c_array*365), max(c_array*365), min(b_array*365), max(b_array*365)], \n",
    "               origin='lower', aspect='auto', alpha=0.7)\n",
    "axes[0].set_title('Extirpation Outcomes', fontsize=18)\n",
    "axes[0].set_xlabel('$c$ value', fontsize=16)\n",
    "axes[0].set_ylabel('$b$ value', fontsize=16)\n",
    "axes[0].tick_params(axis='both', labelsize=14)\n",
    "\n",
    "# Legend for subplot 1\n",
    "colors1 = ['purple', 'green', 'lightblue']\n",
    "labels1 = ['Prey-Extirpated', 'Predator-Extirpated', 'Coexistence']\n",
    "for idx, (color, label) in enumerate(zip(colors1, labels1)):\n",
    "    axes[0].text(0.02, 0.85 - idx * 0.1, label, color=color, transform=axes[0].transAxes, fontsize=14, fontweight='bold')\n",
    "\n",
    "# Subplot 2: Dominance outcomes\n",
    "axes[1].imshow(region_data2, cmap=cmap2, norm=norm2, \n",
    "               extent=[min(c_array*365), max(c_array*365), min(b_array*365), max(b_array*365)], \n",
    "               origin='lower', aspect='auto', alpha=0.7)\n",
    "axes[1].set_title('Dominance Outcomes', fontsize=18)\n",
    "axes[1].set_xlabel('$c$ value', fontsize=16)\n",
    "axes[1].tick_params(axis='both', labelsize=14)\n",
    "\n",
    "# Legend for subplot 2\n",
    "colors2 = ['green', 'purple']\n",
    "labels2 = ['Prey-Dominated', 'Predator-Dominated']\n",
    "for idx, (color, label) in enumerate(zip(colors2, labels2)):\n",
    "    axes[1].text(0.02, 0.85 - idx * 0.1, label, color=color, transform=axes[1].transAxes, fontsize=14, fontweight='bold')\n",
    "\n",
    "plt.tight_layout()\n",
    "plt.show()"
   ]
  },
  {
   "cell_type": "code",
   "execution_count": null,
   "metadata": {},
   "outputs": [],
   "source": []
  },
  {
   "cell_type": "code",
   "execution_count": null,
   "metadata": {},
   "outputs": [],
   "source": []
  },
  {
   "cell_type": "code",
   "execution_count": null,
   "metadata": {},
   "outputs": [],
   "source": []
  },
  {
   "cell_type": "code",
   "execution_count": 94,
   "metadata": {},
   "outputs": [],
   "source": [
    "K_H_array = np.linspace(1, 500, size) \n",
    "K_P_array = np.linspace(1, 100, size) "
   ]
  },
  {
   "cell_type": "code",
   "execution_count": 91,
   "metadata": {},
   "outputs": [],
   "source": [
    "H_last2 = np.load('data/bc_qualitative_H_last2.npy')\n",
    "P_last2 = np.load('data/bc_qualitative_P_last2.npy')\n",
    "region_data2 = np.load('data/bc_qualitative_region_data2.npy')"
   ]
  },
  {
   "cell_type": "code",
   "execution_count": 92,
   "metadata": {},
   "outputs": [],
   "source": [
    "H_last1 = np.load('data/KP_KH_qualitative_H_last2.npy')\n",
    "P_last1 = np.load('data/KP_KH_qualitative_P_last2.npy')\n",
    "region_data1 = np.load('data/KP_KH_qualitative_region_data2.npy')"
   ]
  },
  {
   "cell_type": "code",
   "execution_count": 95,
   "metadata": {},
   "outputs": [
    {
     "data": {
      "image/png": "[encoded data removed]",
      "text/plain": [
       "<Figure size 1296x576 with 2 Axes>"
      ]
     },
     "metadata": {
      "needs_background": "light"
     },
     "output_type": "display_data"
    }
   ],
   "source": [
    "# Custom colormaps and normalization\n",
    "cmap = ListedColormap(['green', 'purple', 'lightblue'])\n",
    "norm = BoundaryNorm([0.5, 1.5, 2.5, 3.5], cmap.N)\n",
    "\n",
    "# Define the figure and subplots\n",
    "fig, axes = plt.subplots(1, 2, figsize=(18, 8))\n",
    "\n",
    "# Subplot 1: Qualitative outcomes across $K_H$ and $K_P$\n",
    "axes[0].imshow(region_data1, cmap=cmap, norm=norm, \n",
    "               extent=[min(K_H_array), max(K_H_array), min(K_P_array), max(K_P_array)], \n",
    "               origin='lower', aspect='auto', alpha=0.7)\n",
    "axes[0].set_title('Qualitative Outcomes Across $K_H$ and $K_P$ Values', fontsize=18)\n",
    "axes[0].set_xlabel('$K_H$ values', fontsize=16)\n",
    "axes[0].set_ylabel('$K_P$ values', fontsize=16)\n",
    "axes[0].tick_params(axis='both', labelsize=14)\n",
    "\n",
    "# Adjusted legend for subplot 1\n",
    "colors = ['green', 'purple']\n",
    "labels = ['Prey-Dominated', 'Predator-Dominated']\n",
    "for idx, (color, label) in enumerate(zip(colors, labels)):\n",
    "    axes[0].text(0.02, 0.85 - idx * 0.1, label, color=color, transform=axes[0].transAxes, \n",
    "                 fontsize=14, fontweight='bold', ha='left', va='center')\n",
    "\n",
    "# Subplot 2: Qualitative outcomes across $b$ and $c$\n",
    "axes[1].imshow(region_data2, cmap=cmap, norm=norm, \n",
    "               extent=[min(c_array * 365), max(c_array * 365), min(b_array * 365), max(b_array * 365)], \n",
    "               origin='lower', aspect='auto', alpha=0.7)\n",
    "axes[1].set_title('Qualitative Outcomes Across $b$ and $c$ Values', fontsize=18)\n",
    "axes[1].set_xlabel('$c$ values', fontsize=16)\n",
    "axes[1].set_ylabel('$b$ values', fontsize=16)\n",
    "axes[1].tick_params(axis='both', labelsize=14)\n",
    "\n",
    "# Adjusted legend for subplot 2\n",
    "for idx, (color, label) in enumerate(zip(colors, labels)):\n",
    "    axes[1].text(0.02, 0.85 - idx * 0.1, label, color=color, transform=axes[1].transAxes, \n",
    "                 fontsize=14, fontweight='bold', ha='left', va='center')\n",
    "\n",
    "plt.tight_layout()\n",
    "plt.show()"
   ]
  },
  {
   "cell_type": "code",
   "execution_count": null,
   "metadata": {},
   "outputs": [],
   "source": []
  },
  {
   "cell_type": "code",
   "execution_count": null,
   "metadata": {},
   "outputs": [],
   "source": []
  },
  {
   "cell_type": "code",
   "execution_count": null,
   "metadata": {},
   "outputs": [],
   "source": []
  },
  {
   "cell_type": "code",
   "execution_count": null,
   "metadata": {},
   "outputs": [],
   "source": []
  },
  {
   "cell_type": "code",
   "execution_count": null,
   "metadata": {},
   "outputs": [],
   "source": []
  }
 ],
 "metadata": {
  "kernelspec": {
   "display_name": "py36test",
   "language": "python",
   "name": "py36test"
  },
  "language_info": {
   "codemirror_mode": {
    "name": "ipython",
    "version": 3
   },
   "file_extension": ".py",
   "mimetype": "text/x-python",
   "name": "python",
   "nbconvert_exporter": "python",
   "pygments_lexer": "ipython3",
   "version": "3.6.10"
  }
 },
 "nbformat": 4,
 "nbformat_minor": 4
}
